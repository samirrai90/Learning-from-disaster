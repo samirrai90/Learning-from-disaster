{
 "cells": [
  {
   "cell_type": "code",
   "execution_count": 1,
   "id": "collectible-services",
   "metadata": {
    "_cell_guid": "b1076dfc-b9ad-4769-8c92-a6c4dae69d19",
    "_uuid": "8f2839f25d086af736a60e9eeb907d3b93b6e0e5",
    "execution": {
     "iopub.execute_input": "2021-06-09T18:56:38.359895Z",
     "iopub.status.busy": "2021-06-09T18:56:38.358981Z",
     "iopub.status.idle": "2021-06-09T18:56:39.405957Z",
     "shell.execute_reply": "2021-06-09T18:56:39.405137Z",
     "shell.execute_reply.started": "2021-06-09T13:19:51.12455Z"
    },
    "papermill": {
     "duration": 1.106372,
     "end_time": "2021-06-09T18:56:39.406140",
     "exception": false,
     "start_time": "2021-06-09T18:56:38.299768",
     "status": "completed"
    },
    "tags": []
   },
   "outputs": [
    {
     "name": "stdout",
     "output_type": "stream",
     "text": [
      "/kaggle/input/titanic/train.csv\n",
      "/kaggle/input/titanic/test.csv\n",
      "/kaggle/input/titanic/gender_submission.csv\n"
     ]
    }
   ],
   "source": [
    "import numpy as np \n",
    "import pandas as pd\n",
    "import seaborn as sns\n",
    "import os\n",
    "for dirname, _, filenames in os.walk('/kaggle/input'):\n",
    "    for filename in filenames:\\\n",
    "        print(os.path.join(dirname, filename))"
   ]
  },
  {
   "cell_type": "code",
   "execution_count": 2,
   "id": "actual-atlanta",
   "metadata": {
    "execution": {
     "iopub.execute_input": "2021-06-09T18:56:39.521641Z",
     "iopub.status.busy": "2021-06-09T18:56:39.520977Z",
     "iopub.status.idle": "2021-06-09T18:56:39.524217Z",
     "shell.execute_reply": "2021-06-09T18:56:39.523673Z",
     "shell.execute_reply.started": "2021-06-09T13:19:51.141741Z"
    },
    "papermill": {
     "duration": 0.064694,
     "end_time": "2021-06-09T18:56:39.524379",
     "exception": false,
     "start_time": "2021-06-09T18:56:39.459685",
     "status": "completed"
    },
    "tags": []
   },
   "outputs": [],
   "source": [
    "%matplotlib inline\n",
    "import matplotlib as mpl\n",
    "import matplotlib.pyplot as plt\n",
    "mpl.rc('axes', labelsize=14)\n",
    "mpl.rc('xtick', labelsize=12)\n",
    "mpl.rc('ytick', labelsize=12)\n",
    "np.random.seed(42)"
   ]
  },
  {
   "cell_type": "markdown",
   "id": "abroad-africa",
   "metadata": {
    "papermill": {
     "duration": 0.052117,
     "end_time": "2021-06-09T18:56:39.628546",
     "exception": false,
     "start_time": "2021-06-09T18:56:39.576429",
     "status": "completed"
    },
    "tags": []
   },
   "source": [
    "Machine Learning Project Checklist \n",
    "\n",
    "1. Look at the big picture and frame the problem\n",
    "2. Get the data\n",
    "3. Explore the data to gain insights\n",
    "4. Prepare the data for Machine Learning algorithms\n",
    "5. Select and Train Model\n",
    "6. Fine-tune your model\n"
   ]
  },
  {
   "cell_type": "markdown",
   "id": "potential-sierra",
   "metadata": {
    "papermill": {
     "duration": 0.051825,
     "end_time": "2021-06-09T18:56:39.732872",
     "exception": false,
     "start_time": "2021-06-09T18:56:39.681047",
     "status": "completed"
    },
    "tags": []
   },
   "source": [
    "# 1. Frame the problem\n",
    "\n",
    "The task is to find out who survived the disaster given a set of details about a passenger on the titanic. An output of 1, if they survived and 0, if they hadn't survived. This is a supervised problem and a classifcation task."
   ]
  },
  {
   "cell_type": "code",
   "execution_count": 3,
   "id": "fixed-start",
   "metadata": {
    "execution": {
     "iopub.execute_input": "2021-06-09T18:56:39.842502Z",
     "iopub.status.busy": "2021-06-09T18:56:39.841650Z",
     "iopub.status.idle": "2021-06-09T18:56:39.916696Z",
     "shell.execute_reply": "2021-06-09T18:56:39.917270Z",
     "shell.execute_reply.started": "2021-06-09T13:19:51.156226Z"
    },
    "papermill": {
     "duration": 0.132298,
     "end_time": "2021-06-09T18:56:39.917569",
     "exception": false,
     "start_time": "2021-06-09T18:56:39.785271",
     "status": "completed"
    },
    "tags": []
   },
   "outputs": [
    {
     "ename": "NameError",
     "evalue": "name 'train_data' is not defined",
     "output_type": "error",
     "traceback": [
      "\u001b[0;31m---------------------------------------------------------------------------\u001b[0m",
      "\u001b[0;31mNameError\u001b[0m                                 Traceback (most recent call last)",
      "\u001b[0;32m<ipython-input-3-6e0d129c3993>\u001b[0m in \u001b[0;36m<module>\u001b[0;34m\u001b[0m\n\u001b[0;32m----> 1\u001b[0;31m \u001b[0msurvived\u001b[0m \u001b[0;34m=\u001b[0m \u001b[0;34m(\u001b[0m\u001b[0mtrain_data\u001b[0m\u001b[0;34m.\u001b[0m\u001b[0mSurvived\u001b[0m \u001b[0;34m==\u001b[0m \u001b[0;36m1\u001b[0m\u001b[0;34m)\u001b[0m\u001b[0;34m\u001b[0m\u001b[0;34m\u001b[0m\u001b[0m\n\u001b[0m\u001b[1;32m      2\u001b[0m \u001b[0msurvival_rate\u001b[0m \u001b[0;34m=\u001b[0m \u001b[0msum\u001b[0m\u001b[0;34m(\u001b[0m\u001b[0msurvived\u001b[0m\u001b[0;34m)\u001b[0m\u001b[0;34m/\u001b[0m\u001b[0mlen\u001b[0m\u001b[0;34m(\u001b[0m\u001b[0msurvived\u001b[0m\u001b[0;34m)\u001b[0m\u001b[0;34m\u001b[0m\u001b[0;34m\u001b[0m\u001b[0m\n\u001b[1;32m      3\u001b[0m \u001b[0mprint\u001b[0m\u001b[0;34m(\u001b[0m\u001b[0;34m\"% of passengers who survived\"\u001b[0m\u001b[0;34m,\u001b[0m \u001b[0msurvival_rate\u001b[0m\u001b[0;34m)\u001b[0m\u001b[0;34m\u001b[0m\u001b[0;34m\u001b[0m\u001b[0m\n",
      "\u001b[0;31mNameError\u001b[0m: name 'train_data' is not defined"
     ]
    }
   ],
   "source": [
    "survived = (train_data.Survived == 1)\n",
    "survival_rate = sum(survived)/len(survived)\n",
    "print(\"% of passengers who survived\", survival_rate)"
   ]
  },
  {
   "cell_type": "markdown",
   "id": "dependent-basic",
   "metadata": {
    "papermill": {
     "duration": 0.052915,
     "end_time": "2021-06-09T18:56:40.023922",
     "exception": false,
     "start_time": "2021-06-09T18:56:39.971007",
     "status": "completed"
    },
    "tags": []
   },
   "source": [
    "**Performance Measure** - data is not skewed so accuracy should be a reasonable performance measure."
   ]
  },
  {
   "cell_type": "markdown",
   "id": "great-begin",
   "metadata": {
    "papermill": {
     "duration": 0.053505,
     "end_time": "2021-06-09T18:56:40.131337",
     "exception": false,
     "start_time": "2021-06-09T18:56:40.077832",
     "status": "completed"
    },
    "tags": []
   },
   "source": [
    "# 2. Getting the Data"
   ]
  },
  {
   "cell_type": "code",
   "execution_count": 4,
   "id": "funky-paraguay",
   "metadata": {
    "execution": {
     "iopub.execute_input": "2021-06-09T18:56:40.241263Z",
     "iopub.status.busy": "2021-06-09T18:56:40.240179Z",
     "iopub.status.idle": "2021-06-09T18:56:40.281954Z",
     "shell.execute_reply": "2021-06-09T18:56:40.282459Z",
     "shell.execute_reply.started": "2021-06-09T13:19:51.176896Z"
    },
    "papermill": {
     "duration": 0.098517,
     "end_time": "2021-06-09T18:56:40.282672",
     "exception": false,
     "start_time": "2021-06-09T18:56:40.184155",
     "status": "completed"
    },
    "tags": []
   },
   "outputs": [],
   "source": [
    "train_data = pd.read_csv('/kaggle/input/titanic/train.csv', index_col=0)\n",
    "test_data = pd.read_csv('/kaggle/input/titanic/test.csv',index_col=0)"
   ]
  },
  {
   "cell_type": "markdown",
   "id": "frank-cursor",
   "metadata": {
    "execution": {
     "iopub.execute_input": "2021-05-27T13:06:16.151033Z",
     "iopub.status.busy": "2021-05-27T13:06:16.150608Z",
     "iopub.status.idle": "2021-05-27T13:06:16.155447Z",
     "shell.execute_reply": "2021-05-27T13:06:16.154307Z",
     "shell.execute_reply.started": "2021-05-27T13:06:16.151Z"
    },
    "papermill": {
     "duration": 0.053617,
     "end_time": "2021-06-09T18:56:40.389411",
     "exception": false,
     "start_time": "2021-06-09T18:56:40.335794",
     "status": "completed"
    },
    "tags": []
   },
   "source": [
    "## Quick look at the Data Structure"
   ]
  },
  {
   "cell_type": "code",
   "execution_count": 5,
   "id": "affiliated-debate",
   "metadata": {
    "execution": {
     "iopub.execute_input": "2021-06-09T18:56:40.499961Z",
     "iopub.status.busy": "2021-06-09T18:56:40.498973Z",
     "iopub.status.idle": "2021-06-09T18:56:40.524357Z",
     "shell.execute_reply": "2021-06-09T18:56:40.524874Z",
     "shell.execute_reply.started": "2021-06-09T13:19:52.583086Z"
    },
    "papermill": {
     "duration": 0.081955,
     "end_time": "2021-06-09T18:56:40.525092",
     "exception": false,
     "start_time": "2021-06-09T18:56:40.443137",
     "status": "completed"
    },
    "tags": []
   },
   "outputs": [
    {
     "data": {
      "text/html": [
       "<div>\n",
       "<style scoped>\n",
       "    .dataframe tbody tr th:only-of-type {\n",
       "        vertical-align: middle;\n",
       "    }\n",
       "\n",
       "    .dataframe tbody tr th {\n",
       "        vertical-align: top;\n",
       "    }\n",
       "\n",
       "    .dataframe thead th {\n",
       "        text-align: right;\n",
       "    }\n",
       "</style>\n",
       "<table border=\"1\" class=\"dataframe\">\n",
       "  <thead>\n",
       "    <tr style=\"text-align: right;\">\n",
       "      <th></th>\n",
       "      <th>Survived</th>\n",
       "      <th>Pclass</th>\n",
       "      <th>Name</th>\n",
       "      <th>Sex</th>\n",
       "      <th>Age</th>\n",
       "      <th>SibSp</th>\n",
       "      <th>Parch</th>\n",
       "      <th>Ticket</th>\n",
       "      <th>Fare</th>\n",
       "      <th>Cabin</th>\n",
       "      <th>Embarked</th>\n",
       "    </tr>\n",
       "    <tr>\n",
       "      <th>PassengerId</th>\n",
       "      <th></th>\n",
       "      <th></th>\n",
       "      <th></th>\n",
       "      <th></th>\n",
       "      <th></th>\n",
       "      <th></th>\n",
       "      <th></th>\n",
       "      <th></th>\n",
       "      <th></th>\n",
       "      <th></th>\n",
       "      <th></th>\n",
       "    </tr>\n",
       "  </thead>\n",
       "  <tbody>\n",
       "    <tr>\n",
       "      <th>1</th>\n",
       "      <td>0</td>\n",
       "      <td>3</td>\n",
       "      <td>Braund, Mr. Owen Harris</td>\n",
       "      <td>male</td>\n",
       "      <td>22.0</td>\n",
       "      <td>1</td>\n",
       "      <td>0</td>\n",
       "      <td>A/5 21171</td>\n",
       "      <td>7.2500</td>\n",
       "      <td>NaN</td>\n",
       "      <td>S</td>\n",
       "    </tr>\n",
       "    <tr>\n",
       "      <th>2</th>\n",
       "      <td>1</td>\n",
       "      <td>1</td>\n",
       "      <td>Cumings, Mrs. John Bradley (Florence Briggs Th...</td>\n",
       "      <td>female</td>\n",
       "      <td>38.0</td>\n",
       "      <td>1</td>\n",
       "      <td>0</td>\n",
       "      <td>PC 17599</td>\n",
       "      <td>71.2833</td>\n",
       "      <td>C85</td>\n",
       "      <td>C</td>\n",
       "    </tr>\n",
       "    <tr>\n",
       "      <th>3</th>\n",
       "      <td>1</td>\n",
       "      <td>3</td>\n",
       "      <td>Heikkinen, Miss. Laina</td>\n",
       "      <td>female</td>\n",
       "      <td>26.0</td>\n",
       "      <td>0</td>\n",
       "      <td>0</td>\n",
       "      <td>STON/O2. 3101282</td>\n",
       "      <td>7.9250</td>\n",
       "      <td>NaN</td>\n",
       "      <td>S</td>\n",
       "    </tr>\n",
       "    <tr>\n",
       "      <th>4</th>\n",
       "      <td>1</td>\n",
       "      <td>1</td>\n",
       "      <td>Futrelle, Mrs. Jacques Heath (Lily May Peel)</td>\n",
       "      <td>female</td>\n",
       "      <td>35.0</td>\n",
       "      <td>1</td>\n",
       "      <td>0</td>\n",
       "      <td>113803</td>\n",
       "      <td>53.1000</td>\n",
       "      <td>C123</td>\n",
       "      <td>S</td>\n",
       "    </tr>\n",
       "    <tr>\n",
       "      <th>5</th>\n",
       "      <td>0</td>\n",
       "      <td>3</td>\n",
       "      <td>Allen, Mr. William Henry</td>\n",
       "      <td>male</td>\n",
       "      <td>35.0</td>\n",
       "      <td>0</td>\n",
       "      <td>0</td>\n",
       "      <td>373450</td>\n",
       "      <td>8.0500</td>\n",
       "      <td>NaN</td>\n",
       "      <td>S</td>\n",
       "    </tr>\n",
       "  </tbody>\n",
       "</table>\n",
       "</div>"
      ],
      "text/plain": [
       "             Survived  Pclass  \\\n",
       "PassengerId                     \n",
       "1                   0       3   \n",
       "2                   1       1   \n",
       "3                   1       3   \n",
       "4                   1       1   \n",
       "5                   0       3   \n",
       "\n",
       "                                                          Name     Sex   Age  \\\n",
       "PassengerId                                                                    \n",
       "1                                      Braund, Mr. Owen Harris    male  22.0   \n",
       "2            Cumings, Mrs. John Bradley (Florence Briggs Th...  female  38.0   \n",
       "3                                       Heikkinen, Miss. Laina  female  26.0   \n",
       "4                 Futrelle, Mrs. Jacques Heath (Lily May Peel)  female  35.0   \n",
       "5                                     Allen, Mr. William Henry    male  35.0   \n",
       "\n",
       "             SibSp  Parch            Ticket     Fare Cabin Embarked  \n",
       "PassengerId                                                          \n",
       "1                1      0         A/5 21171   7.2500   NaN        S  \n",
       "2                1      0          PC 17599  71.2833   C85        C  \n",
       "3                0      0  STON/O2. 3101282   7.9250   NaN        S  \n",
       "4                1      0            113803  53.1000  C123        S  \n",
       "5                0      0            373450   8.0500   NaN        S  "
      ]
     },
     "execution_count": 5,
     "metadata": {},
     "output_type": "execute_result"
    }
   ],
   "source": [
    "train_data.head()"
   ]
  },
  {
   "cell_type": "markdown",
   "id": "mechanical-catering",
   "metadata": {
    "papermill": {
     "duration": 0.052414,
     "end_time": "2021-06-09T18:56:40.630553",
     "exception": false,
     "start_time": "2021-06-09T18:56:40.578139",
     "status": "completed"
    },
    "tags": []
   },
   "source": [
    "A total of 11 attributes: `Survived, Pclass, Name, Sex, Age, SibSp, Parch, Ticket, Fare, Cabin, Embarked`."
   ]
  },
  {
   "cell_type": "code",
   "execution_count": 6,
   "id": "seasonal-editing",
   "metadata": {
    "execution": {
     "iopub.execute_input": "2021-06-09T18:56:40.740695Z",
     "iopub.status.busy": "2021-06-09T18:56:40.739735Z",
     "iopub.status.idle": "2021-06-09T18:56:40.759931Z",
     "shell.execute_reply": "2021-06-09T18:56:40.760954Z",
     "shell.execute_reply.started": "2021-06-09T13:19:52.610962Z"
    },
    "papermill": {
     "duration": 0.077758,
     "end_time": "2021-06-09T18:56:40.761294",
     "exception": false,
     "start_time": "2021-06-09T18:56:40.683536",
     "status": "completed"
    },
    "tags": []
   },
   "outputs": [
    {
     "name": "stdout",
     "output_type": "stream",
     "text": [
      "<class 'pandas.core.frame.DataFrame'>\n",
      "Int64Index: 891 entries, 1 to 891\n",
      "Data columns (total 11 columns):\n",
      " #   Column    Non-Null Count  Dtype  \n",
      "---  ------    --------------  -----  \n",
      " 0   Survived  891 non-null    int64  \n",
      " 1   Pclass    891 non-null    int64  \n",
      " 2   Name      891 non-null    object \n",
      " 3   Sex       891 non-null    object \n",
      " 4   Age       714 non-null    float64\n",
      " 5   SibSp     891 non-null    int64  \n",
      " 6   Parch     891 non-null    int64  \n",
      " 7   Ticket    891 non-null    object \n",
      " 8   Fare      891 non-null    float64\n",
      " 9   Cabin     204 non-null    object \n",
      " 10  Embarked  889 non-null    object \n",
      "dtypes: float64(2), int64(4), object(5)\n",
      "memory usage: 83.5+ KB\n"
     ]
    }
   ],
   "source": [
    "train_data.info() # quick description of the data"
   ]
  },
  {
   "cell_type": "markdown",
   "id": "analyzed-netherlands",
   "metadata": {
    "papermill": {
     "duration": 0.054717,
     "end_time": "2021-06-09T18:56:40.872179",
     "exception": false,
     "start_time": "2021-06-09T18:56:40.817462",
     "status": "completed"
    },
    "tags": []
   },
   "source": [
    "Very small amount of data will be implementing cross validation during validation of models.\n",
    "Let's have a closer look at text attributes."
   ]
  },
  {
   "cell_type": "code",
   "execution_count": 7,
   "id": "emerging-consciousness",
   "metadata": {
    "execution": {
     "iopub.execute_input": "2021-06-09T18:56:40.987701Z",
     "iopub.status.busy": "2021-06-09T18:56:40.986966Z",
     "iopub.status.idle": "2021-06-09T18:56:40.990059Z",
     "shell.execute_reply": "2021-06-09T18:56:40.990540Z",
     "shell.execute_reply.started": "2021-06-09T13:19:52.635818Z"
    },
    "papermill": {
     "duration": 0.063524,
     "end_time": "2021-06-09T18:56:40.990724",
     "exception": false,
     "start_time": "2021-06-09T18:56:40.927200",
     "status": "completed"
    },
    "tags": []
   },
   "outputs": [
    {
     "data": {
      "text/plain": [
       "['Name', 'Sex', 'Ticket', 'Cabin', 'Embarked']"
      ]
     },
     "execution_count": 7,
     "metadata": {},
     "output_type": "execute_result"
    }
   ],
   "source": [
    "text_attributes = [col for col in train_data.columns if train_data[col].dtype=='object']\n",
    "text_attributes"
   ]
  },
  {
   "cell_type": "markdown",
   "id": "latter-reconstruction",
   "metadata": {
    "papermill": {
     "duration": 0.05337,
     "end_time": "2021-06-09T18:56:41.098790",
     "exception": false,
     "start_time": "2021-06-09T18:56:41.045420",
     "status": "completed"
    },
    "tags": []
   },
   "source": [
    "Two categorical attributes which are `Embarked` and `Sex`. It seems that cabin is missing a lot values."
   ]
  },
  {
   "cell_type": "code",
   "execution_count": 8,
   "id": "warming-roots",
   "metadata": {
    "execution": {
     "iopub.execute_input": "2021-06-09T18:56:41.216085Z",
     "iopub.status.busy": "2021-06-09T18:56:41.212253Z",
     "iopub.status.idle": "2021-06-09T18:56:41.220968Z",
     "shell.execute_reply": "2021-06-09T18:56:41.220300Z",
     "shell.execute_reply.started": "2021-06-09T13:19:52.65331Z"
    },
    "papermill": {
     "duration": 0.068652,
     "end_time": "2021-06-09T18:56:41.221119",
     "exception": false,
     "start_time": "2021-06-09T18:56:41.152467",
     "status": "completed"
    },
    "tags": []
   },
   "outputs": [
    {
     "data": {
      "text/plain": [
       "347082       7\n",
       "1601         7\n",
       "CA. 2343     7\n",
       "3101295      6\n",
       "CA 2144      6\n",
       "            ..\n",
       "PC 17754     1\n",
       "315151       1\n",
       "A/5. 2151    1\n",
       "34218        1\n",
       "C 4001       1\n",
       "Name: Ticket, Length: 681, dtype: int64"
      ]
     },
     "execution_count": 8,
     "metadata": {},
     "output_type": "execute_result"
    }
   ],
   "source": [
    "train_data[\"Ticket\"].value_counts()"
   ]
  },
  {
   "cell_type": "markdown",
   "id": "embedded-polymer",
   "metadata": {
    "papermill": {
     "duration": 0.053432,
     "end_time": "2021-06-09T18:56:41.329163",
     "exception": false,
     "start_time": "2021-06-09T18:56:41.275731",
     "status": "completed"
    },
    "tags": []
   },
   "source": [
    "There may seem to be a pattern there where some tickets are just numbers while others also include letters at the start. Now to have a look at the numerical attributes."
   ]
  },
  {
   "cell_type": "code",
   "execution_count": 9,
   "id": "useful-january",
   "metadata": {
    "execution": {
     "iopub.execute_input": "2021-06-09T18:56:41.468319Z",
     "iopub.status.busy": "2021-06-09T18:56:41.467602Z",
     "iopub.status.idle": "2021-06-09T18:56:41.501956Z",
     "shell.execute_reply": "2021-06-09T18:56:41.501375Z",
     "shell.execute_reply.started": "2021-06-09T13:19:52.679004Z"
    },
    "papermill": {
     "duration": 0.117217,
     "end_time": "2021-06-09T18:56:41.502116",
     "exception": false,
     "start_time": "2021-06-09T18:56:41.384899",
     "status": "completed"
    },
    "tags": []
   },
   "outputs": [
    {
     "data": {
      "text/html": [
       "<div>\n",
       "<style scoped>\n",
       "    .dataframe tbody tr th:only-of-type {\n",
       "        vertical-align: middle;\n",
       "    }\n",
       "\n",
       "    .dataframe tbody tr th {\n",
       "        vertical-align: top;\n",
       "    }\n",
       "\n",
       "    .dataframe thead th {\n",
       "        text-align: right;\n",
       "    }\n",
       "</style>\n",
       "<table border=\"1\" class=\"dataframe\">\n",
       "  <thead>\n",
       "    <tr style=\"text-align: right;\">\n",
       "      <th></th>\n",
       "      <th>Survived</th>\n",
       "      <th>Pclass</th>\n",
       "      <th>Age</th>\n",
       "      <th>SibSp</th>\n",
       "      <th>Parch</th>\n",
       "      <th>Fare</th>\n",
       "    </tr>\n",
       "  </thead>\n",
       "  <tbody>\n",
       "    <tr>\n",
       "      <th>count</th>\n",
       "      <td>891.000000</td>\n",
       "      <td>891.000000</td>\n",
       "      <td>714.000000</td>\n",
       "      <td>891.000000</td>\n",
       "      <td>891.000000</td>\n",
       "      <td>891.000000</td>\n",
       "    </tr>\n",
       "    <tr>\n",
       "      <th>mean</th>\n",
       "      <td>0.383838</td>\n",
       "      <td>2.308642</td>\n",
       "      <td>29.699118</td>\n",
       "      <td>0.523008</td>\n",
       "      <td>0.381594</td>\n",
       "      <td>32.204208</td>\n",
       "    </tr>\n",
       "    <tr>\n",
       "      <th>std</th>\n",
       "      <td>0.486592</td>\n",
       "      <td>0.836071</td>\n",
       "      <td>14.526497</td>\n",
       "      <td>1.102743</td>\n",
       "      <td>0.806057</td>\n",
       "      <td>49.693429</td>\n",
       "    </tr>\n",
       "    <tr>\n",
       "      <th>min</th>\n",
       "      <td>0.000000</td>\n",
       "      <td>1.000000</td>\n",
       "      <td>0.420000</td>\n",
       "      <td>0.000000</td>\n",
       "      <td>0.000000</td>\n",
       "      <td>0.000000</td>\n",
       "    </tr>\n",
       "    <tr>\n",
       "      <th>25%</th>\n",
       "      <td>0.000000</td>\n",
       "      <td>2.000000</td>\n",
       "      <td>20.125000</td>\n",
       "      <td>0.000000</td>\n",
       "      <td>0.000000</td>\n",
       "      <td>7.910400</td>\n",
       "    </tr>\n",
       "    <tr>\n",
       "      <th>50%</th>\n",
       "      <td>0.000000</td>\n",
       "      <td>3.000000</td>\n",
       "      <td>28.000000</td>\n",
       "      <td>0.000000</td>\n",
       "      <td>0.000000</td>\n",
       "      <td>14.454200</td>\n",
       "    </tr>\n",
       "    <tr>\n",
       "      <th>75%</th>\n",
       "      <td>1.000000</td>\n",
       "      <td>3.000000</td>\n",
       "      <td>38.000000</td>\n",
       "      <td>1.000000</td>\n",
       "      <td>0.000000</td>\n",
       "      <td>31.000000</td>\n",
       "    </tr>\n",
       "    <tr>\n",
       "      <th>max</th>\n",
       "      <td>1.000000</td>\n",
       "      <td>3.000000</td>\n",
       "      <td>80.000000</td>\n",
       "      <td>8.000000</td>\n",
       "      <td>6.000000</td>\n",
       "      <td>512.329200</td>\n",
       "    </tr>\n",
       "  </tbody>\n",
       "</table>\n",
       "</div>"
      ],
      "text/plain": [
       "         Survived      Pclass         Age       SibSp       Parch        Fare\n",
       "count  891.000000  891.000000  714.000000  891.000000  891.000000  891.000000\n",
       "mean     0.383838    2.308642   29.699118    0.523008    0.381594   32.204208\n",
       "std      0.486592    0.836071   14.526497    1.102743    0.806057   49.693429\n",
       "min      0.000000    1.000000    0.420000    0.000000    0.000000    0.000000\n",
       "25%      0.000000    2.000000   20.125000    0.000000    0.000000    7.910400\n",
       "50%      0.000000    3.000000   28.000000    0.000000    0.000000   14.454200\n",
       "75%      1.000000    3.000000   38.000000    1.000000    0.000000   31.000000\n",
       "max      1.000000    3.000000   80.000000    8.000000    6.000000  512.329200"
      ]
     },
     "execution_count": 9,
     "metadata": {},
     "output_type": "execute_result"
    }
   ],
   "source": [
    "train_data.describe()"
   ]
  },
  {
   "cell_type": "markdown",
   "id": "political-scoop",
   "metadata": {
    "papermill": {
     "duration": 0.054324,
     "end_time": "2021-06-09T18:56:41.611606",
     "exception": false,
     "start_time": "2021-06-09T18:56:41.557282",
     "status": "completed"
    },
    "tags": []
   },
   "source": [
    "Only `Age` is missing some values."
   ]
  },
  {
   "cell_type": "code",
   "execution_count": 10,
   "id": "suspended-equity",
   "metadata": {
    "execution": {
     "iopub.execute_input": "2021-06-09T18:56:41.729374Z",
     "iopub.status.busy": "2021-06-09T18:56:41.728673Z",
     "iopub.status.idle": "2021-06-09T18:56:43.297916Z",
     "shell.execute_reply": "2021-06-09T18:56:43.297223Z",
     "shell.execute_reply.started": "2021-06-09T13:19:52.71634Z"
    },
    "papermill": {
     "duration": 1.628736,
     "end_time": "2021-06-09T18:56:43.298073",
     "exception": false,
     "start_time": "2021-06-09T18:56:41.669337",
     "status": "completed"
    },
    "tags": []
   },
   "outputs": [
    {
     "name": "stderr",
     "output_type": "stream",
     "text": [
      "/opt/conda/lib/python3.7/site-packages/pandas/plotting/_matplotlib/tools.py:400: MatplotlibDeprecationWarning: \n",
      "The is_first_col function was deprecated in Matplotlib 3.4 and will be removed two minor releases later. Use ax.get_subplotspec().is_first_col() instead.\n",
      "  if ax.is_first_col():\n"
     ]
    },
    {
     "data": {
      "text/plain": [
       "array([[<AxesSubplot:title={'center':'Survived'}>,\n",
       "        <AxesSubplot:title={'center':'Pclass'}>],\n",
       "       [<AxesSubplot:title={'center':'Age'}>,\n",
       "        <AxesSubplot:title={'center':'SibSp'}>],\n",
       "       [<AxesSubplot:title={'center':'Parch'}>,\n",
       "        <AxesSubplot:title={'center':'Fare'}>]], dtype=object)"
      ]
     },
     "execution_count": 10,
     "metadata": {},
     "output_type": "execute_result"
    },
    {
     "data": {
      "image/png": "[encoded data removed]",
      "text/plain": [
       "<Figure size 1440x1080 with 6 Axes>"
      ]
     },
     "metadata": {
      "needs_background": "light"
     },
     "output_type": "display_data"
    }
   ],
   "source": [
    "train_data.hist(bins=50, figsize=(20,15))"
   ]
  },
  {
   "cell_type": "markdown",
   "id": "relative-prospect",
   "metadata": {
    "papermill": {
     "duration": 0.057974,
     "end_time": "2021-06-09T18:56:43.413221",
     "exception": false,
     "start_time": "2021-06-09T18:56:43.355247",
     "status": "completed"
    },
    "tags": []
   },
   "source": [
    "Got a few tail-heavy distributions namely, `SibSp, Fare, Parch, Age`. Theres seems to be a high number of passengers with 0 cost for their fares."
   ]
  },
  {
   "cell_type": "markdown",
   "id": "fluid-coating",
   "metadata": {
    "papermill": {
     "duration": 0.05783,
     "end_time": "2021-06-09T18:56:43.529064",
     "exception": false,
     "start_time": "2021-06-09T18:56:43.471234",
     "status": "completed"
    },
    "tags": []
   },
   "source": [
    "# 3. Discover and Visualize Data to Give Insights"
   ]
  },
  {
   "cell_type": "code",
   "execution_count": 11,
   "id": "democratic-checklist",
   "metadata": {
    "execution": {
     "iopub.execute_input": "2021-06-09T18:56:43.648291Z",
     "iopub.status.busy": "2021-06-09T18:56:43.647633Z",
     "iopub.status.idle": "2021-06-09T18:56:43.650669Z",
     "shell.execute_reply": "2021-06-09T18:56:43.651160Z",
     "shell.execute_reply.started": "2021-06-09T13:19:54.5496Z"
    },
    "papermill": {
     "duration": 0.065386,
     "end_time": "2021-06-09T18:56:43.651352",
     "exception": false,
     "start_time": "2021-06-09T18:56:43.585966",
     "status": "completed"
    },
    "tags": []
   },
   "outputs": [],
   "source": [
    "titanic = train_data.copy()"
   ]
  },
  {
   "cell_type": "code",
   "execution_count": 12,
   "id": "liberal-wesley",
   "metadata": {
    "execution": {
     "iopub.execute_input": "2021-06-09T18:56:43.773508Z",
     "iopub.status.busy": "2021-06-09T18:56:43.772474Z",
     "iopub.status.idle": "2021-06-09T18:56:43.779584Z",
     "shell.execute_reply": "2021-06-09T18:56:43.780058Z",
     "shell.execute_reply.started": "2021-06-09T13:19:54.558227Z"
    },
    "papermill": {
     "duration": 0.071899,
     "end_time": "2021-06-09T18:56:43.780260",
     "exception": false,
     "start_time": "2021-06-09T18:56:43.708361",
     "status": "completed"
    },
    "tags": []
   },
   "outputs": [
    {
     "data": {
      "text/plain": [
       "Survived    1.000000\n",
       "Fare        0.257307\n",
       "Parch       0.081629\n",
       "SibSp      -0.035322\n",
       "Age        -0.077221\n",
       "Pclass     -0.338481\n",
       "Name: Survived, dtype: float64"
      ]
     },
     "execution_count": 12,
     "metadata": {},
     "output_type": "execute_result"
    }
   ],
   "source": [
    "corr_matrix = titanic.corr()\n",
    "corr_matrix[\"Survived\"].sort_values(ascending=False)"
   ]
  },
  {
   "cell_type": "code",
   "execution_count": 13,
   "id": "revolutionary-cream",
   "metadata": {
    "execution": {
     "iopub.execute_input": "2021-06-09T18:56:43.899847Z",
     "iopub.status.busy": "2021-06-09T18:56:43.898843Z",
     "iopub.status.idle": "2021-06-09T18:56:43.907335Z",
     "shell.execute_reply": "2021-06-09T18:56:43.906787Z",
     "shell.execute_reply.started": "2021-06-09T13:19:54.580394Z"
    },
    "papermill": {
     "duration": 0.069145,
     "end_time": "2021-06-09T18:56:43.907483",
     "exception": false,
     "start_time": "2021-06-09T18:56:43.838338",
     "status": "completed"
    },
    "tags": []
   },
   "outputs": [
    {
     "name": "stdout",
     "output_type": "stream",
     "text": [
      "% of women who survived: 0.7420382165605095\n"
     ]
    }
   ],
   "source": [
    "women = titanic.loc[titanic.Sex=='female'][\"Survived\"]\n",
    "women_rate = sum(women)/len(women)\n",
    "print(\"% of women who survived:\",women_rate)"
   ]
  },
  {
   "cell_type": "code",
   "execution_count": 14,
   "id": "israeli-frame",
   "metadata": {
    "execution": {
     "iopub.execute_input": "2021-06-09T18:56:44.033993Z",
     "iopub.status.busy": "2021-06-09T18:56:44.033276Z",
     "iopub.status.idle": "2021-06-09T18:56:44.036362Z",
     "shell.execute_reply": "2021-06-09T18:56:44.037244Z",
     "shell.execute_reply.started": "2021-06-09T13:19:54.597099Z"
    },
    "papermill": {
     "duration": 0.07137,
     "end_time": "2021-06-09T18:56:44.037490",
     "exception": false,
     "start_time": "2021-06-09T18:56:43.966120",
     "status": "completed"
    },
    "tags": []
   },
   "outputs": [
    {
     "name": "stdout",
     "output_type": "stream",
     "text": [
      "% of men who survived: 0.18890814558058924\n"
     ]
    }
   ],
   "source": [
    "men = titanic.loc[titanic.Sex=='male'][\"Survived\"]\n",
    "men_rate = sum(men)/len(men)\n",
    "print(\"% of men who survived:\",men_rate)"
   ]
  },
  {
   "cell_type": "markdown",
   "id": "functional-delicious",
   "metadata": {
    "papermill": {
     "duration": 0.060383,
     "end_time": "2021-06-09T18:56:44.162082",
     "exception": false,
     "start_time": "2021-06-09T18:56:44.101699",
     "status": "completed"
    },
    "tags": []
   },
   "source": [
    "It seems that you were more like to survive if you were a women."
   ]
  },
  {
   "cell_type": "code",
   "execution_count": 15,
   "id": "taken-works",
   "metadata": {
    "execution": {
     "iopub.execute_input": "2021-06-09T18:56:44.285795Z",
     "iopub.status.busy": "2021-06-09T18:56:44.285138Z",
     "iopub.status.idle": "2021-06-09T18:56:44.308028Z",
     "shell.execute_reply": "2021-06-09T18:56:44.307403Z",
     "shell.execute_reply.started": "2021-06-09T13:19:54.612921Z"
    },
    "papermill": {
     "duration": 0.08792,
     "end_time": "2021-06-09T18:56:44.308208",
     "exception": false,
     "start_time": "2021-06-09T18:56:44.220288",
     "status": "completed"
    },
    "tags": []
   },
   "outputs": [],
   "source": [
    "age_men_surv = titanic.loc[(titanic[\"Survived\"]==1) & (titanic[\"Sex\"]==\"male\")]\n",
    "age_women_surv = titanic.loc[(titanic[\"Survived\"]==1) & (titanic[\"Sex\"]==\"female\")]"
   ]
  },
  {
   "cell_type": "code",
   "execution_count": 16,
   "id": "hindu-formation",
   "metadata": {
    "execution": {
     "iopub.execute_input": "2021-06-09T18:56:44.462345Z",
     "iopub.status.busy": "2021-06-09T18:56:44.459871Z",
     "iopub.status.idle": "2021-06-09T18:56:45.182492Z",
     "shell.execute_reply": "2021-06-09T18:56:45.183058Z",
     "shell.execute_reply.started": "2021-06-09T13:19:54.632963Z"
    },
    "papermill": {
     "duration": 0.816401,
     "end_time": "2021-06-09T18:56:45.183277",
     "exception": false,
     "start_time": "2021-06-09T18:56:44.366876",
     "status": "completed"
    },
    "tags": []
   },
   "outputs": [
    {
     "data": {
      "text/plain": [
       "<seaborn.axisgrid.FacetGrid at 0x7f504fd63810>"
      ]
     },
     "execution_count": 16,
     "metadata": {},
     "output_type": "execute_result"
    },
    {
     "data": {
      "image/png": "[encoded data removed]",
      "text/plain": [
       "<Figure size 1452.9x576 with 2 Axes>"
      ]
     },
     "metadata": {
      "needs_background": "light"
     },
     "output_type": "display_data"
    }
   ],
   "source": [
    "Survivors = titanic.loc[titanic[\"Survived\"]==1]\n",
    "d = sns.displot(Survivors,x=\"Age\", hue=\"Sex\", col=\"Sex\", height=8, aspect=1.2,)\n",
    "d.set_axis_labels(\"Age\",\"Survivors\")"
   ]
  },
  {
   "cell_type": "markdown",
   "id": "suitable-confidence",
   "metadata": {
    "execution": {
     "iopub.execute_input": "2021-06-08T10:45:23.839403Z",
     "iopub.status.busy": "2021-06-08T10:45:23.838865Z",
     "iopub.status.idle": "2021-06-08T10:45:24.399907Z",
     "shell.execute_reply": "2021-06-08T10:45:24.39882Z",
     "shell.execute_reply.started": "2021-06-08T10:45:23.839356Z"
    },
    "papermill": {
     "duration": 0.059887,
     "end_time": "2021-06-09T18:56:45.303466",
     "exception": false,
     "start_time": "2021-06-09T18:56:45.243579",
     "status": "completed"
    },
    "tags": []
   },
   "source": [
    "Young women, below the age of 40 were more likely to survive."
   ]
  },
  {
   "cell_type": "code",
   "execution_count": 17,
   "id": "quantitative-temperature",
   "metadata": {
    "execution": {
     "iopub.execute_input": "2021-06-09T18:56:45.426334Z",
     "iopub.status.busy": "2021-06-09T18:56:45.425616Z",
     "iopub.status.idle": "2021-06-09T18:56:45.945770Z",
     "shell.execute_reply": "2021-06-09T18:56:45.945112Z",
     "shell.execute_reply.started": "2021-06-09T13:19:55.36064Z"
    },
    "papermill": {
     "duration": 0.582544,
     "end_time": "2021-06-09T18:56:45.945961",
     "exception": false,
     "start_time": "2021-06-09T18:56:45.363417",
     "status": "completed"
    },
    "tags": []
   },
   "outputs": [
    {
     "data": {
      "image/png": "[encoded data removed]",
      "text/plain": [
       "<Figure size 402.375x360 with 1 Axes>"
      ]
     },
     "metadata": {
      "needs_background": "light"
     },
     "output_type": "display_data"
    }
   ],
   "source": [
    "c = sns.catplot(x=\"Sex\", y=\"Survived\", hue=\"Pclass\", kind=\"bar\", data=titanic, )"
   ]
  },
  {
   "cell_type": "code",
   "execution_count": 18,
   "id": "incorrect-marketplace",
   "metadata": {
    "execution": {
     "iopub.execute_input": "2021-06-09T18:56:46.079142Z",
     "iopub.status.busy": "2021-06-09T18:56:46.078397Z",
     "iopub.status.idle": "2021-06-09T18:56:46.352311Z",
     "shell.execute_reply": "2021-06-09T18:56:46.351633Z",
     "shell.execute_reply.started": "2021-06-09T13:19:55.886259Z"
    },
    "papermill": {
     "duration": 0.346422,
     "end_time": "2021-06-09T18:56:46.352463",
     "exception": false,
     "start_time": "2021-06-09T18:56:46.006041",
     "status": "completed"
    },
    "tags": []
   },
   "outputs": [
    {
     "data": {
      "text/plain": [
       "<AxesSubplot:xlabel='Embarked', ylabel='count'>"
      ]
     },
     "execution_count": 18,
     "metadata": {},
     "output_type": "execute_result"
    },
    {
     "data": {
      "image/png": "[encoded data removed]",
      "text/plain": [
       "<Figure size 432x288 with 1 Axes>"
      ]
     },
     "metadata": {
      "needs_background": "light"
     },
     "output_type": "display_data"
    }
   ],
   "source": [
    "sns.countplot( x='Embarked', hue=\"Sex\", data=titanic)"
   ]
  },
  {
   "cell_type": "markdown",
   "id": "administrative-profit",
   "metadata": {
    "execution": {
     "iopub.execute_input": "2021-06-07T17:34:16.936168Z",
     "iopub.status.busy": "2021-06-07T17:34:16.935763Z",
     "iopub.status.idle": "2021-06-07T17:34:16.952496Z",
     "shell.execute_reply": "2021-06-07T17:34:16.951317Z",
     "shell.execute_reply.started": "2021-06-07T17:34:16.936131Z"
    },
    "papermill": {
     "duration": 0.062287,
     "end_time": "2021-06-09T18:56:46.475813",
     "exception": false,
     "start_time": "2021-06-09T18:56:46.413526",
     "status": "completed"
    },
    "tags": []
   },
   "source": [
    "The higher the passenger's class the more likely they were to survive."
   ]
  },
  {
   "cell_type": "code",
   "execution_count": 19,
   "id": "physical-startup",
   "metadata": {
    "execution": {
     "iopub.execute_input": "2021-06-09T18:56:46.614337Z",
     "iopub.status.busy": "2021-06-09T18:56:46.613451Z",
     "iopub.status.idle": "2021-06-09T18:56:47.178048Z",
     "shell.execute_reply": "2021-06-09T18:56:47.177364Z",
     "shell.execute_reply.started": "2021-06-09T13:19:56.075379Z"
    },
    "papermill": {
     "duration": 0.639285,
     "end_time": "2021-06-09T18:56:47.178193",
     "exception": false,
     "start_time": "2021-06-09T18:56:46.538908",
     "status": "completed"
    },
    "tags": []
   },
   "outputs": [
    {
     "data": {
      "text/plain": [
       "<seaborn.axisgrid.FacetGrid at 0x7f50501ccf10>"
      ]
     },
     "execution_count": 19,
     "metadata": {},
     "output_type": "execute_result"
    },
    {
     "data": {
      "image/png": "[encoded data removed]",
      "text/plain": [
       "<Figure size 430.5x360 with 1 Axes>"
      ]
     },
     "metadata": {
      "needs_background": "light"
     },
     "output_type": "display_data"
    }
   ],
   "source": [
    "sns.catplot(x=\"Embarked\", y=\"Survived\", hue=\"Sex\",\n",
    "            palette={\"male\": \"g\", \"female\": \"r\"},\n",
    "            markers=[\"^\", \"o\"], linestyles=[\"-\", \"--\"],\n",
    "            kind=\"point\", data=titanic)"
   ]
  },
  {
   "cell_type": "markdown",
   "id": "similar-commercial",
   "metadata": {
    "papermill": {
     "duration": 0.061061,
     "end_time": "2021-06-09T18:56:47.300916",
     "exception": false,
     "start_time": "2021-06-09T18:56:47.239855",
     "status": "completed"
    },
    "tags": []
   },
   "source": [
    "Overall in passengers who boarded from Chebourg were more likely to survive. \n",
    "\n",
    "However, interestingly:\n",
    "- Men from Southampton were more likely  to survive than men from Queenstown. \n",
    "- However women from Southampton were less likely to survive than women from Queenstown."
   ]
  },
  {
   "cell_type": "markdown",
   "id": "nutritional-prairie",
   "metadata": {
    "papermill": {
     "duration": 0.06177,
     "end_time": "2021-06-09T18:56:47.425303",
     "exception": false,
     "start_time": "2021-06-09T18:56:47.363533",
     "status": "completed"
    },
    "tags": []
   },
   "source": [
    "# 4. Preparing data for Machine Learning Algorithms"
   ]
  },
  {
   "cell_type": "code",
   "execution_count": null,
   "id": "northern-scott",
   "metadata": {
    "papermill": {
     "duration": 0.0623,
     "end_time": "2021-06-09T18:56:47.550713",
     "exception": false,
     "start_time": "2021-06-09T18:56:47.488413",
     "status": "completed"
    },
    "tags": []
   },
   "outputs": [],
   "source": []
  },
  {
   "cell_type": "code",
   "execution_count": 20,
   "id": "wooden-fruit",
   "metadata": {
    "execution": {
     "iopub.execute_input": "2021-06-09T18:56:47.684218Z",
     "iopub.status.busy": "2021-06-09T18:56:47.683012Z",
     "iopub.status.idle": "2021-06-09T18:56:47.688633Z",
     "shell.execute_reply": "2021-06-09T18:56:47.688122Z",
     "shell.execute_reply.started": "2021-06-09T13:19:56.631312Z"
    },
    "papermill": {
     "duration": 0.075609,
     "end_time": "2021-06-09T18:56:47.688783",
     "exception": false,
     "start_time": "2021-06-09T18:56:47.613174",
     "status": "completed"
    },
    "tags": []
   },
   "outputs": [],
   "source": [
    "train_data2 = train_data.dropna(axis=0,subset=[\"Embarked\",])\n",
    "titanic = train_data2.drop([\"Survived\",\"Cabin\",\"Ticket\"], axis=1)\n",
    "titanic_labels = train_data2.Survived.copy()"
   ]
  },
  {
   "cell_type": "markdown",
   "id": "scenic-allen",
   "metadata": {
    "papermill": {
     "duration": 0.062734,
     "end_time": "2021-06-09T18:56:47.814041",
     "exception": false,
     "start_time": "2021-06-09T18:56:47.751307",
     "status": "completed"
    },
    "tags": []
   },
   "source": [
    "dropping embarked as only 2 instances are missing and test_data is not missing any here."
   ]
  },
  {
   "cell_type": "code",
   "execution_count": 21,
   "id": "recognized-antigua",
   "metadata": {
    "execution": {
     "iopub.execute_input": "2021-06-09T18:56:47.949532Z",
     "iopub.status.busy": "2021-06-09T18:56:47.947442Z",
     "iopub.status.idle": "2021-06-09T18:56:47.962966Z",
     "shell.execute_reply": "2021-06-09T18:56:47.962353Z",
     "shell.execute_reply.started": "2021-06-09T13:19:56.65021Z"
    },
    "papermill": {
     "duration": 0.08604,
     "end_time": "2021-06-09T18:56:47.963132",
     "exception": false,
     "start_time": "2021-06-09T18:56:47.877092",
     "status": "completed"
    },
    "tags": []
   },
   "outputs": [],
   "source": [
    "num_attribs = list(titanic.describe().columns)\n",
    "cat_attribs = [\"Sex\",\"Embarked\"]"
   ]
  },
  {
   "cell_type": "code",
   "execution_count": 22,
   "id": "instant-newton",
   "metadata": {
    "execution": {
     "iopub.execute_input": "2021-06-09T18:56:48.094870Z",
     "iopub.status.busy": "2021-06-09T18:56:48.094193Z",
     "iopub.status.idle": "2021-06-09T18:56:48.506172Z",
     "shell.execute_reply": "2021-06-09T18:56:48.505460Z",
     "shell.execute_reply.started": "2021-06-09T13:19:56.683366Z"
    },
    "papermill": {
     "duration": 0.479381,
     "end_time": "2021-06-09T18:56:48.506402",
     "exception": false,
     "start_time": "2021-06-09T18:56:48.027021",
     "status": "completed"
    },
    "tags": []
   },
   "outputs": [],
   "source": [
    "from sklearn.pipeline import Pipeline\n",
    "from sklearn.impute import SimpleImputer\n",
    "from sklearn.preprocessing import StandardScaler\n",
    "from sklearn.preprocessing import OneHotEncoder"
   ]
  },
  {
   "cell_type": "code",
   "execution_count": 23,
   "id": "promising-evidence",
   "metadata": {
    "execution": {
     "iopub.execute_input": "2021-06-09T18:56:48.642176Z",
     "iopub.status.busy": "2021-06-09T18:56:48.641310Z",
     "iopub.status.idle": "2021-06-09T18:56:48.644928Z",
     "shell.execute_reply": "2021-06-09T18:56:48.644293Z",
     "shell.execute_reply.started": "2021-06-09T13:19:56.691763Z"
    },
    "papermill": {
     "duration": 0.07292,
     "end_time": "2021-06-09T18:56:48.645071",
     "exception": false,
     "start_time": "2021-06-09T18:56:48.572151",
     "status": "completed"
    },
    "tags": []
   },
   "outputs": [],
   "source": [
    "num_pipeline = Pipeline([\n",
    "    (\"simple_imputer\", SimpleImputer(strategy=\"median\")),\n",
    "    (\"std_scaler\", StandardScaler())\n",
    "])"
   ]
  },
  {
   "cell_type": "code",
   "execution_count": 24,
   "id": "better-murray",
   "metadata": {
    "execution": {
     "iopub.execute_input": "2021-06-09T18:56:48.775317Z",
     "iopub.status.busy": "2021-06-09T18:56:48.774285Z",
     "iopub.status.idle": "2021-06-09T18:56:48.779901Z",
     "shell.execute_reply": "2021-06-09T18:56:48.779242Z",
     "shell.execute_reply.started": "2021-06-09T13:19:56.710584Z"
    },
    "papermill": {
     "duration": 0.073755,
     "end_time": "2021-06-09T18:56:48.780049",
     "exception": false,
     "start_time": "2021-06-09T18:56:48.706294",
     "status": "completed"
    },
    "tags": []
   },
   "outputs": [
    {
     "data": {
      "text/plain": [
       "list"
      ]
     },
     "execution_count": 24,
     "metadata": {},
     "output_type": "execute_result"
    }
   ],
   "source": [
    "type(cat_attribs)"
   ]
  },
  {
   "cell_type": "code",
   "execution_count": null,
   "id": "thermal-exclusive",
   "metadata": {
    "papermill": {
     "duration": 0.061786,
     "end_time": "2021-06-09T18:56:48.904871",
     "exception": false,
     "start_time": "2021-06-09T18:56:48.843085",
     "status": "completed"
    },
    "tags": []
   },
   "outputs": [],
   "source": []
  },
  {
   "cell_type": "code",
   "execution_count": 25,
   "id": "velvet-infection",
   "metadata": {
    "execution": {
     "iopub.execute_input": "2021-06-09T18:56:49.038371Z",
     "iopub.status.busy": "2021-06-09T18:56:49.037723Z",
     "iopub.status.idle": "2021-06-09T18:56:49.059555Z",
     "shell.execute_reply": "2021-06-09T18:56:49.058991Z",
     "shell.execute_reply.started": "2021-06-09T13:19:56.734807Z"
    },
    "papermill": {
     "duration": 0.090187,
     "end_time": "2021-06-09T18:56:49.059706",
     "exception": false,
     "start_time": "2021-06-09T18:56:48.969519",
     "status": "completed"
    },
    "tags": []
   },
   "outputs": [],
   "source": [
    "from sklearn.compose import ColumnTransformer\n",
    "full_pipeline = ColumnTransformer([\n",
    "    (\"num\", num_pipeline, num_attribs),\n",
    "    (\"cat\", OneHotEncoder(), cat_attribs)\n",
    "])\n",
    "\n",
    "titanic_prepared = full_pipeline.fit_transform(titanic)"
   ]
  },
  {
   "cell_type": "markdown",
   "id": "amazing-liverpool",
   "metadata": {
    "papermill": {
     "duration": 0.06524,
     "end_time": "2021-06-09T18:56:49.189067",
     "exception": false,
     "start_time": "2021-06-09T18:56:49.123827",
     "status": "completed"
    },
    "tags": []
   },
   "source": [
    "# 5. Select Model and Train Model"
   ]
  },
  {
   "cell_type": "code",
   "execution_count": 26,
   "id": "sound-chicago",
   "metadata": {
    "execution": {
     "iopub.execute_input": "2021-06-09T18:56:49.323845Z",
     "iopub.status.busy": "2021-06-09T18:56:49.323209Z",
     "iopub.status.idle": "2021-06-09T18:56:49.325847Z",
     "shell.execute_reply": "2021-06-09T18:56:49.325215Z",
     "shell.execute_reply.started": "2021-06-09T13:19:56.766843Z"
    },
    "papermill": {
     "duration": 0.075177,
     "end_time": "2021-06-09T18:56:49.326011",
     "exception": false,
     "start_time": "2021-06-09T18:56:49.250834",
     "status": "completed"
    },
    "tags": []
   },
   "outputs": [],
   "source": [
    "from sklearn.model_selection import cross_val_score"
   ]
  },
  {
   "cell_type": "code",
   "execution_count": 27,
   "id": "terminal-accordance",
   "metadata": {
    "execution": {
     "iopub.execute_input": "2021-06-09T18:56:49.468156Z",
     "iopub.status.busy": "2021-06-09T18:56:49.467225Z",
     "iopub.status.idle": "2021-06-09T18:56:49.471048Z",
     "shell.execute_reply": "2021-06-09T18:56:49.469999Z",
     "shell.execute_reply.started": "2021-06-09T13:19:56.783458Z"
    },
    "papermill": {
     "duration": 0.074284,
     "end_time": "2021-06-09T18:56:49.471363",
     "exception": false,
     "start_time": "2021-06-09T18:56:49.397079",
     "status": "completed"
    },
    "tags": []
   },
   "outputs": [],
   "source": [
    "from sklearn.linear_model import SGDClassifier\n",
    "\n",
    "sgd_clf = SGDClassifier()"
   ]
  },
  {
   "cell_type": "code",
   "execution_count": 28,
   "id": "better-techno",
   "metadata": {
    "execution": {
     "iopub.execute_input": "2021-06-09T18:56:49.603421Z",
     "iopub.status.busy": "2021-06-09T18:56:49.602728Z",
     "iopub.status.idle": "2021-06-09T18:56:49.634652Z",
     "shell.execute_reply": "2021-06-09T18:56:49.633796Z",
     "shell.execute_reply.started": "2021-06-09T13:19:56.79269Z"
    },
    "papermill": {
     "duration": 0.100531,
     "end_time": "2021-06-09T18:56:49.634826",
     "exception": false,
     "start_time": "2021-06-09T18:56:49.534295",
     "status": "completed"
    },
    "tags": []
   },
   "outputs": [],
   "source": [
    "sgd_scores = cross_val_score(sgd_clf, titanic_prepared, titanic_labels, \n",
    "                        cv=5)"
   ]
  },
  {
   "cell_type": "code",
   "execution_count": 29,
   "id": "strong-description",
   "metadata": {
    "execution": {
     "iopub.execute_input": "2021-06-09T18:56:49.767057Z",
     "iopub.status.busy": "2021-06-09T18:56:49.766366Z",
     "iopub.status.idle": "2021-06-09T18:56:49.769117Z",
     "shell.execute_reply": "2021-06-09T18:56:49.769727Z",
     "shell.execute_reply.started": "2021-06-09T13:19:56.84184Z"
    },
    "papermill": {
     "duration": 0.071349,
     "end_time": "2021-06-09T18:56:49.769927",
     "exception": false,
     "start_time": "2021-06-09T18:56:49.698578",
     "status": "completed"
    },
    "tags": []
   },
   "outputs": [],
   "source": [
    "def display_scores(scores):\n",
    "    print('Scores:', scores)\n",
    "    print('Mean:', scores.mean())\n",
    "    print(\"Standard Deviation:\", scores.std())"
   ]
  },
  {
   "cell_type": "code",
   "execution_count": 30,
   "id": "worthy-freedom",
   "metadata": {
    "execution": {
     "iopub.execute_input": "2021-06-09T18:56:49.903744Z",
     "iopub.status.busy": "2021-06-09T18:56:49.902703Z",
     "iopub.status.idle": "2021-06-09T18:56:49.908823Z",
     "shell.execute_reply": "2021-06-09T18:56:49.908184Z",
     "shell.execute_reply.started": "2021-06-09T13:19:56.850926Z"
    },
    "papermill": {
     "duration": 0.075803,
     "end_time": "2021-06-09T18:56:49.909001",
     "exception": false,
     "start_time": "2021-06-09T18:56:49.833198",
     "status": "completed"
    },
    "tags": []
   },
   "outputs": [
    {
     "name": "stdout",
     "output_type": "stream",
     "text": [
      "Scores: [0.78651685 0.65730337 0.76966292 0.82022472 0.76836158]\n",
      "Mean: 0.7604138894178887\n",
      "Standard Deviation: 0.054843759105399376\n"
     ]
    }
   ],
   "source": [
    "display_scores(sgd_scores)"
   ]
  },
  {
   "cell_type": "code",
   "execution_count": 31,
   "id": "informed-burning",
   "metadata": {
    "execution": {
     "iopub.execute_input": "2021-06-09T18:56:50.041729Z",
     "iopub.status.busy": "2021-06-09T18:56:50.041115Z",
     "iopub.status.idle": "2021-06-09T18:56:50.114418Z",
     "shell.execute_reply": "2021-06-09T18:56:50.113781Z",
     "shell.execute_reply.started": "2021-06-09T14:02:15.72909Z"
    },
    "papermill": {
     "duration": 0.141848,
     "end_time": "2021-06-09T18:56:50.114581",
     "exception": false,
     "start_time": "2021-06-09T18:56:49.972733",
     "status": "completed"
    },
    "tags": []
   },
   "outputs": [],
   "source": [
    "from sklearn.ensemble import RandomForestClassifier\n",
    "\n",
    "forest_clf = RandomForestClassifier(random_state=42)"
   ]
  },
  {
   "cell_type": "code",
   "execution_count": 32,
   "id": "linear-opening",
   "metadata": {
    "execution": {
     "iopub.execute_input": "2021-06-09T18:56:50.249402Z",
     "iopub.status.busy": "2021-06-09T18:56:50.248588Z",
     "iopub.status.idle": "2021-06-09T18:56:51.432340Z",
     "shell.execute_reply": "2021-06-09T18:56:51.431639Z",
     "shell.execute_reply.started": "2021-06-09T13:19:56.889771Z"
    },
    "papermill": {
     "duration": 1.253688,
     "end_time": "2021-06-09T18:56:51.432492",
     "exception": false,
     "start_time": "2021-06-09T18:56:50.178804",
     "status": "completed"
    },
    "tags": []
   },
   "outputs": [],
   "source": [
    "forest_scores = cross_val_score(forest_clf, titanic_prepared, titanic_labels, \n",
    "                        cv=5)"
   ]
  },
  {
   "cell_type": "code",
   "execution_count": 33,
   "id": "south-causing",
   "metadata": {
    "execution": {
     "iopub.execute_input": "2021-06-09T18:56:51.565401Z",
     "iopub.status.busy": "2021-06-09T18:56:51.564401Z",
     "iopub.status.idle": "2021-06-09T18:56:51.571312Z",
     "shell.execute_reply": "2021-06-09T18:56:51.570425Z",
     "shell.execute_reply.started": "2021-06-09T13:19:58.10518Z"
    },
    "papermill": {
     "duration": 0.075261,
     "end_time": "2021-06-09T18:56:51.571509",
     "exception": false,
     "start_time": "2021-06-09T18:56:51.496248",
     "status": "completed"
    },
    "tags": []
   },
   "outputs": [
    {
     "name": "stdout",
     "output_type": "stream",
     "text": [
      "Scores: [0.78651685 0.80337079 0.86516854 0.78089888 0.82485876]\n",
      "Mean: 0.8121627626483845\n",
      "Standard Deviation: 0.030604714331495784\n"
     ]
    }
   ],
   "source": [
    "display_scores(forest_scores)"
   ]
  },
  {
   "cell_type": "code",
   "execution_count": 34,
   "id": "premier-parks",
   "metadata": {
    "execution": {
     "iopub.execute_input": "2021-06-09T18:56:51.706968Z",
     "iopub.status.busy": "2021-06-09T18:56:51.706268Z",
     "iopub.status.idle": "2021-06-09T18:56:51.709690Z",
     "shell.execute_reply": "2021-06-09T18:56:51.709186Z",
     "shell.execute_reply.started": "2021-06-09T13:27:43.647358Z"
    },
    "papermill": {
     "duration": 0.073244,
     "end_time": "2021-06-09T18:56:51.709832",
     "exception": false,
     "start_time": "2021-06-09T18:56:51.636588",
     "status": "completed"
    },
    "tags": []
   },
   "outputs": [],
   "source": [
    "from sklearn.svm import SVC\n",
    "\n",
    "svm_clf = SVC()"
   ]
  },
  {
   "cell_type": "code",
   "execution_count": 35,
   "id": "pharmaceutical-reflection",
   "metadata": {
    "execution": {
     "iopub.execute_input": "2021-06-09T18:56:51.842407Z",
     "iopub.status.busy": "2021-06-09T18:56:51.841744Z",
     "iopub.status.idle": "2021-06-09T18:56:51.973491Z",
     "shell.execute_reply": "2021-06-09T18:56:51.972812Z",
     "shell.execute_reply.started": "2021-06-09T13:41:33.868515Z"
    },
    "papermill": {
     "duration": 0.201056,
     "end_time": "2021-06-09T18:56:51.973645",
     "exception": false,
     "start_time": "2021-06-09T18:56:51.772589",
     "status": "completed"
    },
    "tags": []
   },
   "outputs": [],
   "source": [
    "svm_scores = cross_val_score(svm_clf, titanic_prepared, titanic_labels, \n",
    "                             cv=5, scoring=\"accuracy\")"
   ]
  },
  {
   "cell_type": "code",
   "execution_count": 36,
   "id": "desirable-innocent",
   "metadata": {
    "execution": {
     "iopub.execute_input": "2021-06-09T18:56:52.110146Z",
     "iopub.status.busy": "2021-06-09T18:56:52.109447Z",
     "iopub.status.idle": "2021-06-09T18:56:52.113854Z",
     "shell.execute_reply": "2021-06-09T18:56:52.113230Z",
     "shell.execute_reply.started": "2021-06-09T13:41:34.361366Z"
    },
    "papermill": {
     "duration": 0.075473,
     "end_time": "2021-06-09T18:56:52.114021",
     "exception": false,
     "start_time": "2021-06-09T18:56:52.038548",
     "status": "completed"
    },
    "tags": []
   },
   "outputs": [
    {
     "name": "stdout",
     "output_type": "stream",
     "text": [
      "Scores: [0.8258427  0.8258427  0.81460674 0.81460674 0.85875706]\n",
      "Mean: 0.8279311877102774\n",
      "Standard Deviation: 0.01621135314834608\n"
     ]
    }
   ],
   "source": [
    "display_scores(svm_scores)"
   ]
  },
  {
   "cell_type": "markdown",
   "id": "stone-stick",
   "metadata": {
    "papermill": {
     "duration": 0.065541,
     "end_time": "2021-06-09T18:56:52.243643",
     "exception": false,
     "start_time": "2021-06-09T18:56:52.178102",
     "status": "completed"
    },
    "tags": []
   },
   "source": [
    "## 6. Fine-Tuning Models"
   ]
  },
  {
   "cell_type": "code",
   "execution_count": 37,
   "id": "mounted-blank",
   "metadata": {
    "execution": {
     "iopub.execute_input": "2021-06-09T18:56:52.380354Z",
     "iopub.status.busy": "2021-06-09T18:56:52.379457Z",
     "iopub.status.idle": "2021-06-09T18:56:52.383458Z",
     "shell.execute_reply": "2021-06-09T18:56:52.384230Z",
     "shell.execute_reply.started": "2021-06-09T13:26:32.414687Z"
    },
    "papermill": {
     "duration": 0.074251,
     "end_time": "2021-06-09T18:56:52.384464",
     "exception": false,
     "start_time": "2021-06-09T18:56:52.310213",
     "status": "completed"
    },
    "tags": []
   },
   "outputs": [],
   "source": [
    "from sklearn.model_selection import GridSearchCV"
   ]
  },
  {
   "cell_type": "code",
   "execution_count": 38,
   "id": "offshore-cassette",
   "metadata": {
    "execution": {
     "iopub.execute_input": "2021-06-09T18:56:52.548295Z",
     "iopub.status.busy": "2021-06-09T18:56:52.547420Z",
     "iopub.status.idle": "2021-06-09T18:56:52.551282Z",
     "shell.execute_reply": "2021-06-09T18:56:52.550625Z",
     "shell.execute_reply.started": "2021-06-09T13:35:58.255405Z"
    },
    "papermill": {
     "duration": 0.084416,
     "end_time": "2021-06-09T18:56:52.551425",
     "exception": false,
     "start_time": "2021-06-09T18:56:52.467009",
     "status": "completed"
    },
    "tags": []
   },
   "outputs": [],
   "source": [
    "svc_param_grid = [\n",
    "    {'kernel': ['linear','poly','rbf','sigmoid'], \"gamma\":['scale','auto']}\n",
    "]"
   ]
  },
  {
   "cell_type": "code",
   "execution_count": 39,
   "id": "statistical-newspaper",
   "metadata": {
    "execution": {
     "iopub.execute_input": "2021-06-09T18:56:52.683858Z",
     "iopub.status.busy": "2021-06-09T18:56:52.683232Z",
     "iopub.status.idle": "2021-06-09T18:56:52.687205Z",
     "shell.execute_reply": "2021-06-09T18:56:52.686431Z",
     "shell.execute_reply.started": "2021-06-09T13:44:09.374131Z"
    },
    "papermill": {
     "duration": 0.07193,
     "end_time": "2021-06-09T18:56:52.687371",
     "exception": false,
     "start_time": "2021-06-09T18:56:52.615441",
     "status": "completed"
    },
    "tags": []
   },
   "outputs": [],
   "source": [
    "grid_search = GridSearchCV(svm_clf, svc_param_grid,\n",
    "                           cv=5, scoring='accuracy',\n",
    "                           return_train_score=True, verbose=3)"
   ]
  },
  {
   "cell_type": "code",
   "execution_count": 40,
   "id": "satisfied-commons",
   "metadata": {
    "execution": {
     "iopub.execute_input": "2021-06-09T18:56:52.824822Z",
     "iopub.status.busy": "2021-06-09T18:56:52.824166Z",
     "iopub.status.idle": "2021-06-09T18:56:54.251741Z",
     "shell.execute_reply": "2021-06-09T18:56:54.250864Z",
     "shell.execute_reply.started": "2021-06-09T13:44:10.515609Z"
    },
    "papermill": {
     "duration": 1.498879,
     "end_time": "2021-06-09T18:56:54.251934",
     "exception": false,
     "start_time": "2021-06-09T18:56:52.753055",
     "status": "completed"
    },
    "tags": []
   },
   "outputs": [
    {
     "name": "stdout",
     "output_type": "stream",
     "text": [
      "Fitting 5 folds for each of 8 candidates, totalling 40 fits\n",
      "[CV 1/5] END .....................gamma=scale, kernel=linear; total time=   0.0s\n",
      "[CV 2/5] END .....................gamma=scale, kernel=linear; total time=   0.0s\n",
      "[CV 3/5] END .....................gamma=scale, kernel=linear; total time=   0.0s\n",
      "[CV 4/5] END .....................gamma=scale, kernel=linear; total time=   0.0s\n",
      "[CV 5/5] END .....................gamma=scale, kernel=linear; total time=   0.0s\n",
      "[CV 1/5] END .......................gamma=scale, kernel=poly; total time=   0.0s\n",
      "[CV 2/5] END .......................gamma=scale, kernel=poly; total time=   0.0s\n",
      "[CV 3/5] END .......................gamma=scale, kernel=poly; total time=   0.0s\n",
      "[CV 4/5] END .......................gamma=scale, kernel=poly; total time=   0.0s\n",
      "[CV 5/5] END .......................gamma=scale, kernel=poly; total time=   0.0s\n",
      "[CV 1/5] END ........................gamma=scale, kernel=rbf; total time=   0.0s\n",
      "[CV 2/5] END ........................gamma=scale, kernel=rbf; total time=   0.0s\n",
      "[CV 3/5] END ........................gamma=scale, kernel=rbf; total time=   0.0s\n",
      "[CV 4/5] END ........................gamma=scale, kernel=rbf; total time=   0.0s\n",
      "[CV 5/5] END ........................gamma=scale, kernel=rbf; total time=   0.0s\n",
      "[CV 1/5] END ....................gamma=scale, kernel=sigmoid; total time=   0.0s\n",
      "[CV 2/5] END ....................gamma=scale, kernel=sigmoid; total time=   0.0s\n",
      "[CV 3/5] END ....................gamma=scale, kernel=sigmoid; total time=   0.0s\n",
      "[CV 4/5] END ....................gamma=scale, kernel=sigmoid; total time=   0.0s\n",
      "[CV 5/5] END ....................gamma=scale, kernel=sigmoid; total time=   0.0s\n",
      "[CV 1/5] END ......................gamma=auto, kernel=linear; total time=   0.0s\n",
      "[CV 2/5] END ......................gamma=auto, kernel=linear; total time=   0.0s\n",
      "[CV 3/5] END ......................gamma=auto, kernel=linear; total time=   0.0s\n",
      "[CV 4/5] END ......................gamma=auto, kernel=linear; total time=   0.0s\n",
      "[CV 5/5] END ......................gamma=auto, kernel=linear; total time=   0.0s\n",
      "[CV 1/5] END ........................gamma=auto, kernel=poly; total time=   0.0s\n",
      "[CV 2/5] END ........................gamma=auto, kernel=poly; total time=   0.0s\n",
      "[CV 3/5] END ........................gamma=auto, kernel=poly; total time=   0.0s\n",
      "[CV 4/5] END ........................gamma=auto, kernel=poly; total time=   0.0s\n",
      "[CV 5/5] END ........................gamma=auto, kernel=poly; total time=   0.0s\n",
      "[CV 1/5] END .........................gamma=auto, kernel=rbf; total time=   0.0s\n",
      "[CV 2/5] END .........................gamma=auto, kernel=rbf; total time=   0.0s\n",
      "[CV 3/5] END .........................gamma=auto, kernel=rbf; total time=   0.0s\n",
      "[CV 4/5] END .........................gamma=auto, kernel=rbf; total time=   0.0s\n",
      "[CV 5/5] END .........................gamma=auto, kernel=rbf; total time=   0.0s\n",
      "[CV 1/5] END .....................gamma=auto, kernel=sigmoid; total time=   0.0s\n",
      "[CV 2/5] END .....................gamma=auto, kernel=sigmoid; total time=   0.0s\n",
      "[CV 3/5] END .....................gamma=auto, kernel=sigmoid; total time=   0.0s\n",
      "[CV 4/5] END .....................gamma=auto, kernel=sigmoid; total time=   0.0s\n",
      "[CV 5/5] END .....................gamma=auto, kernel=sigmoid; total time=   0.0s\n"
     ]
    },
    {
     "data": {
      "text/plain": [
       "GridSearchCV(cv=5, estimator=SVC(),\n",
       "             param_grid=[{'gamma': ['scale', 'auto'],\n",
       "                          'kernel': ['linear', 'poly', 'rbf', 'sigmoid']}],\n",
       "             return_train_score=True, scoring='accuracy', verbose=3)"
      ]
     },
     "execution_count": 40,
     "metadata": {},
     "output_type": "execute_result"
    }
   ],
   "source": [
    "grid_search.fit(titanic_prepared,titanic_labels)"
   ]
  },
  {
   "cell_type": "code",
   "execution_count": 41,
   "id": "original-mounting",
   "metadata": {
    "execution": {
     "iopub.execute_input": "2021-06-09T18:56:54.393623Z",
     "iopub.status.busy": "2021-06-09T18:56:54.392658Z",
     "iopub.status.idle": "2021-06-09T18:56:54.401283Z",
     "shell.execute_reply": "2021-06-09T18:56:54.400588Z",
     "shell.execute_reply.started": "2021-06-09T13:44:16.376076Z"
    },
    "papermill": {
     "duration": 0.081666,
     "end_time": "2021-06-09T18:56:54.401461",
     "exception": false,
     "start_time": "2021-06-09T18:56:54.319795",
     "status": "completed"
    },
    "tags": []
   },
   "outputs": [
    {
     "name": "stdout",
     "output_type": "stream",
     "text": [
      "0.7873992255443407 {'gamma': 'scale', 'kernel': 'linear'}\n",
      "0.824579445185044 {'gamma': 'scale', 'kernel': 'poly'}\n",
      "0.8279311877102774 {'gamma': 'scale', 'kernel': 'rbf'}\n",
      "0.68727861359741 {'gamma': 'scale', 'kernel': 'sigmoid'}\n",
      "0.7873992255443407 {'gamma': 'auto', 'kernel': 'linear'}\n",
      "0.7829619754967307 {'gamma': 'auto', 'kernel': 'poly'}\n",
      "0.8279184917158636 {'gamma': 'auto', 'kernel': 'rbf'}\n",
      "0.699682600139656 {'gamma': 'auto', 'kernel': 'sigmoid'}\n"
     ]
    }
   ],
   "source": [
    "cvres = grid_search.cv_results_\n",
    "for mean_score, params in zip(cvres[\"mean_test_score\"], cvres[\"params\"]):\n",
    "    print(mean_score,params)"
   ]
  },
  {
   "cell_type": "code",
   "execution_count": 42,
   "id": "organized-microwave",
   "metadata": {
    "execution": {
     "iopub.execute_input": "2021-06-09T18:56:54.542610Z",
     "iopub.status.busy": "2021-06-09T18:56:54.541871Z",
     "iopub.status.idle": "2021-06-09T18:56:54.545148Z",
     "shell.execute_reply": "2021-06-09T18:56:54.545757Z",
     "shell.execute_reply.started": "2021-06-09T13:44:29.449566Z"
    },
    "papermill": {
     "duration": 0.076737,
     "end_time": "2021-06-09T18:56:54.546026",
     "exception": false,
     "start_time": "2021-06-09T18:56:54.469289",
     "status": "completed"
    },
    "tags": []
   },
   "outputs": [
    {
     "data": {
      "text/plain": [
       "{'gamma': 'scale', 'kernel': 'rbf'}"
      ]
     },
     "execution_count": 42,
     "metadata": {},
     "output_type": "execute_result"
    }
   ],
   "source": [
    "grid_search.best_params_"
   ]
  },
  {
   "cell_type": "code",
   "execution_count": 43,
   "id": "junior-stanley",
   "metadata": {
    "execution": {
     "iopub.execute_input": "2021-06-09T18:56:54.683196Z",
     "iopub.status.busy": "2021-06-09T18:56:54.682530Z",
     "iopub.status.idle": "2021-06-09T18:56:54.687753Z",
     "shell.execute_reply": "2021-06-09T18:56:54.688294Z",
     "shell.execute_reply.started": "2021-06-09T14:06:31.976202Z"
    },
    "papermill": {
     "duration": 0.075769,
     "end_time": "2021-06-09T18:56:54.688462",
     "exception": false,
     "start_time": "2021-06-09T18:56:54.612693",
     "status": "completed"
    },
    "tags": []
   },
   "outputs": [],
   "source": [
    "forest_param_grid = [\n",
    "    {'n_estimators': [30,40,50], 'max_features':[4,6,8]},\n",
    "]"
   ]
  },
  {
   "cell_type": "code",
   "execution_count": 44,
   "id": "collected-sculpture",
   "metadata": {
    "execution": {
     "iopub.execute_input": "2021-06-09T18:56:54.831359Z",
     "iopub.status.busy": "2021-06-09T18:56:54.830688Z",
     "iopub.status.idle": "2021-06-09T18:56:54.834348Z",
     "shell.execute_reply": "2021-06-09T18:56:54.833818Z",
     "shell.execute_reply.started": "2021-06-09T14:06:32.367407Z"
    },
    "papermill": {
     "duration": 0.079159,
     "end_time": "2021-06-09T18:56:54.834494",
     "exception": false,
     "start_time": "2021-06-09T18:56:54.755335",
     "status": "completed"
    },
    "tags": []
   },
   "outputs": [],
   "source": [
    "grid_search2 = GridSearchCV(forest_clf, forest_param_grid,\n",
    "                           cv=5, scoring='accuracy',\n",
    "                           return_train_score=True, verbose=3)"
   ]
  },
  {
   "cell_type": "code",
   "execution_count": 45,
   "id": "recreational-color",
   "metadata": {
    "execution": {
     "iopub.execute_input": "2021-06-09T18:56:54.976645Z",
     "iopub.status.busy": "2021-06-09T18:56:54.975997Z",
     "iopub.status.idle": "2021-06-09T18:57:00.184691Z",
     "shell.execute_reply": "2021-06-09T18:57:00.183296Z",
     "shell.execute_reply.started": "2021-06-09T14:06:33.13165Z"
    },
    "papermill": {
     "duration": 5.28264,
     "end_time": "2021-06-09T18:57:00.184904",
     "exception": false,
     "start_time": "2021-06-09T18:56:54.902264",
     "status": "completed"
    },
    "tags": []
   },
   "outputs": [
    {
     "name": "stdout",
     "output_type": "stream",
     "text": [
      "Fitting 5 folds for each of 9 candidates, totalling 45 fits\n",
      "[CV 1/5] END ................max_features=4, n_estimators=30; total time=   0.1s\n",
      "[CV 2/5] END ................max_features=4, n_estimators=30; total time=   0.1s\n",
      "[CV 3/5] END ................max_features=4, n_estimators=30; total time=   0.1s\n",
      "[CV 4/5] END ................max_features=4, n_estimators=30; total time=   0.1s\n",
      "[CV 5/5] END ................max_features=4, n_estimators=30; total time=   0.1s\n",
      "[CV 1/5] END ................max_features=4, n_estimators=40; total time=   0.1s\n",
      "[CV 2/5] END ................max_features=4, n_estimators=40; total time=   0.1s\n",
      "[CV 3/5] END ................max_features=4, n_estimators=40; total time=   0.1s\n",
      "[CV 4/5] END ................max_features=4, n_estimators=40; total time=   0.1s\n",
      "[CV 5/5] END ................max_features=4, n_estimators=40; total time=   0.1s\n",
      "[CV 1/5] END ................max_features=4, n_estimators=50; total time=   0.1s\n",
      "[CV 2/5] END ................max_features=4, n_estimators=50; total time=   0.1s\n",
      "[CV 3/5] END ................max_features=4, n_estimators=50; total time=   0.1s\n",
      "[CV 4/5] END ................max_features=4, n_estimators=50; total time=   0.1s\n",
      "[CV 5/5] END ................max_features=4, n_estimators=50; total time=   0.1s\n",
      "[CV 1/5] END ................max_features=6, n_estimators=30; total time=   0.1s\n",
      "[CV 2/5] END ................max_features=6, n_estimators=30; total time=   0.1s\n",
      "[CV 3/5] END ................max_features=6, n_estimators=30; total time=   0.1s\n",
      "[CV 4/5] END ................max_features=6, n_estimators=30; total time=   0.1s\n",
      "[CV 5/5] END ................max_features=6, n_estimators=30; total time=   0.1s\n",
      "[CV 1/5] END ................max_features=6, n_estimators=40; total time=   0.1s\n",
      "[CV 2/5] END ................max_features=6, n_estimators=40; total time=   0.1s\n",
      "[CV 3/5] END ................max_features=6, n_estimators=40; total time=   0.1s\n",
      "[CV 4/5] END ................max_features=6, n_estimators=40; total time=   0.1s\n",
      "[CV 5/5] END ................max_features=6, n_estimators=40; total time=   0.1s\n",
      "[CV 1/5] END ................max_features=6, n_estimators=50; total time=   0.1s\n",
      "[CV 2/5] END ................max_features=6, n_estimators=50; total time=   0.1s\n",
      "[CV 3/5] END ................max_features=6, n_estimators=50; total time=   0.1s\n",
      "[CV 4/5] END ................max_features=6, n_estimators=50; total time=   0.1s\n",
      "[CV 5/5] END ................max_features=6, n_estimators=50; total time=   0.1s\n",
      "[CV 1/5] END ................max_features=8, n_estimators=30; total time=   0.1s\n",
      "[CV 2/5] END ................max_features=8, n_estimators=30; total time=   0.1s\n",
      "[CV 3/5] END ................max_features=8, n_estimators=30; total time=   0.1s\n",
      "[CV 4/5] END ................max_features=8, n_estimators=30; total time=   0.1s\n",
      "[CV 5/5] END ................max_features=8, n_estimators=30; total time=   0.1s\n",
      "[CV 1/5] END ................max_features=8, n_estimators=40; total time=   0.1s\n",
      "[CV 2/5] END ................max_features=8, n_estimators=40; total time=   0.1s\n",
      "[CV 3/5] END ................max_features=8, n_estimators=40; total time=   0.1s\n",
      "[CV 4/5] END ................max_features=8, n_estimators=40; total time=   0.1s\n",
      "[CV 5/5] END ................max_features=8, n_estimators=40; total time=   0.1s\n",
      "[CV 1/5] END ................max_features=8, n_estimators=50; total time=   0.1s\n",
      "[CV 2/5] END ................max_features=8, n_estimators=50; total time=   0.1s\n",
      "[CV 3/5] END ................max_features=8, n_estimators=50; total time=   0.1s\n",
      "[CV 4/5] END ................max_features=8, n_estimators=50; total time=   0.1s\n",
      "[CV 5/5] END ................max_features=8, n_estimators=50; total time=   0.1s\n"
     ]
    },
    {
     "data": {
      "text/plain": [
       "GridSearchCV(cv=5, estimator=RandomForestClassifier(random_state=42),\n",
       "             param_grid=[{'max_features': [4, 6, 8],\n",
       "                          'n_estimators': [30, 40, 50]}],\n",
       "             return_train_score=True, scoring='accuracy', verbose=3)"
      ]
     },
     "execution_count": 45,
     "metadata": {},
     "output_type": "execute_result"
    }
   ],
   "source": [
    "grid_search2.fit(titanic_prepared,titanic_labels)"
   ]
  },
  {
   "cell_type": "code",
   "execution_count": 46,
   "id": "thrown-attention",
   "metadata": {
    "execution": {
     "iopub.execute_input": "2021-06-09T18:57:00.339460Z",
     "iopub.status.busy": "2021-06-09T18:57:00.338551Z",
     "iopub.status.idle": "2021-06-09T18:57:00.342768Z",
     "shell.execute_reply": "2021-06-09T18:57:00.342175Z",
     "shell.execute_reply.started": "2021-06-09T14:06:44.264224Z"
    },
    "papermill": {
     "duration": 0.084381,
     "end_time": "2021-06-09T18:57:00.342931",
     "exception": false,
     "start_time": "2021-06-09T18:57:00.258550",
     "status": "completed"
    },
    "tags": []
   },
   "outputs": [
    {
     "data": {
      "text/plain": [
       "{'max_features': 6, 'n_estimators': 40}"
      ]
     },
     "execution_count": 46,
     "metadata": {},
     "output_type": "execute_result"
    }
   ],
   "source": [
    "grid_search2.best_params_"
   ]
  },
  {
   "cell_type": "code",
   "execution_count": 47,
   "id": "continuing-marathon",
   "metadata": {
    "execution": {
     "iopub.execute_input": "2021-06-09T18:57:00.495505Z",
     "iopub.status.busy": "2021-06-09T18:57:00.494731Z",
     "iopub.status.idle": "2021-06-09T18:57:00.500313Z",
     "shell.execute_reply": "2021-06-09T18:57:00.501009Z",
     "shell.execute_reply.started": "2021-06-09T14:04:27.793715Z"
    },
    "papermill": {
     "duration": 0.08476,
     "end_time": "2021-06-09T18:57:00.501251",
     "exception": false,
     "start_time": "2021-06-09T18:57:00.416491",
     "status": "completed"
    },
    "tags": []
   },
   "outputs": [
    {
     "name": "stdout",
     "output_type": "stream",
     "text": [
      "0.8087856281343238 {'max_features': 4, 'n_estimators': 30}\n",
      "0.8110391671427664 {'max_features': 4, 'n_estimators': 40}\n",
      "0.8144099536596204 {'max_features': 4, 'n_estimators': 50}\n",
      "0.8121627626483845 {'max_features': 6, 'n_estimators': 30}\n",
      "0.8200596711737447 {'max_features': 6, 'n_estimators': 40}\n",
      "0.8178061321653018 {'max_features': 6, 'n_estimators': 50}\n",
      "0.815552593156859 {'max_features': 8, 'n_estimators': 30}\n",
      "0.8088173681203579 {'max_features': 8, 'n_estimators': 40}\n",
      "0.8121945026344187 {'max_features': 8, 'n_estimators': 50}\n"
     ]
    }
   ],
   "source": [
    "cvres = grid_search2.cv_results_\n",
    "for mean_score, params in zip(cvres[\"mean_test_score\"], cvres[\"params\"]):\n",
    "    print(mean_score,params)"
   ]
  },
  {
   "cell_type": "code",
   "execution_count": 48,
   "id": "smoking-gospel",
   "metadata": {
    "execution": {
     "iopub.execute_input": "2021-06-09T18:57:00.655550Z",
     "iopub.status.busy": "2021-06-09T18:57:00.654695Z",
     "iopub.status.idle": "2021-06-09T18:57:00.658611Z",
     "shell.execute_reply": "2021-06-09T18:57:00.658089Z",
     "shell.execute_reply.started": "2021-06-09T14:15:47.008068Z"
    },
    "papermill": {
     "duration": 0.082508,
     "end_time": "2021-06-09T18:57:00.658755",
     "exception": false,
     "start_time": "2021-06-09T18:57:00.576247",
     "status": "completed"
    },
    "tags": []
   },
   "outputs": [],
   "source": [
    "best_clf=grid_search.best_estimator_"
   ]
  },
  {
   "cell_type": "code",
   "execution_count": 49,
   "id": "improved-muslim",
   "metadata": {
    "execution": {
     "iopub.execute_input": "2021-06-09T18:57:00.812554Z",
     "iopub.status.busy": "2021-06-09T18:57:00.811653Z",
     "iopub.status.idle": "2021-06-09T18:57:00.815900Z",
     "shell.execute_reply": "2021-06-09T18:57:00.816365Z",
     "shell.execute_reply.started": "2021-06-09T14:15:50.905886Z"
    },
    "papermill": {
     "duration": 0.084065,
     "end_time": "2021-06-09T18:57:00.816546",
     "exception": false,
     "start_time": "2021-06-09T18:57:00.732481",
     "status": "completed"
    },
    "tags": []
   },
   "outputs": [
    {
     "data": {
      "text/plain": [
       "SVC()"
      ]
     },
     "execution_count": 49,
     "metadata": {},
     "output_type": "execute_result"
    }
   ],
   "source": [
    "best_clf"
   ]
  },
  {
   "cell_type": "markdown",
   "id": "loving-illustration",
   "metadata": {
    "execution": {
     "iopub.execute_input": "2021-06-09T14:10:30.370808Z",
     "iopub.status.busy": "2021-06-09T14:10:30.370378Z",
     "iopub.status.idle": "2021-06-09T14:10:30.378384Z",
     "shell.execute_reply": "2021-06-09T14:10:30.377602Z",
     "shell.execute_reply.started": "2021-06-09T14:10:30.370764Z"
    },
    "papermill": {
     "duration": 0.074927,
     "end_time": "2021-06-09T18:57:00.965580",
     "exception": false,
     "start_time": "2021-06-09T18:57:00.890653",
     "status": "completed"
    },
    "tags": []
   },
   "source": [
    "# Results"
   ]
  },
  {
   "cell_type": "code",
   "execution_count": 50,
   "id": "least-gregory",
   "metadata": {
    "execution": {
     "iopub.execute_input": "2021-06-09T18:57:01.128986Z",
     "iopub.status.busy": "2021-06-09T18:57:01.126422Z",
     "iopub.status.idle": "2021-06-09T18:57:01.133126Z",
     "shell.execute_reply": "2021-06-09T18:57:01.132600Z",
     "shell.execute_reply.started": "2021-06-09T14:13:30.865999Z"
    },
    "papermill": {
     "duration": 0.091977,
     "end_time": "2021-06-09T18:57:01.133294",
     "exception": false,
     "start_time": "2021-06-09T18:57:01.041317",
     "status": "completed"
    },
    "tags": []
   },
   "outputs": [],
   "source": [
    "test_dropped = test_data.drop([\"Cabin\",\"Ticket\"], axis=1)\n",
    "test_prepared = full_pipeline.transform(test_dropped)"
   ]
  },
  {
   "cell_type": "code",
   "execution_count": 51,
   "id": "working-catch",
   "metadata": {
    "execution": {
     "iopub.execute_input": "2021-06-09T18:57:01.288824Z",
     "iopub.status.busy": "2021-06-09T18:57:01.287948Z",
     "iopub.status.idle": "2021-06-09T18:57:01.310069Z",
     "shell.execute_reply": "2021-06-09T18:57:01.309411Z",
     "shell.execute_reply.started": "2021-06-09T14:21:00.342059Z"
    },
    "papermill": {
     "duration": 0.102162,
     "end_time": "2021-06-09T18:57:01.310225",
     "exception": false,
     "start_time": "2021-06-09T18:57:01.208063",
     "status": "completed"
    },
    "tags": []
   },
   "outputs": [
    {
     "name": "stdout",
     "output_type": "stream",
     "text": [
      "Your submission was successfully saved!\n"
     ]
    }
   ],
   "source": [
    "predictions = best_clf.predict(test_prepared)\n",
    "\n",
    "output = pd.DataFrame({'PassengerId': test_data.index, 'Survived': predictions})\n",
    "output.to_csv('my_submission.csv', index=False)\n",
    "print(\"Your submission was successfully saved!\")"
   ]
  },
  {
   "cell_type": "markdown",
   "id": "perceived-somalia",
   "metadata": {
    "papermill": {
     "duration": 0.073748,
     "end_time": "2021-06-09T18:57:01.458133",
     "exception": false,
     "start_time": "2021-06-09T18:57:01.384385",
     "status": "completed"
    },
    "tags": []
   },
   "source": [
    "Found the Support Vector Machine (SVM) classifier to be the best so far, acheiving an accuracy of **77.5%** on the test set."
   ]
  }
 ],
 "metadata": {
  "kernelspec": {
   "display_name": "Python 3",
   "language": "python",
   "name": "python3"
  },
  "language_info": {
   "codemirror_mode": {
    "name": "ipython",
    "version": 3
   },
   "file_extension": ".py",
   "mimetype": "text/x-python",
   "name": "python",
   "nbconvert_exporter": "python",
   "pygments_lexer": "ipython3",
   "version": "3.7.9"
  },
  "papermill": {
   "default_parameters": {},
   "duration": 32.114363,
   "end_time": "2021-06-09T18:57:03.526818",
   "environment_variables": {},
   "exception": null,
   "input_path": "__notebook__.ipynb",
   "output_path": "__notebook__.ipynb",
   "parameters": {},
   "start_time": "2021-06-09T18:56:31.412455",
   "version": "2.3.2"
  }
 },
 "nbformat": 4,
 "nbformat_minor": 5
}
