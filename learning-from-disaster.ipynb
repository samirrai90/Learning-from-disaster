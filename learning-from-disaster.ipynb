{
 "cells": [
  {
   "cell_type": "code",
   "execution_count": 1,
   "id": "therapeutic-customer",
   "metadata": {
    "_cell_guid": "b1076dfc-b9ad-4769-8c92-a6c4dae69d19",
    "_uuid": "8f2839f25d086af736a60e9eeb907d3b93b6e0e5",
    "execution": {
     "iopub.execute_input": "2021-05-27T14:03:42.892618Z",
     "iopub.status.busy": "2021-05-27T14:03:42.891774Z",
     "iopub.status.idle": "2021-05-27T14:03:43.849416Z",
     "shell.execute_reply": "2021-05-27T14:03:43.848180Z",
     "shell.execute_reply.started": "2021-05-27T13:24:32.814762Z"
    },
    "papermill": {
     "duration": 1.019723,
     "end_time": "2021-05-27T14:03:43.849725",
     "exception": false,
     "start_time": "2021-05-27T14:03:42.830002",
     "status": "completed"
    },
    "tags": []
   },
   "outputs": [
    {
     "name": "stdout",
     "output_type": "stream",
     "text": [
      "/kaggle/input/titanic/train.csv\n",
      "/kaggle/input/titanic/test.csv\n",
      "/kaggle/input/titanic/gender_submission.csv\n"
     ]
    }
   ],
   "source": [
    "# This Python 3 environment comes with many helpful analytics libraries installed\n",
    "# It is defined by the kaggle/python Docker image: https://github.com/kaggle/docker-python\n",
    "# For example, here's several helpful packages to load\n",
    "\n",
    "import numpy as np # linear algebra\n",
    "import pandas as pd # data processing, CSV file I/O (e.g. pd.read_csv)\n",
    "import seaborn as sns\n",
    "\n",
    "# Input data files are available in the read-only \"../input/\" directory\n",
    "# For example, running this (by clicking run or pressing Shift+Enter) will list all files under the input directory\n",
    "\n",
    "import os\n",
    "for dirname, _, filenames in os.walk('/kaggle/input'):\n",
    "    for filename in filenames:\\\n",
    "        print(os.path.join(dirname, filename))\n",
    "\n",
    "# You can write up to 20GB to the current directory (/kaggle/working/) that gets preserved as output when you create a version using \"Save & Run All\" \n",
    "# You can also write temporary files to /kaggle/temp/, but they won't be saved outside of the current session"
   ]
  },
  {
   "cell_type": "code",
   "execution_count": 2,
   "id": "middle-audience",
   "metadata": {
    "execution": {
     "iopub.execute_input": "2021-05-27T14:03:43.975249Z",
     "iopub.status.busy": "2021-05-27T14:03:43.974398Z",
     "iopub.status.idle": "2021-05-27T14:03:43.977091Z",
     "shell.execute_reply": "2021-05-27T14:03:43.976443Z",
     "shell.execute_reply.started": "2021-05-27T12:51:54.057900Z"
    },
    "papermill": {
     "duration": 0.070845,
     "end_time": "2021-05-27T14:03:43.977235",
     "exception": false,
     "start_time": "2021-05-27T14:03:43.906390",
     "status": "completed"
    },
    "tags": []
   },
   "outputs": [],
   "source": [
    "%matplotlib inline\n",
    "import matplotlib as mpl\n",
    "import matplotlib.pyplot as plt\n",
    "mpl.rc('axes', labelsize=14)\n",
    "mpl.rc('xtick', labelsize=12)\n",
    "mpl.rc('ytick', labelsize=12)\n",
    "np.random.seed(42)"
   ]
  },
  {
   "cell_type": "markdown",
   "id": "stopped-vintage",
   "metadata": {
    "papermill": {
     "duration": 0.056117,
     "end_time": "2021-05-27T14:03:44.087880",
     "exception": false,
     "start_time": "2021-05-27T14:03:44.031763",
     "status": "completed"
    },
    "tags": []
   },
   "source": [
    "Machine Learning Project Checklist \n",
    "\n",
    "1. Look at the big picture and frame the problem\n",
    "2. Get the data\n",
    "3. Explore the data to gain insights\n",
    "4. Prepare the data for Machine Learning algorithms\n",
    "5. Select and Train Model\n",
    "6. Fine-tune your model\n"
   ]
  },
  {
   "cell_type": "markdown",
   "id": "illegal-cylinder",
   "metadata": {
    "papermill": {
     "duration": 0.054702,
     "end_time": "2021-05-27T14:03:44.196738",
     "exception": false,
     "start_time": "2021-05-27T14:03:44.142036",
     "status": "completed"
    },
    "tags": []
   },
   "source": [
    "# 1. Frame the problem\n",
    "\n",
    "The task is to find out who survived the disaster given a set of details about a passenger on the titanic. An output of 1, if they had survived and 0, if they had not. This is a supervised problem and a classifcation task. Model and batch learning techniques are to be implemented."
   ]
  },
  {
   "cell_type": "markdown",
   "id": "descending-korea",
   "metadata": {
    "papermill": {
     "duration": 0.056298,
     "end_time": "2021-05-27T14:03:44.307748",
     "exception": false,
     "start_time": "2021-05-27T14:03:44.251450",
     "status": "completed"
    },
    "tags": []
   },
   "source": [
    "## Performance Measure\n",
    "\n",
    "Will be using a utility function of precision and recall, via a confusion matrix. "
   ]
  },
  {
   "cell_type": "markdown",
   "id": "orange-florida",
   "metadata": {
    "papermill": {
     "duration": 0.054727,
     "end_time": "2021-05-27T14:03:44.417436",
     "exception": false,
     "start_time": "2021-05-27T14:03:44.362709",
     "status": "completed"
    },
    "tags": []
   },
   "source": [
    "# 2. Getting the Data"
   ]
  },
  {
   "cell_type": "code",
   "execution_count": 3,
   "id": "special-child",
   "metadata": {
    "execution": {
     "iopub.execute_input": "2021-05-27T14:03:44.531300Z",
     "iopub.status.busy": "2021-05-27T14:03:44.530475Z",
     "iopub.status.idle": "2021-05-27T14:03:44.576171Z",
     "shell.execute_reply": "2021-05-27T14:03:44.576710Z",
     "shell.execute_reply.started": "2021-05-27T12:51:58.234755Z"
    },
    "papermill": {
     "duration": 0.103049,
     "end_time": "2021-05-27T14:03:44.576911",
     "exception": false,
     "start_time": "2021-05-27T14:03:44.473862",
     "status": "completed"
    },
    "tags": []
   },
   "outputs": [],
   "source": [
    "train_data = pd.read_csv('/kaggle/input/titanic/train.csv', index_col=0)\n",
    "test_data = pd.read_csv('/kaggle/input/titanic/test.csv',index_col=0)"
   ]
  },
  {
   "cell_type": "markdown",
   "id": "surrounded-judges",
   "metadata": {
    "execution": {
     "iopub.execute_input": "2021-05-27T13:06:16.151033Z",
     "iopub.status.busy": "2021-05-27T13:06:16.150608Z",
     "iopub.status.idle": "2021-05-27T13:06:16.155447Z",
     "shell.execute_reply": "2021-05-27T13:06:16.154307Z",
     "shell.execute_reply.started": "2021-05-27T13:06:16.151000Z"
    },
    "papermill": {
     "duration": 0.054407,
     "end_time": "2021-05-27T14:03:44.688251",
     "exception": false,
     "start_time": "2021-05-27T14:03:44.633844",
     "status": "completed"
    },
    "tags": []
   },
   "source": [
    "## Quick look at the Data Structure"
   ]
  },
  {
   "cell_type": "code",
   "execution_count": 4,
   "id": "seventh-affairs",
   "metadata": {
    "execution": {
     "iopub.execute_input": "2021-05-27T14:03:44.799546Z",
     "iopub.status.busy": "2021-05-27T14:03:44.798863Z",
     "iopub.status.idle": "2021-05-27T14:03:44.823706Z",
     "shell.execute_reply": "2021-05-27T14:03:44.824272Z",
     "shell.execute_reply.started": "2021-05-27T12:52:18.248697Z"
    },
    "papermill": {
     "duration": 0.081917,
     "end_time": "2021-05-27T14:03:44.824451",
     "exception": false,
     "start_time": "2021-05-27T14:03:44.742534",
     "status": "completed"
    },
    "tags": []
   },
   "outputs": [
    {
     "data": {
      "text/html": [
       "<div>\n",
       "<style scoped>\n",
       "    .dataframe tbody tr th:only-of-type {\n",
       "        vertical-align: middle;\n",
       "    }\n",
       "\n",
       "    .dataframe tbody tr th {\n",
       "        vertical-align: top;\n",
       "    }\n",
       "\n",
       "    .dataframe thead th {\n",
       "        text-align: right;\n",
       "    }\n",
       "</style>\n",
       "<table border=\"1\" class=\"dataframe\">\n",
       "  <thead>\n",
       "    <tr style=\"text-align: right;\">\n",
       "      <th></th>\n",
       "      <th>Survived</th>\n",
       "      <th>Pclass</th>\n",
       "      <th>Name</th>\n",
       "      <th>Sex</th>\n",
       "      <th>Age</th>\n",
       "      <th>SibSp</th>\n",
       "      <th>Parch</th>\n",
       "      <th>Ticket</th>\n",
       "      <th>Fare</th>\n",
       "      <th>Cabin</th>\n",
       "      <th>Embarked</th>\n",
       "    </tr>\n",
       "    <tr>\n",
       "      <th>PassengerId</th>\n",
       "      <th></th>\n",
       "      <th></th>\n",
       "      <th></th>\n",
       "      <th></th>\n",
       "      <th></th>\n",
       "      <th></th>\n",
       "      <th></th>\n",
       "      <th></th>\n",
       "      <th></th>\n",
       "      <th></th>\n",
       "      <th></th>\n",
       "    </tr>\n",
       "  </thead>\n",
       "  <tbody>\n",
       "    <tr>\n",
       "      <th>1</th>\n",
       "      <td>0</td>\n",
       "      <td>3</td>\n",
       "      <td>Braund, Mr. Owen Harris</td>\n",
       "      <td>male</td>\n",
       "      <td>22.0</td>\n",
       "      <td>1</td>\n",
       "      <td>0</td>\n",
       "      <td>A/5 21171</td>\n",
       "      <td>7.2500</td>\n",
       "      <td>NaN</td>\n",
       "      <td>S</td>\n",
       "    </tr>\n",
       "    <tr>\n",
       "      <th>2</th>\n",
       "      <td>1</td>\n",
       "      <td>1</td>\n",
       "      <td>Cumings, Mrs. John Bradley (Florence Briggs Th...</td>\n",
       "      <td>female</td>\n",
       "      <td>38.0</td>\n",
       "      <td>1</td>\n",
       "      <td>0</td>\n",
       "      <td>PC 17599</td>\n",
       "      <td>71.2833</td>\n",
       "      <td>C85</td>\n",
       "      <td>C</td>\n",
       "    </tr>\n",
       "    <tr>\n",
       "      <th>3</th>\n",
       "      <td>1</td>\n",
       "      <td>3</td>\n",
       "      <td>Heikkinen, Miss. Laina</td>\n",
       "      <td>female</td>\n",
       "      <td>26.0</td>\n",
       "      <td>0</td>\n",
       "      <td>0</td>\n",
       "      <td>STON/O2. 3101282</td>\n",
       "      <td>7.9250</td>\n",
       "      <td>NaN</td>\n",
       "      <td>S</td>\n",
       "    </tr>\n",
       "    <tr>\n",
       "      <th>4</th>\n",
       "      <td>1</td>\n",
       "      <td>1</td>\n",
       "      <td>Futrelle, Mrs. Jacques Heath (Lily May Peel)</td>\n",
       "      <td>female</td>\n",
       "      <td>35.0</td>\n",
       "      <td>1</td>\n",
       "      <td>0</td>\n",
       "      <td>113803</td>\n",
       "      <td>53.1000</td>\n",
       "      <td>C123</td>\n",
       "      <td>S</td>\n",
       "    </tr>\n",
       "    <tr>\n",
       "      <th>5</th>\n",
       "      <td>0</td>\n",
       "      <td>3</td>\n",
       "      <td>Allen, Mr. William Henry</td>\n",
       "      <td>male</td>\n",
       "      <td>35.0</td>\n",
       "      <td>0</td>\n",
       "      <td>0</td>\n",
       "      <td>373450</td>\n",
       "      <td>8.0500</td>\n",
       "      <td>NaN</td>\n",
       "      <td>S</td>\n",
       "    </tr>\n",
       "  </tbody>\n",
       "</table>\n",
       "</div>"
      ],
      "text/plain": [
       "             Survived  Pclass  \\\n",
       "PassengerId                     \n",
       "1                   0       3   \n",
       "2                   1       1   \n",
       "3                   1       3   \n",
       "4                   1       1   \n",
       "5                   0       3   \n",
       "\n",
       "                                                          Name     Sex   Age  \\\n",
       "PassengerId                                                                    \n",
       "1                                      Braund, Mr. Owen Harris    male  22.0   \n",
       "2            Cumings, Mrs. John Bradley (Florence Briggs Th...  female  38.0   \n",
       "3                                       Heikkinen, Miss. Laina  female  26.0   \n",
       "4                 Futrelle, Mrs. Jacques Heath (Lily May Peel)  female  35.0   \n",
       "5                                     Allen, Mr. William Henry    male  35.0   \n",
       "\n",
       "             SibSp  Parch            Ticket     Fare Cabin Embarked  \n",
       "PassengerId                                                          \n",
       "1                1      0         A/5 21171   7.2500   NaN        S  \n",
       "2                1      0          PC 17599  71.2833   C85        C  \n",
       "3                0      0  STON/O2. 3101282   7.9250   NaN        S  \n",
       "4                1      0            113803  53.1000  C123        S  \n",
       "5                0      0            373450   8.0500   NaN        S  "
      ]
     },
     "execution_count": 4,
     "metadata": {},
     "output_type": "execute_result"
    }
   ],
   "source": [
    "train_data.head()"
   ]
  },
  {
   "cell_type": "markdown",
   "id": "vital-titanium",
   "metadata": {
    "papermill": {
     "duration": 0.057442,
     "end_time": "2021-05-27T14:03:44.936533",
     "exception": false,
     "start_time": "2021-05-27T14:03:44.879091",
     "status": "completed"
    },
    "tags": []
   },
   "source": [
    "Can see there are a total of 11 attributes: `Survived, Pclass, Name, Sex, Age, SibSp, Parch, Ticket, Fare, Cabin, Embarked`."
   ]
  },
  {
   "cell_type": "code",
   "execution_count": 5,
   "id": "prerequisite-medium",
   "metadata": {
    "execution": {
     "iopub.execute_input": "2021-05-27T14:03:45.053877Z",
     "iopub.status.busy": "2021-05-27T14:03:45.053234Z",
     "iopub.status.idle": "2021-05-27T14:03:45.073918Z",
     "shell.execute_reply": "2021-05-27T14:03:45.074510Z",
     "shell.execute_reply.started": "2021-05-27T12:55:17.287108Z"
    },
    "papermill": {
     "duration": 0.081093,
     "end_time": "2021-05-27T14:03:45.074704",
     "exception": false,
     "start_time": "2021-05-27T14:03:44.993611",
     "status": "completed"
    },
    "tags": []
   },
   "outputs": [
    {
     "name": "stdout",
     "output_type": "stream",
     "text": [
      "<class 'pandas.core.frame.DataFrame'>\n",
      "Int64Index: 891 entries, 1 to 891\n",
      "Data columns (total 11 columns):\n",
      " #   Column    Non-Null Count  Dtype  \n",
      "---  ------    --------------  -----  \n",
      " 0   Survived  891 non-null    int64  \n",
      " 1   Pclass    891 non-null    int64  \n",
      " 2   Name      891 non-null    object \n",
      " 3   Sex       891 non-null    object \n",
      " 4   Age       714 non-null    float64\n",
      " 5   SibSp     891 non-null    int64  \n",
      " 6   Parch     891 non-null    int64  \n",
      " 7   Ticket    891 non-null    object \n",
      " 8   Fare      891 non-null    float64\n",
      " 9   Cabin     204 non-null    object \n",
      " 10  Embarked  889 non-null    object \n",
      "dtypes: float64(2), int64(4), object(5)\n",
      "memory usage: 83.5+ KB\n"
     ]
    }
   ],
   "source": [
    "train_data.info() # quick description of the data"
   ]
  },
  {
   "cell_type": "markdown",
   "id": "demonstrated-legislation",
   "metadata": {
    "papermill": {
     "duration": 0.054196,
     "end_time": "2021-05-27T14:03:45.187192",
     "exception": false,
     "start_time": "2021-05-27T14:03:45.132996",
     "status": "completed"
    },
    "tags": []
   },
   "source": [
    "Very small amount of data will be implementing cross validation during validation of models.\n",
    "Let's have a closer look at text attributes."
   ]
  },
  {
   "cell_type": "code",
   "execution_count": 6,
   "id": "established-pizza",
   "metadata": {
    "execution": {
     "iopub.execute_input": "2021-05-27T14:03:45.301563Z",
     "iopub.status.busy": "2021-05-27T14:03:45.300883Z",
     "iopub.status.idle": "2021-05-27T14:03:45.306325Z",
     "shell.execute_reply": "2021-05-27T14:03:45.306833Z",
     "shell.execute_reply.started": "2021-05-27T13:01:20.941392Z"
    },
    "papermill": {
     "duration": 0.06526,
     "end_time": "2021-05-27T14:03:45.307011",
     "exception": false,
     "start_time": "2021-05-27T14:03:45.241751",
     "status": "completed"
    },
    "tags": []
   },
   "outputs": [
    {
     "data": {
      "text/plain": [
       "['Name', 'Sex', 'Ticket', 'Cabin', 'Embarked']"
      ]
     },
     "execution_count": 6,
     "metadata": {},
     "output_type": "execute_result"
    }
   ],
   "source": [
    "text_attributes = [col for col in train_data.columns if train_data[col].dtype=='object']\n",
    "text_attributes"
   ]
  },
  {
   "cell_type": "markdown",
   "id": "derived-experiment",
   "metadata": {
    "papermill": {
     "duration": 0.054818,
     "end_time": "2021-05-27T14:03:45.417272",
     "exception": false,
     "start_time": "2021-05-27T14:03:45.362454",
     "status": "completed"
    },
    "tags": []
   },
   "source": [
    "Two categorical attributes which are `Embarked` and `Sex`. It seems that cabin is missing a lot values. Might drop the attribute all together. "
   ]
  },
  {
   "cell_type": "code",
   "execution_count": 7,
   "id": "alpine-plaintiff",
   "metadata": {
    "execution": {
     "iopub.execute_input": "2021-05-27T14:03:45.536559Z",
     "iopub.status.busy": "2021-05-27T14:03:45.535934Z",
     "iopub.status.idle": "2021-05-27T14:03:45.545123Z",
     "shell.execute_reply": "2021-05-27T14:03:45.544555Z",
     "shell.execute_reply.started": "2021-05-27T13:02:19.493702Z"
    },
    "papermill": {
     "duration": 0.066995,
     "end_time": "2021-05-27T14:03:45.545275",
     "exception": false,
     "start_time": "2021-05-27T14:03:45.478280",
     "status": "completed"
    },
    "tags": []
   },
   "outputs": [
    {
     "data": {
      "text/plain": [
       "1601          7\n",
       "CA. 2343      7\n",
       "347082        7\n",
       "3101295       6\n",
       "CA 2144       6\n",
       "             ..\n",
       "C.A. 29178    1\n",
       "A/4. 34244    1\n",
       "370371        1\n",
       "349244        1\n",
       "F.C. 12750    1\n",
       "Name: Ticket, Length: 681, dtype: int64"
      ]
     },
     "execution_count": 7,
     "metadata": {},
     "output_type": "execute_result"
    }
   ],
   "source": [
    "train_data[\"Ticket\"].value_counts()"
   ]
  },
  {
   "cell_type": "markdown",
   "id": "charged-jimmy",
   "metadata": {
    "papermill": {
     "duration": 0.054465,
     "end_time": "2021-05-27T14:03:45.654751",
     "exception": false,
     "start_time": "2021-05-27T14:03:45.600286",
     "status": "completed"
    },
    "tags": []
   },
   "source": [
    "There may seem to be a pattern there where some tickets are just numbers while others also include letters at the start. Now to have a look at the numerical attributes."
   ]
  },
  {
   "cell_type": "code",
   "execution_count": 8,
   "id": "indian-oracle",
   "metadata": {
    "execution": {
     "iopub.execute_input": "2021-05-27T14:03:45.775794Z",
     "iopub.status.busy": "2021-05-27T14:03:45.774687Z",
     "iopub.status.idle": "2021-05-27T14:03:45.803245Z",
     "shell.execute_reply": "2021-05-27T14:03:45.802613Z",
     "shell.execute_reply.started": "2021-05-27T13:08:07.971708Z"
    },
    "papermill": {
     "duration": 0.09207,
     "end_time": "2021-05-27T14:03:45.803393",
     "exception": false,
     "start_time": "2021-05-27T14:03:45.711323",
     "status": "completed"
    },
    "tags": []
   },
   "outputs": [
    {
     "data": {
      "text/html": [
       "<div>\n",
       "<style scoped>\n",
       "    .dataframe tbody tr th:only-of-type {\n",
       "        vertical-align: middle;\n",
       "    }\n",
       "\n",
       "    .dataframe tbody tr th {\n",
       "        vertical-align: top;\n",
       "    }\n",
       "\n",
       "    .dataframe thead th {\n",
       "        text-align: right;\n",
       "    }\n",
       "</style>\n",
       "<table border=\"1\" class=\"dataframe\">\n",
       "  <thead>\n",
       "    <tr style=\"text-align: right;\">\n",
       "      <th></th>\n",
       "      <th>Survived</th>\n",
       "      <th>Pclass</th>\n",
       "      <th>Age</th>\n",
       "      <th>SibSp</th>\n",
       "      <th>Parch</th>\n",
       "      <th>Fare</th>\n",
       "    </tr>\n",
       "  </thead>\n",
       "  <tbody>\n",
       "    <tr>\n",
       "      <th>count</th>\n",
       "      <td>891.000000</td>\n",
       "      <td>891.000000</td>\n",
       "      <td>714.000000</td>\n",
       "      <td>891.000000</td>\n",
       "      <td>891.000000</td>\n",
       "      <td>891.000000</td>\n",
       "    </tr>\n",
       "    <tr>\n",
       "      <th>mean</th>\n",
       "      <td>0.383838</td>\n",
       "      <td>2.308642</td>\n",
       "      <td>29.699118</td>\n",
       "      <td>0.523008</td>\n",
       "      <td>0.381594</td>\n",
       "      <td>32.204208</td>\n",
       "    </tr>\n",
       "    <tr>\n",
       "      <th>std</th>\n",
       "      <td>0.486592</td>\n",
       "      <td>0.836071</td>\n",
       "      <td>14.526497</td>\n",
       "      <td>1.102743</td>\n",
       "      <td>0.806057</td>\n",
       "      <td>49.693429</td>\n",
       "    </tr>\n",
       "    <tr>\n",
       "      <th>min</th>\n",
       "      <td>0.000000</td>\n",
       "      <td>1.000000</td>\n",
       "      <td>0.420000</td>\n",
       "      <td>0.000000</td>\n",
       "      <td>0.000000</td>\n",
       "      <td>0.000000</td>\n",
       "    </tr>\n",
       "    <tr>\n",
       "      <th>25%</th>\n",
       "      <td>0.000000</td>\n",
       "      <td>2.000000</td>\n",
       "      <td>20.125000</td>\n",
       "      <td>0.000000</td>\n",
       "      <td>0.000000</td>\n",
       "      <td>7.910400</td>\n",
       "    </tr>\n",
       "    <tr>\n",
       "      <th>50%</th>\n",
       "      <td>0.000000</td>\n",
       "      <td>3.000000</td>\n",
       "      <td>28.000000</td>\n",
       "      <td>0.000000</td>\n",
       "      <td>0.000000</td>\n",
       "      <td>14.454200</td>\n",
       "    </tr>\n",
       "    <tr>\n",
       "      <th>75%</th>\n",
       "      <td>1.000000</td>\n",
       "      <td>3.000000</td>\n",
       "      <td>38.000000</td>\n",
       "      <td>1.000000</td>\n",
       "      <td>0.000000</td>\n",
       "      <td>31.000000</td>\n",
       "    </tr>\n",
       "    <tr>\n",
       "      <th>max</th>\n",
       "      <td>1.000000</td>\n",
       "      <td>3.000000</td>\n",
       "      <td>80.000000</td>\n",
       "      <td>8.000000</td>\n",
       "      <td>6.000000</td>\n",
       "      <td>512.329200</td>\n",
       "    </tr>\n",
       "  </tbody>\n",
       "</table>\n",
       "</div>"
      ],
      "text/plain": [
       "         Survived      Pclass         Age       SibSp       Parch        Fare\n",
       "count  891.000000  891.000000  714.000000  891.000000  891.000000  891.000000\n",
       "mean     0.383838    2.308642   29.699118    0.523008    0.381594   32.204208\n",
       "std      0.486592    0.836071   14.526497    1.102743    0.806057   49.693429\n",
       "min      0.000000    1.000000    0.420000    0.000000    0.000000    0.000000\n",
       "25%      0.000000    2.000000   20.125000    0.000000    0.000000    7.910400\n",
       "50%      0.000000    3.000000   28.000000    0.000000    0.000000   14.454200\n",
       "75%      1.000000    3.000000   38.000000    1.000000    0.000000   31.000000\n",
       "max      1.000000    3.000000   80.000000    8.000000    6.000000  512.329200"
      ]
     },
     "execution_count": 8,
     "metadata": {},
     "output_type": "execute_result"
    }
   ],
   "source": [
    "train_data.describe()"
   ]
  },
  {
   "cell_type": "markdown",
   "id": "helpful-tennessee",
   "metadata": {
    "papermill": {
     "duration": 0.060548,
     "end_time": "2021-05-27T14:03:45.920336",
     "exception": false,
     "start_time": "2021-05-27T14:03:45.859788",
     "status": "completed"
    },
    "tags": []
   },
   "source": [
    "Only `Age` is missing some values."
   ]
  },
  {
   "cell_type": "code",
   "execution_count": 9,
   "id": "occupied-bikini",
   "metadata": {
    "execution": {
     "iopub.execute_input": "2021-05-27T14:03:46.058769Z",
     "iopub.status.busy": "2021-05-27T14:03:46.058141Z",
     "iopub.status.idle": "2021-05-27T14:03:47.718365Z",
     "shell.execute_reply": "2021-05-27T14:03:47.717691Z",
     "shell.execute_reply.started": "2021-05-27T13:11:22.628451Z"
    },
    "papermill": {
     "duration": 1.730289,
     "end_time": "2021-05-27T14:03:47.718554",
     "exception": false,
     "start_time": "2021-05-27T14:03:45.988265",
     "status": "completed"
    },
    "tags": []
   },
   "outputs": [
    {
     "name": "stderr",
     "output_type": "stream",
     "text": [
      "/opt/conda/lib/python3.7/site-packages/pandas/plotting/_matplotlib/tools.py:400: MatplotlibDeprecationWarning: \n",
      "The is_first_col function was deprecated in Matplotlib 3.4 and will be removed two minor releases later. Use ax.get_subplotspec().is_first_col() instead.\n",
      "  if ax.is_first_col():\n"
     ]
    },
    {
     "data": {
      "text/plain": [
       "array([[<AxesSubplot:title={'center':'Survived'}>,\n",
       "        <AxesSubplot:title={'center':'Pclass'}>],\n",
       "       [<AxesSubplot:title={'center':'Age'}>,\n",
       "        <AxesSubplot:title={'center':'SibSp'}>],\n",
       "       [<AxesSubplot:title={'center':'Parch'}>,\n",
       "        <AxesSubplot:title={'center':'Fare'}>]], dtype=object)"
      ]
     },
     "execution_count": 9,
     "metadata": {},
     "output_type": "execute_result"
    },
    {
     "data": {
      "image/png": "[encoded data removed]",
      "text/plain": [
       "<Figure size 1440x1080 with 6 Axes>"
      ]
     },
     "metadata": {
      "needs_background": "light"
     },
     "output_type": "display_data"
    }
   ],
   "source": [
    "train_data.hist(bins=50, figsize=(20,15))"
   ]
  },
  {
   "cell_type": "markdown",
   "id": "golden-hurricane",
   "metadata": {
    "papermill": {
     "duration": 0.058982,
     "end_time": "2021-05-27T14:03:47.837346",
     "exception": false,
     "start_time": "2021-05-27T14:03:47.778364",
     "status": "completed"
    },
    "tags": []
   },
   "source": [
    "Got a few tail-heavy distributions namely, `SibSp, Fare, Parch, Age`. Theres seems to be a high number of passengers with 0 cost for their fares."
   ]
  },
  {
   "cell_type": "markdown",
   "id": "annoying-debut",
   "metadata": {
    "papermill": {
     "duration": 0.05835,
     "end_time": "2021-05-27T14:03:47.954316",
     "exception": false,
     "start_time": "2021-05-27T14:03:47.895966",
     "status": "completed"
    },
    "tags": []
   },
   "source": [
    "# Discover and Visualize Data to Give Insights"
   ]
  },
  {
   "cell_type": "code",
   "execution_count": 10,
   "id": "rolled-testing",
   "metadata": {
    "execution": {
     "iopub.execute_input": "2021-05-27T14:03:48.076041Z",
     "iopub.status.busy": "2021-05-27T14:03:48.075403Z",
     "iopub.status.idle": "2021-05-27T14:03:48.078335Z",
     "shell.execute_reply": "2021-05-27T14:03:48.077689Z",
     "shell.execute_reply.started": "2021-05-27T13:22:51.384492Z"
    },
    "papermill": {
     "duration": 0.065382,
     "end_time": "2021-05-27T14:03:48.078474",
     "exception": false,
     "start_time": "2021-05-27T14:03:48.013092",
     "status": "completed"
    },
    "tags": []
   },
   "outputs": [],
   "source": [
    "titanic = train_data.copy()"
   ]
  },
  {
   "cell_type": "markdown",
   "id": "valuable-channel",
   "metadata": {
    "papermill": {
     "duration": 0.057527,
     "end_time": "2021-05-27T14:03:48.193849",
     "exception": false,
     "start_time": "2021-05-27T14:03:48.136322",
     "status": "completed"
    },
    "tags": []
   },
   "source": [
    "## Looking for Correlations"
   ]
  },
  {
   "cell_type": "code",
   "execution_count": 11,
   "id": "enabling-irish",
   "metadata": {
    "execution": {
     "iopub.execute_input": "2021-05-27T14:03:48.315962Z",
     "iopub.status.busy": "2021-05-27T14:03:48.314272Z",
     "iopub.status.idle": "2021-05-27T14:03:48.324326Z",
     "shell.execute_reply": "2021-05-27T14:03:48.323777Z",
     "shell.execute_reply.started": "2021-05-27T13:22:57.387313Z"
    },
    "papermill": {
     "duration": 0.073233,
     "end_time": "2021-05-27T14:03:48.324473",
     "exception": false,
     "start_time": "2021-05-27T14:03:48.251240",
     "status": "completed"
    },
    "tags": []
   },
   "outputs": [
    {
     "data": {
      "text/plain": [
       "Survived    1.000000\n",
       "Fare        0.257307\n",
       "Parch       0.081629\n",
       "SibSp      -0.035322\n",
       "Age        -0.077221\n",
       "Pclass     -0.338481\n",
       "Name: Survived, dtype: float64"
      ]
     },
     "execution_count": 11,
     "metadata": {},
     "output_type": "execute_result"
    }
   ],
   "source": [
    "corr_matrix = titanic.corr()\n",
    "corr_matrix[\"Survived\"].sort_values(ascending=False)"
   ]
  },
  {
   "cell_type": "code",
   "execution_count": 12,
   "id": "accomplished-maintenance",
   "metadata": {
    "execution": {
     "iopub.execute_input": "2021-05-27T14:03:48.449553Z",
     "iopub.status.busy": "2021-05-27T14:03:48.447911Z",
     "iopub.status.idle": "2021-05-27T14:03:48.453568Z",
     "shell.execute_reply": "2021-05-27T14:03:48.454242Z",
     "shell.execute_reply.started": "2021-05-27T14:01:46.622505Z"
    },
    "papermill": {
     "duration": 0.071235,
     "end_time": "2021-05-27T14:03:48.454473",
     "exception": false,
     "start_time": "2021-05-27T14:03:48.383238",
     "status": "completed"
    },
    "tags": []
   },
   "outputs": [
    {
     "name": "stdout",
     "output_type": "stream",
     "text": [
      "% of women who survived: 0.7420382165605095\n"
     ]
    }
   ],
   "source": [
    "women = titanic.loc[titanic.Sex=='female'][\"Survived\"]\n",
    "women_rate = sum(women)/len(women)\n",
    "print(\"% of women who survived:\",women_rate)"
   ]
  },
  {
   "cell_type": "code",
   "execution_count": 13,
   "id": "cellular-coupon",
   "metadata": {
    "execution": {
     "iopub.execute_input": "2021-05-27T14:03:48.578044Z",
     "iopub.status.busy": "2021-05-27T14:03:48.576925Z",
     "iopub.status.idle": "2021-05-27T14:03:48.582657Z",
     "shell.execute_reply": "2021-05-27T14:03:48.583148Z",
     "shell.execute_reply.started": "2021-05-27T14:01:47.137348Z"
    },
    "papermill": {
     "duration": 0.069878,
     "end_time": "2021-05-27T14:03:48.583326",
     "exception": false,
     "start_time": "2021-05-27T14:03:48.513448",
     "status": "completed"
    },
    "tags": []
   },
   "outputs": [
    {
     "name": "stdout",
     "output_type": "stream",
     "text": [
      "% of men who survived: 0.18890814558058924\n"
     ]
    }
   ],
   "source": [
    "men = titanic.loc[titanic.Sex=='male'][\"Survived\"]\n",
    "men_rate = sum(men)/len(men)\n",
    "print(\"% of men who survived:\",men_rate)"
   ]
  },
  {
   "cell_type": "markdown",
   "id": "impressed-slave",
   "metadata": {
    "papermill": {
     "duration": 0.058681,
     "end_time": "2021-05-27T14:03:48.702335",
     "exception": false,
     "start_time": "2021-05-27T14:03:48.643654",
     "status": "completed"
    },
    "tags": []
   },
   "source": [
    "It seems that you were more like to survive if you were a women."
   ]
  },
  {
   "cell_type": "code",
   "execution_count": null,
   "id": "cheap-japan",
   "metadata": {
    "execution": {
     "iopub.execute_input": "2021-05-27T13:58:51.694580Z",
     "iopub.status.busy": "2021-05-27T13:58:51.694200Z",
     "iopub.status.idle": "2021-05-27T13:58:52.681806Z",
     "shell.execute_reply": "2021-05-27T13:58:52.680691Z",
     "shell.execute_reply.started": "2021-05-27T13:58:51.694543Z"
    },
    "papermill": {
     "duration": 0.060533,
     "end_time": "2021-05-27T14:03:48.823059",
     "exception": false,
     "start_time": "2021-05-27T14:03:48.762526",
     "status": "completed"
    },
    "tags": []
   },
   "outputs": [],
   "source": []
  },
  {
   "cell_type": "code",
   "execution_count": null,
   "id": "interstate-advertising",
   "metadata": {
    "papermill": {
     "duration": 0.06062,
     "end_time": "2021-05-27T14:03:48.942906",
     "exception": false,
     "start_time": "2021-05-27T14:03:48.882286",
     "status": "completed"
    },
    "tags": []
   },
   "outputs": [],
   "source": []
  },
  {
   "cell_type": "code",
   "execution_count": null,
   "id": "healthy-homework",
   "metadata": {
    "papermill": {
     "duration": 0.058684,
     "end_time": "2021-05-27T14:03:49.061412",
     "exception": false,
     "start_time": "2021-05-27T14:03:49.002728",
     "status": "completed"
    },
    "tags": []
   },
   "outputs": [],
   "source": []
  },
  {
   "cell_type": "code",
   "execution_count": 14,
   "id": "grave-employer",
   "metadata": {
    "execution": {
     "iopub.execute_input": "2021-05-27T14:03:49.188906Z",
     "iopub.status.busy": "2021-05-27T14:03:49.188246Z",
     "iopub.status.idle": "2021-05-27T14:03:49.211194Z",
     "shell.execute_reply": "2021-05-27T14:03:49.210472Z"
    },
    "papermill": {
     "duration": 0.089827,
     "end_time": "2021-05-27T14:03:49.211340",
     "exception": false,
     "start_time": "2021-05-27T14:03:49.121513",
     "status": "completed"
    },
    "tags": []
   },
   "outputs": [],
   "source": [
    "titanic = train_data.drop([\"Survived\",\"Cabin\",\"Name\",\"Ticket\"],axis=1).dropna(subset=[\"Embarked\"])\n",
    "titanic_labels = train_data.dropna(subset=[\"Embarked\"])[\"Survived\"].copy()"
   ]
  },
  {
   "cell_type": "code",
   "execution_count": 15,
   "id": "medical-guarantee",
   "metadata": {
    "execution": {
     "iopub.execute_input": "2021-05-27T14:03:49.336433Z",
     "iopub.status.busy": "2021-05-27T14:03:49.335766Z",
     "iopub.status.idle": "2021-05-27T14:03:49.341206Z",
     "shell.execute_reply": "2021-05-27T14:03:49.341772Z"
    },
    "papermill": {
     "duration": 0.07114,
     "end_time": "2021-05-27T14:03:49.341978",
     "exception": false,
     "start_time": "2021-05-27T14:03:49.270838",
     "status": "completed"
    },
    "tags": []
   },
   "outputs": [],
   "source": [
    "median_age = titanic[\"Age\"].median()\n",
    "titanic[\"Age\"].fillna(median_age, inplace=True)"
   ]
  },
  {
   "cell_type": "code",
   "execution_count": 16,
   "id": "african-keeping",
   "metadata": {
    "execution": {
     "iopub.execute_input": "2021-05-27T14:03:49.474527Z",
     "iopub.status.busy": "2021-05-27T14:03:49.473772Z",
     "iopub.status.idle": "2021-05-27T14:03:49.480391Z",
     "shell.execute_reply": "2021-05-27T14:03:49.479779Z"
    },
    "papermill": {
     "duration": 0.079354,
     "end_time": "2021-05-27T14:03:49.480539",
     "exception": false,
     "start_time": "2021-05-27T14:03:49.401185",
     "status": "completed"
    },
    "tags": []
   },
   "outputs": [
    {
     "data": {
      "text/html": [
       "<div>\n",
       "<style scoped>\n",
       "    .dataframe tbody tr th:only-of-type {\n",
       "        vertical-align: middle;\n",
       "    }\n",
       "\n",
       "    .dataframe tbody tr th {\n",
       "        vertical-align: top;\n",
       "    }\n",
       "\n",
       "    .dataframe thead th {\n",
       "        text-align: right;\n",
       "    }\n",
       "</style>\n",
       "<table border=\"1\" class=\"dataframe\">\n",
       "  <thead>\n",
       "    <tr style=\"text-align: right;\">\n",
       "      <th></th>\n",
       "      <th>Pclass</th>\n",
       "      <th>Sex</th>\n",
       "      <th>Age</th>\n",
       "      <th>SibSp</th>\n",
       "      <th>Parch</th>\n",
       "      <th>Fare</th>\n",
       "      <th>Embarked</th>\n",
       "    </tr>\n",
       "    <tr>\n",
       "      <th>PassengerId</th>\n",
       "      <th></th>\n",
       "      <th></th>\n",
       "      <th></th>\n",
       "      <th></th>\n",
       "      <th></th>\n",
       "      <th></th>\n",
       "      <th></th>\n",
       "    </tr>\n",
       "  </thead>\n",
       "  <tbody>\n",
       "    <tr>\n",
       "      <th>1</th>\n",
       "      <td>3</td>\n",
       "      <td>male</td>\n",
       "      <td>22.0</td>\n",
       "      <td>1</td>\n",
       "      <td>0</td>\n",
       "      <td>7.2500</td>\n",
       "      <td>S</td>\n",
       "    </tr>\n",
       "    <tr>\n",
       "      <th>2</th>\n",
       "      <td>1</td>\n",
       "      <td>female</td>\n",
       "      <td>38.0</td>\n",
       "      <td>1</td>\n",
       "      <td>0</td>\n",
       "      <td>71.2833</td>\n",
       "      <td>C</td>\n",
       "    </tr>\n",
       "    <tr>\n",
       "      <th>3</th>\n",
       "      <td>3</td>\n",
       "      <td>female</td>\n",
       "      <td>26.0</td>\n",
       "      <td>0</td>\n",
       "      <td>0</td>\n",
       "      <td>7.9250</td>\n",
       "      <td>S</td>\n",
       "    </tr>\n",
       "    <tr>\n",
       "      <th>4</th>\n",
       "      <td>1</td>\n",
       "      <td>female</td>\n",
       "      <td>35.0</td>\n",
       "      <td>1</td>\n",
       "      <td>0</td>\n",
       "      <td>53.1000</td>\n",
       "      <td>S</td>\n",
       "    </tr>\n",
       "    <tr>\n",
       "      <th>5</th>\n",
       "      <td>3</td>\n",
       "      <td>male</td>\n",
       "      <td>35.0</td>\n",
       "      <td>0</td>\n",
       "      <td>0</td>\n",
       "      <td>8.0500</td>\n",
       "      <td>S</td>\n",
       "    </tr>\n",
       "  </tbody>\n",
       "</table>\n",
       "</div>"
      ],
      "text/plain": [
       "             Pclass     Sex   Age  SibSp  Parch     Fare Embarked\n",
       "PassengerId                                                      \n",
       "1                 3    male  22.0      1      0   7.2500        S\n",
       "2                 1  female  38.0      1      0  71.2833        C\n",
       "3                 3  female  26.0      0      0   7.9250        S\n",
       "4                 1  female  35.0      1      0  53.1000        S\n",
       "5                 3    male  35.0      0      0   8.0500        S"
      ]
     },
     "execution_count": 16,
     "metadata": {},
     "output_type": "execute_result"
    }
   ],
   "source": [
    "titanic.head()"
   ]
  },
  {
   "cell_type": "code",
   "execution_count": 17,
   "id": "wicked-honduras",
   "metadata": {
    "execution": {
     "iopub.execute_input": "2021-05-27T14:03:49.614625Z",
     "iopub.status.busy": "2021-05-27T14:03:49.613970Z",
     "iopub.status.idle": "2021-05-27T14:03:49.617749Z",
     "shell.execute_reply": "2021-05-27T14:03:49.618255Z"
    },
    "papermill": {
     "duration": 0.072108,
     "end_time": "2021-05-27T14:03:49.618422",
     "exception": false,
     "start_time": "2021-05-27T14:03:49.546314",
     "status": "completed"
    },
    "tags": []
   },
   "outputs": [
    {
     "data": {
      "text/plain": [
       "Pclass        0\n",
       "Name          0\n",
       "Sex           0\n",
       "Age          86\n",
       "SibSp         0\n",
       "Parch         0\n",
       "Ticket        0\n",
       "Fare          1\n",
       "Cabin       327\n",
       "Embarked      0\n",
       "dtype: int64"
      ]
     },
     "execution_count": 17,
     "metadata": {},
     "output_type": "execute_result"
    }
   ],
   "source": [
    "test_data.isnull().sum()"
   ]
  },
  {
   "cell_type": "code",
   "execution_count": 18,
   "id": "quiet-coral",
   "metadata": {
    "execution": {
     "iopub.execute_input": "2021-05-27T14:03:49.744159Z",
     "iopub.status.busy": "2021-05-27T14:03:49.743502Z",
     "iopub.status.idle": "2021-05-27T14:03:50.267548Z",
     "shell.execute_reply": "2021-05-27T14:03:50.266971Z"
    },
    "papermill": {
     "duration": 0.589042,
     "end_time": "2021-05-27T14:03:50.267705",
     "exception": false,
     "start_time": "2021-05-27T14:03:49.678663",
     "status": "completed"
    },
    "tags": []
   },
   "outputs": [],
   "source": [
    "from sklearn.impute import SimpleImputer"
   ]
  },
  {
   "cell_type": "code",
   "execution_count": 19,
   "id": "confused-hammer",
   "metadata": {
    "execution": {
     "iopub.execute_input": "2021-05-27T14:03:50.399597Z",
     "iopub.status.busy": "2021-05-27T14:03:50.398937Z",
     "iopub.status.idle": "2021-05-27T14:03:50.407465Z",
     "shell.execute_reply": "2021-05-27T14:03:50.406769Z"
    },
    "papermill": {
     "duration": 0.077852,
     "end_time": "2021-05-27T14:03:50.407616",
     "exception": false,
     "start_time": "2021-05-27T14:03:50.329764",
     "status": "completed"
    },
    "tags": []
   },
   "outputs": [
    {
     "data": {
      "text/plain": [
       "SimpleImputer(strategy='median')"
      ]
     },
     "execution_count": 19,
     "metadata": {},
     "output_type": "execute_result"
    }
   ],
   "source": [
    "imputer = SimpleImputer(strategy=\"median\")\n",
    "titanic_num = titanic.drop([\"Sex\",\"Embarked\"],axis=1)\n",
    "imputer.fit(titanic_num)"
   ]
  },
  {
   "cell_type": "code",
   "execution_count": 20,
   "id": "activated-cover",
   "metadata": {
    "execution": {
     "iopub.execute_input": "2021-05-27T14:03:50.536521Z",
     "iopub.status.busy": "2021-05-27T14:03:50.535501Z",
     "iopub.status.idle": "2021-05-27T14:03:50.540858Z",
     "shell.execute_reply": "2021-05-27T14:03:50.540294Z"
    },
    "papermill": {
     "duration": 0.071973,
     "end_time": "2021-05-27T14:03:50.541003",
     "exception": false,
     "start_time": "2021-05-27T14:03:50.469030",
     "status": "completed"
    },
    "tags": []
   },
   "outputs": [
    {
     "data": {
      "text/plain": [
       "array([ 3.    , 28.    ,  0.    ,  0.    , 14.4542])"
      ]
     },
     "execution_count": 20,
     "metadata": {},
     "output_type": "execute_result"
    }
   ],
   "source": [
    "imputer.statistics_"
   ]
  },
  {
   "cell_type": "code",
   "execution_count": 21,
   "id": "declared-explanation",
   "metadata": {
    "execution": {
     "iopub.execute_input": "2021-05-27T14:03:50.671219Z",
     "iopub.status.busy": "2021-05-27T14:03:50.670315Z",
     "iopub.status.idle": "2021-05-27T14:03:50.674592Z",
     "shell.execute_reply": "2021-05-27T14:03:50.673984Z"
    },
    "papermill": {
     "duration": 0.072417,
     "end_time": "2021-05-27T14:03:50.674734",
     "exception": false,
     "start_time": "2021-05-27T14:03:50.602317",
     "status": "completed"
    },
    "tags": []
   },
   "outputs": [
    {
     "data": {
      "text/plain": [
       "array([ 3.    , 28.    ,  0.    ,  0.    , 14.4542])"
      ]
     },
     "execution_count": 21,
     "metadata": {},
     "output_type": "execute_result"
    }
   ],
   "source": [
    "titanic_num.median().values"
   ]
  },
  {
   "cell_type": "code",
   "execution_count": 22,
   "id": "juvenile-flour",
   "metadata": {
    "execution": {
     "iopub.execute_input": "2021-05-27T14:03:50.806211Z",
     "iopub.status.busy": "2021-05-27T14:03:50.805344Z",
     "iopub.status.idle": "2021-05-27T14:03:50.809758Z",
     "shell.execute_reply": "2021-05-27T14:03:50.809102Z"
    },
    "papermill": {
     "duration": 0.073636,
     "end_time": "2021-05-27T14:03:50.809953",
     "exception": false,
     "start_time": "2021-05-27T14:03:50.736317",
     "status": "completed"
    },
    "tags": []
   },
   "outputs": [],
   "source": [
    "X = imputer.transform(titanic_num)\n",
    "titanic_tr = pd.DataFrame(X,columns=titanic_num.columns,index=titanic_num.index)"
   ]
  },
  {
   "cell_type": "code",
   "execution_count": 23,
   "id": "understanding-shift",
   "metadata": {
    "execution": {
     "iopub.execute_input": "2021-05-27T14:03:50.942083Z",
     "iopub.status.busy": "2021-05-27T14:03:50.941119Z",
     "iopub.status.idle": "2021-05-27T14:03:50.944427Z",
     "shell.execute_reply": "2021-05-27T14:03:50.943797Z"
    },
    "papermill": {
     "duration": 0.071704,
     "end_time": "2021-05-27T14:03:50.944568",
     "exception": false,
     "start_time": "2021-05-27T14:03:50.872864",
     "status": "completed"
    },
    "tags": []
   },
   "outputs": [],
   "source": [
    "num_or_arbit_txt = ['Pclass', 'Age', 'SibSp', 'Parch', 'Fare']\n",
    "titanic_txt_attr = titanic.drop(num_or_arbit_txt,axis=1)"
   ]
  },
  {
   "cell_type": "code",
   "execution_count": 24,
   "id": "pediatric-district",
   "metadata": {
    "execution": {
     "iopub.execute_input": "2021-05-27T14:03:51.078134Z",
     "iopub.status.busy": "2021-05-27T14:03:51.077399Z",
     "iopub.status.idle": "2021-05-27T14:03:51.088947Z",
     "shell.execute_reply": "2021-05-27T14:03:51.088381Z"
    },
    "papermill": {
     "duration": 0.080413,
     "end_time": "2021-05-27T14:03:51.089106",
     "exception": false,
     "start_time": "2021-05-27T14:03:51.008693",
     "status": "completed"
    },
    "tags": []
   },
   "outputs": [
    {
     "name": "stdout",
     "output_type": "stream",
     "text": [
      "<class 'pandas.core.frame.DataFrame'>\n",
      "Int64Index: 889 entries, 1 to 891\n",
      "Data columns (total 2 columns):\n",
      " #   Column    Non-Null Count  Dtype \n",
      "---  ------    --------------  ----- \n",
      " 0   Sex       889 non-null    object\n",
      " 1   Embarked  889 non-null    object\n",
      "dtypes: object(2)\n",
      "memory usage: 20.8+ KB\n"
     ]
    }
   ],
   "source": [
    "titanic_txt_attr.info()"
   ]
  },
  {
   "cell_type": "code",
   "execution_count": 25,
   "id": "medical-crown",
   "metadata": {
    "execution": {
     "iopub.execute_input": "2021-05-27T14:03:51.227427Z",
     "iopub.status.busy": "2021-05-27T14:03:51.226372Z",
     "iopub.status.idle": "2021-05-27T14:03:51.230565Z",
     "shell.execute_reply": "2021-05-27T14:03:51.231139Z"
    },
    "papermill": {
     "duration": 0.078526,
     "end_time": "2021-05-27T14:03:51.231331",
     "exception": false,
     "start_time": "2021-05-27T14:03:51.152805",
     "status": "completed"
    },
    "tags": []
   },
   "outputs": [
    {
     "data": {
      "text/plain": [
       "array([[1., 2.],\n",
       "       [0., 0.],\n",
       "       [0., 2.],\n",
       "       [0., 2.],\n",
       "       [1., 2.],\n",
       "       [1., 1.],\n",
       "       [1., 2.],\n",
       "       [1., 2.],\n",
       "       [0., 2.],\n",
       "       [0., 0.]])"
      ]
     },
     "execution_count": 25,
     "metadata": {},
     "output_type": "execute_result"
    }
   ],
   "source": [
    "from sklearn.preprocessing import OrdinalEncoder\n",
    "ordinal_encoder = OrdinalEncoder()\n",
    "titanic_txt_encoded = ordinal_encoder.fit_transform(titanic_txt_attr)\n",
    "titanic_txt_encoded[:10]"
   ]
  },
  {
   "cell_type": "code",
   "execution_count": 26,
   "id": "unavailable-insured",
   "metadata": {
    "execution": {
     "iopub.execute_input": "2021-05-27T14:03:51.368219Z",
     "iopub.status.busy": "2021-05-27T14:03:51.367225Z",
     "iopub.status.idle": "2021-05-27T14:03:51.374017Z",
     "shell.execute_reply": "2021-05-27T14:03:51.373448Z"
    },
    "papermill": {
     "duration": 0.073664,
     "end_time": "2021-05-27T14:03:51.374166",
     "exception": false,
     "start_time": "2021-05-27T14:03:51.300502",
     "status": "completed"
    },
    "tags": []
   },
   "outputs": [
    {
     "data": {
      "text/plain": [
       "[array(['female', 'male'], dtype=object), array(['C', 'Q', 'S'], dtype=object)]"
      ]
     },
     "execution_count": 26,
     "metadata": {},
     "output_type": "execute_result"
    }
   ],
   "source": [
    "ordinal_encoder.categories_"
   ]
  },
  {
   "cell_type": "code",
   "execution_count": 27,
   "id": "sticky-waterproof",
   "metadata": {
    "execution": {
     "iopub.execute_input": "2021-05-27T14:03:51.508904Z",
     "iopub.status.busy": "2021-05-27T14:03:51.507520Z",
     "iopub.status.idle": "2021-05-27T14:03:51.513570Z",
     "shell.execute_reply": "2021-05-27T14:03:51.513066Z"
    },
    "papermill": {
     "duration": 0.076258,
     "end_time": "2021-05-27T14:03:51.513729",
     "exception": false,
     "start_time": "2021-05-27T14:03:51.437471",
     "status": "completed"
    },
    "tags": []
   },
   "outputs": [
    {
     "data": {
      "text/plain": [
       "<889x5 sparse matrix of type '<class 'numpy.float64'>'\n",
       "\twith 1778 stored elements in Compressed Sparse Row format>"
      ]
     },
     "execution_count": 27,
     "metadata": {},
     "output_type": "execute_result"
    }
   ],
   "source": [
    "from sklearn.preprocessing import OneHotEncoder\n",
    "txt_encoder = OneHotEncoder()\n",
    "titanic_txt_1hot = txt_encoder.fit_transform(titanic_txt_attr)\n",
    "titanic_txt_1hot"
   ]
  },
  {
   "cell_type": "code",
   "execution_count": 28,
   "id": "possible-relaxation",
   "metadata": {
    "execution": {
     "iopub.execute_input": "2021-05-27T14:03:51.647317Z",
     "iopub.status.busy": "2021-05-27T14:03:51.646568Z",
     "iopub.status.idle": "2021-05-27T14:03:51.649429Z",
     "shell.execute_reply": "2021-05-27T14:03:51.649978Z"
    },
    "papermill": {
     "duration": 0.072504,
     "end_time": "2021-05-27T14:03:51.650161",
     "exception": false,
     "start_time": "2021-05-27T14:03:51.577657",
     "status": "completed"
    },
    "tags": []
   },
   "outputs": [
    {
     "data": {
      "text/plain": [
       "array([[0., 1., 0., 0., 1.],\n",
       "       [1., 0., 1., 0., 0.],\n",
       "       [1., 0., 0., 0., 1.],\n",
       "       ...,\n",
       "       [1., 0., 0., 0., 1.],\n",
       "       [0., 1., 1., 0., 0.],\n",
       "       [0., 1., 0., 1., 0.]])"
      ]
     },
     "execution_count": 28,
     "metadata": {},
     "output_type": "execute_result"
    }
   ],
   "source": [
    "titanic_txt_1hot.toarray()"
   ]
  },
  {
   "cell_type": "code",
   "execution_count": 29,
   "id": "chicken-backing",
   "metadata": {
    "execution": {
     "iopub.execute_input": "2021-05-27T14:03:51.788829Z",
     "iopub.status.busy": "2021-05-27T14:03:51.788129Z",
     "iopub.status.idle": "2021-05-27T14:03:51.792439Z",
     "shell.execute_reply": "2021-05-27T14:03:51.792960Z"
    },
    "papermill": {
     "duration": 0.072337,
     "end_time": "2021-05-27T14:03:51.793134",
     "exception": false,
     "start_time": "2021-05-27T14:03:51.720797",
     "status": "completed"
    },
    "tags": []
   },
   "outputs": [
    {
     "data": {
      "text/plain": [
       "[array(['female', 'male'], dtype=object), array(['C', 'Q', 'S'], dtype=object)]"
      ]
     },
     "execution_count": 29,
     "metadata": {},
     "output_type": "execute_result"
    }
   ],
   "source": [
    "txt_encoder.categories_"
   ]
  },
  {
   "cell_type": "code",
   "execution_count": 30,
   "id": "quantitative-honolulu",
   "metadata": {
    "execution": {
     "iopub.execute_input": "2021-05-27T14:03:51.925670Z",
     "iopub.status.busy": "2021-05-27T14:03:51.925047Z",
     "iopub.status.idle": "2021-05-27T14:03:51.932426Z",
     "shell.execute_reply": "2021-05-27T14:03:51.931858Z"
    },
    "papermill": {
     "duration": 0.074573,
     "end_time": "2021-05-27T14:03:51.932564",
     "exception": false,
     "start_time": "2021-05-27T14:03:51.857991",
     "status": "completed"
    },
    "tags": []
   },
   "outputs": [],
   "source": [
    "from sklearn.pipeline import Pipeline\n",
    "from sklearn.preprocessing import StandardScaler"
   ]
  },
  {
   "cell_type": "code",
   "execution_count": 31,
   "id": "defined-sector",
   "metadata": {
    "execution": {
     "iopub.execute_input": "2021-05-27T14:03:52.068912Z",
     "iopub.status.busy": "2021-05-27T14:03:52.068144Z",
     "iopub.status.idle": "2021-05-27T14:03:52.072912Z",
     "shell.execute_reply": "2021-05-27T14:03:52.073446Z"
    },
    "papermill": {
     "duration": 0.076055,
     "end_time": "2021-05-27T14:03:52.073618",
     "exception": false,
     "start_time": "2021-05-27T14:03:51.997563",
     "status": "completed"
    },
    "tags": []
   },
   "outputs": [],
   "source": [
    "num_pipeline = Pipeline([\n",
    "    ('imputer',SimpleImputer(strategy=\"median\")),\n",
    "    ('std_scaler',StandardScaler()),\n",
    "])"
   ]
  },
  {
   "cell_type": "code",
   "execution_count": 32,
   "id": "promotional-budget",
   "metadata": {
    "execution": {
     "iopub.execute_input": "2021-05-27T14:03:52.209421Z",
     "iopub.status.busy": "2021-05-27T14:03:52.208419Z",
     "iopub.status.idle": "2021-05-27T14:03:52.231958Z",
     "shell.execute_reply": "2021-05-27T14:03:52.232523Z"
    },
    "papermill": {
     "duration": 0.092779,
     "end_time": "2021-05-27T14:03:52.232711",
     "exception": false,
     "start_time": "2021-05-27T14:03:52.139932",
     "status": "completed"
    },
    "tags": []
   },
   "outputs": [],
   "source": [
    "from sklearn.compose import ColumnTransformer\n",
    "\n",
    "num_attribs = list(titanic_num)\n",
    "cat_attribs = list(titanic_txt_attr)\n",
    "full_pipeline = ColumnTransformer([\n",
    "    (\"num\",num_pipeline, num_attribs),\n",
    "    (\"cat\",OneHotEncoder(),cat_attribs)\n",
    "])\n",
    "\n",
    "titanic_prepared = full_pipeline.fit_transform(titanic)"
   ]
  },
  {
   "cell_type": "code",
   "execution_count": 33,
   "id": "toxic-belarus",
   "metadata": {
    "execution": {
     "iopub.execute_input": "2021-05-27T14:03:52.368346Z",
     "iopub.status.busy": "2021-05-27T14:03:52.367668Z",
     "iopub.status.idle": "2021-05-27T14:03:52.373033Z",
     "shell.execute_reply": "2021-05-27T14:03:52.373510Z"
    },
    "papermill": {
     "duration": 0.075619,
     "end_time": "2021-05-27T14:03:52.373724",
     "exception": false,
     "start_time": "2021-05-27T14:03:52.298105",
     "status": "completed"
    },
    "tags": []
   },
   "outputs": [
    {
     "data": {
      "text/plain": [
       "array([[ 0.82520863, -0.56367407,  0.43135024, ...,  0.        ,\n",
       "         0.        ,  1.        ],\n",
       "       [-1.57221121,  0.66921696,  0.43135024, ...,  1.        ,\n",
       "         0.        ,  0.        ],\n",
       "       [ 0.82520863, -0.25545131, -0.47519908, ...,  0.        ,\n",
       "         0.        ,  1.        ],\n",
       "       ...,\n",
       "       [ 0.82520863, -0.10133993,  0.43135024, ...,  0.        ,\n",
       "         0.        ,  1.        ],\n",
       "       [-1.57221121, -0.25545131, -0.47519908, ...,  1.        ,\n",
       "         0.        ,  0.        ],\n",
       "       [ 0.82520863,  0.20688282, -0.47519908, ...,  0.        ,\n",
       "         1.        ,  0.        ]])"
      ]
     },
     "execution_count": 33,
     "metadata": {},
     "output_type": "execute_result"
    }
   ],
   "source": [
    "titanic_prepared"
   ]
  },
  {
   "cell_type": "code",
   "execution_count": 34,
   "id": "vulnerable-sympathy",
   "metadata": {
    "execution": {
     "iopub.execute_input": "2021-05-27T14:03:52.509130Z",
     "iopub.status.busy": "2021-05-27T14:03:52.508475Z",
     "iopub.status.idle": "2021-05-27T14:03:52.511560Z",
     "shell.execute_reply": "2021-05-27T14:03:52.512112Z"
    },
    "papermill": {
     "duration": 0.0716,
     "end_time": "2021-05-27T14:03:52.512283",
     "exception": false,
     "start_time": "2021-05-27T14:03:52.440683",
     "status": "completed"
    },
    "tags": []
   },
   "outputs": [],
   "source": [
    "from sklearn.linear_model import LinearRegression"
   ]
  },
  {
   "cell_type": "code",
   "execution_count": 35,
   "id": "impressed-license",
   "metadata": {
    "execution": {
     "iopub.execute_input": "2021-05-27T14:03:52.666928Z",
     "iopub.status.busy": "2021-05-27T14:03:52.666007Z",
     "iopub.status.idle": "2021-05-27T14:03:52.671047Z",
     "shell.execute_reply": "2021-05-27T14:03:52.671580Z"
    },
    "papermill": {
     "duration": 0.093499,
     "end_time": "2021-05-27T14:03:52.671754",
     "exception": false,
     "start_time": "2021-05-27T14:03:52.578255",
     "status": "completed"
    },
    "tags": []
   },
   "outputs": [
    {
     "data": {
      "text/plain": [
       "LinearRegression()"
      ]
     },
     "execution_count": 35,
     "metadata": {},
     "output_type": "execute_result"
    }
   ],
   "source": [
    "lin_reg = LinearRegression()\n",
    "lin_reg.fit(titanic_prepared,titanic_labels)"
   ]
  },
  {
   "cell_type": "code",
   "execution_count": 36,
   "id": "considered-richardson",
   "metadata": {
    "execution": {
     "iopub.execute_input": "2021-05-27T14:03:52.809910Z",
     "iopub.status.busy": "2021-05-27T14:03:52.808944Z",
     "iopub.status.idle": "2021-05-27T14:03:52.822368Z",
     "shell.execute_reply": "2021-05-27T14:03:52.823169Z"
    },
    "papermill": {
     "duration": 0.084843,
     "end_time": "2021-05-27T14:03:52.823422",
     "exception": false,
     "start_time": "2021-05-27T14:03:52.738579",
     "status": "completed"
    },
    "tags": []
   },
   "outputs": [
    {
     "name": "stdout",
     "output_type": "stream",
     "text": [
      "Predictions: [0.09140338 0.92906182 0.61404703 0.87716119 0.05716751]\n",
      "Labels: [0, 1, 1, 1, 0]\n"
     ]
    }
   ],
   "source": [
    "some_data = titanic.iloc[:5]\n",
    "some_labels = titanic_labels.iloc[:5]\n",
    "some_data_prepared = full_pipeline.transform(some_data)\n",
    "print(\"Predictions:\", lin_reg.predict(some_data_prepared))\n",
    "print(\"Labels:\", list(some_labels))"
   ]
  },
  {
   "cell_type": "code",
   "execution_count": 37,
   "id": "descending-reward",
   "metadata": {
    "execution": {
     "iopub.execute_input": "2021-05-27T14:03:52.964377Z",
     "iopub.status.busy": "2021-05-27T14:03:52.963691Z",
     "iopub.status.idle": "2021-05-27T14:03:52.978864Z",
     "shell.execute_reply": "2021-05-27T14:03:52.979399Z"
    },
    "papermill": {
     "duration": 0.086287,
     "end_time": "2021-05-27T14:03:52.979615",
     "exception": false,
     "start_time": "2021-05-27T14:03:52.893328",
     "status": "completed"
    },
    "tags": []
   },
   "outputs": [
    {
     "data": {
      "text/html": [
       "<div>\n",
       "<style scoped>\n",
       "    .dataframe tbody tr th:only-of-type {\n",
       "        vertical-align: middle;\n",
       "    }\n",
       "\n",
       "    .dataframe tbody tr th {\n",
       "        vertical-align: top;\n",
       "    }\n",
       "\n",
       "    .dataframe thead th {\n",
       "        text-align: right;\n",
       "    }\n",
       "</style>\n",
       "<table border=\"1\" class=\"dataframe\">\n",
       "  <thead>\n",
       "    <tr style=\"text-align: right;\">\n",
       "      <th></th>\n",
       "      <th>Pclass</th>\n",
       "      <th>Sex</th>\n",
       "      <th>Age</th>\n",
       "      <th>SibSp</th>\n",
       "      <th>Parch</th>\n",
       "      <th>Fare</th>\n",
       "      <th>Embarked</th>\n",
       "    </tr>\n",
       "    <tr>\n",
       "      <th>PassengerId</th>\n",
       "      <th></th>\n",
       "      <th></th>\n",
       "      <th></th>\n",
       "      <th></th>\n",
       "      <th></th>\n",
       "      <th></th>\n",
       "      <th></th>\n",
       "    </tr>\n",
       "  </thead>\n",
       "  <tbody>\n",
       "    <tr>\n",
       "      <th>1</th>\n",
       "      <td>3</td>\n",
       "      <td>male</td>\n",
       "      <td>22.0</td>\n",
       "      <td>1</td>\n",
       "      <td>0</td>\n",
       "      <td>7.2500</td>\n",
       "      <td>S</td>\n",
       "    </tr>\n",
       "    <tr>\n",
       "      <th>2</th>\n",
       "      <td>1</td>\n",
       "      <td>female</td>\n",
       "      <td>38.0</td>\n",
       "      <td>1</td>\n",
       "      <td>0</td>\n",
       "      <td>71.2833</td>\n",
       "      <td>C</td>\n",
       "    </tr>\n",
       "    <tr>\n",
       "      <th>3</th>\n",
       "      <td>3</td>\n",
       "      <td>female</td>\n",
       "      <td>26.0</td>\n",
       "      <td>0</td>\n",
       "      <td>0</td>\n",
       "      <td>7.9250</td>\n",
       "      <td>S</td>\n",
       "    </tr>\n",
       "    <tr>\n",
       "      <th>4</th>\n",
       "      <td>1</td>\n",
       "      <td>female</td>\n",
       "      <td>35.0</td>\n",
       "      <td>1</td>\n",
       "      <td>0</td>\n",
       "      <td>53.1000</td>\n",
       "      <td>S</td>\n",
       "    </tr>\n",
       "    <tr>\n",
       "      <th>5</th>\n",
       "      <td>3</td>\n",
       "      <td>male</td>\n",
       "      <td>35.0</td>\n",
       "      <td>0</td>\n",
       "      <td>0</td>\n",
       "      <td>8.0500</td>\n",
       "      <td>S</td>\n",
       "    </tr>\n",
       "  </tbody>\n",
       "</table>\n",
       "</div>"
      ],
      "text/plain": [
       "             Pclass     Sex   Age  SibSp  Parch     Fare Embarked\n",
       "PassengerId                                                      \n",
       "1                 3    male  22.0      1      0   7.2500        S\n",
       "2                 1  female  38.0      1      0  71.2833        C\n",
       "3                 3  female  26.0      0      0   7.9250        S\n",
       "4                 1  female  35.0      1      0  53.1000        S\n",
       "5                 3    male  35.0      0      0   8.0500        S"
      ]
     },
     "execution_count": 37,
     "metadata": {},
     "output_type": "execute_result"
    }
   ],
   "source": [
    "some_data.head()"
   ]
  },
  {
   "cell_type": "code",
   "execution_count": 38,
   "id": "developmental-physics",
   "metadata": {
    "execution": {
     "iopub.execute_input": "2021-05-27T14:03:53.120478Z",
     "iopub.status.busy": "2021-05-27T14:03:53.119773Z",
     "iopub.status.idle": "2021-05-27T14:03:53.126141Z",
     "shell.execute_reply": "2021-05-27T14:03:53.126780Z"
    },
    "papermill": {
     "duration": 0.077952,
     "end_time": "2021-05-27T14:03:53.126984",
     "exception": false,
     "start_time": "2021-05-27T14:03:53.049032",
     "status": "completed"
    },
    "tags": []
   },
   "outputs": [
    {
     "data": {
      "text/plain": [
       "[0, 1, 1, 1, 0]"
      ]
     },
     "execution_count": 38,
     "metadata": {},
     "output_type": "execute_result"
    }
   ],
   "source": [
    "rounded = []\n",
    "for item in lin_reg.predict(some_data_prepared):\n",
    "    rounded.append(round(item))\n",
    "rounded"
   ]
  },
  {
   "cell_type": "code",
   "execution_count": 39,
   "id": "contrary-opinion",
   "metadata": {
    "execution": {
     "iopub.execute_input": "2021-05-27T14:03:53.268456Z",
     "iopub.status.busy": "2021-05-27T14:03:53.267740Z",
     "iopub.status.idle": "2021-05-27T14:03:53.271532Z",
     "shell.execute_reply": "2021-05-27T14:03:53.272180Z"
    },
    "papermill": {
     "duration": 0.075766,
     "end_time": "2021-05-27T14:03:53.272368",
     "exception": false,
     "start_time": "2021-05-27T14:03:53.196602",
     "status": "completed"
    },
    "tags": []
   },
   "outputs": [],
   "source": [
    "from sklearn.metrics import mean_squared_error"
   ]
  },
  {
   "cell_type": "code",
   "execution_count": 40,
   "id": "crude-scotland",
   "metadata": {
    "execution": {
     "iopub.execute_input": "2021-05-27T14:03:53.414854Z",
     "iopub.status.busy": "2021-05-27T14:03:53.414159Z",
     "iopub.status.idle": "2021-05-27T14:03:53.418193Z",
     "shell.execute_reply": "2021-05-27T14:03:53.418703Z"
    },
    "papermill": {
     "duration": 0.076252,
     "end_time": "2021-05-27T14:03:53.418925",
     "exception": false,
     "start_time": "2021-05-27T14:03:53.342673",
     "status": "completed"
    },
    "tags": []
   },
   "outputs": [],
   "source": [
    "titanic_pred1 = lin_reg.predict(titanic_prepared)"
   ]
  },
  {
   "cell_type": "code",
   "execution_count": 41,
   "id": "compatible-karaoke",
   "metadata": {
    "execution": {
     "iopub.execute_input": "2021-05-27T14:03:53.560448Z",
     "iopub.status.busy": "2021-05-27T14:03:53.559825Z",
     "iopub.status.idle": "2021-05-27T14:03:53.563462Z",
     "shell.execute_reply": "2021-05-27T14:03:53.564038Z"
    },
    "papermill": {
     "duration": 0.075842,
     "end_time": "2021-05-27T14:03:53.564218",
     "exception": false,
     "start_time": "2021-05-27T14:03:53.488376",
     "status": "completed"
    },
    "tags": []
   },
   "outputs": [],
   "source": [
    "def rounder(x):\n",
    "    return round(x)"
   ]
  },
  {
   "cell_type": "code",
   "execution_count": 42,
   "id": "square-cyprus",
   "metadata": {
    "execution": {
     "iopub.execute_input": "2021-05-27T14:03:53.707559Z",
     "iopub.status.busy": "2021-05-27T14:03:53.706917Z",
     "iopub.status.idle": "2021-05-27T14:03:53.709959Z",
     "shell.execute_reply": "2021-05-27T14:03:53.709437Z"
    },
    "papermill": {
     "duration": 0.07745,
     "end_time": "2021-05-27T14:03:53.710106",
     "exception": false,
     "start_time": "2021-05-27T14:03:53.632656",
     "status": "completed"
    },
    "tags": []
   },
   "outputs": [],
   "source": [
    "def array_rounded(x):\n",
    "    return np.array([rounder(xi) for xi in x])"
   ]
  },
  {
   "cell_type": "code",
   "execution_count": 43,
   "id": "residential-trunk",
   "metadata": {
    "execution": {
     "iopub.execute_input": "2021-05-27T14:03:53.851390Z",
     "iopub.status.busy": "2021-05-27T14:03:53.850767Z",
     "iopub.status.idle": "2021-05-27T14:03:53.857185Z",
     "shell.execute_reply": "2021-05-27T14:03:53.857828Z"
    },
    "papermill": {
     "duration": 0.079286,
     "end_time": "2021-05-27T14:03:53.858016",
     "exception": false,
     "start_time": "2021-05-27T14:03:53.778730",
     "status": "completed"
    },
    "tags": []
   },
   "outputs": [],
   "source": [
    "titanic_final_pred = array_rounded(titanic_pred1)"
   ]
  },
  {
   "cell_type": "code",
   "execution_count": 44,
   "id": "personalized-guinea",
   "metadata": {
    "execution": {
     "iopub.execute_input": "2021-05-27T14:03:54.003219Z",
     "iopub.status.busy": "2021-05-27T14:03:54.002515Z",
     "iopub.status.idle": "2021-05-27T14:03:54.011461Z",
     "shell.execute_reply": "2021-05-27T14:03:54.010898Z"
    },
    "papermill": {
     "duration": 0.081916,
     "end_time": "2021-05-27T14:03:54.011618",
     "exception": false,
     "start_time": "2021-05-27T14:03:53.929702",
     "status": "completed"
    },
    "tags": []
   },
   "outputs": [
    {
     "data": {
      "text/plain": [
       "array([0, 1, 1, 1, 0, 0, 0, 0, 1, 1, 1, 1, 0, 0, 1, 1, 0, 0, 1, 1, 0, 0,\n",
       "       1, 0, 1, 0, 0, 0, 1, 0, 0, 1, 1, 0, 0, 0, 0, 0, 1, 1, 0, 1, 0, 1,\n",
       "       1, 0, 0, 1, 0, 1, 0, 0, 1, 1, 0, 0, 1, 0, 1, 0, 0, 0, 0, 1, 0, 1,\n",
       "       0, 0, 0, 0, 0, 0, 0, 0, 0, 0, 0, 0, 1, 0, 0, 1, 0, 1, 0, 0, 0, 1,\n",
       "       0, 0, 0, 0, 0, 0, 0, 0, 1, 1, 0, 1, 0, 0, 0, 0, 0, 1, 0, 0, 1, 0,\n",
       "       1, 0, 1, 1, 0, 0, 0, 1, 1, 0, 0, 0, 1, 0, 0, 0, 0, 1, 0, 0, 0, 0,\n",
       "       1, 0, 0, 1, 0, 0, 1, 1, 1, 1, 0, 0, 0, 0, 1, 0, 0, 0, 1, 0, 0, 0,\n",
       "       0, 1, 0, 0, 0, 0, 1, 0, 0, 0, 0, 1, 0, 0, 0, 0, 0, 1, 0, 0, 0, 0,\n",
       "       1, 0, 0, 0, 0, 0, 0, 1, 0, 1, 0, 0, 0, 1, 0, 1, 0, 1, 1, 0, 0, 1,\n",
       "       1, 0, 0, 0, 0, 0, 1, 0, 0, 1, 0, 0, 1, 0, 0, 0, 1, 1, 0, 1, 0, 0,\n",
       "       0, 0, 0, 0, 0, 0, 0, 0, 0, 1, 0, 0, 1, 0, 1, 0, 1, 0, 0, 1, 1, 0,\n",
       "       0, 0, 0, 1, 1, 0, 0, 0, 1, 0, 0, 0, 1, 1, 1, 1, 1, 0, 0, 0, 0, 1,\n",
       "       0, 0, 0, 1, 1, 0, 0, 1, 0, 1, 1, 1, 0, 0, 1, 0, 0, 0, 0, 0, 0, 0,\n",
       "       0, 0, 1, 1, 1, 0, 1, 0, 1, 0, 1, 0, 1, 1, 0, 0, 1, 0, 1, 1, 1, 0,\n",
       "       1, 1, 1, 1, 0, 0, 1, 1, 0, 1, 1, 0, 0, 1, 1, 0, 1, 0, 1, 1, 1, 1,\n",
       "       0, 0, 0, 1, 0, 0, 1, 0, 0, 0, 1, 0, 0, 0, 1, 1, 1, 0, 0, 0, 0, 0,\n",
       "       0, 0, 0, 1, 1, 1, 1, 0, 0, 1, 0, 0, 0, 1, 1, 1, 1, 0, 0, 0, 1, 1,\n",
       "       1, 1, 1, 0, 0, 1, 1, 0, 1, 0, 0, 0, 1, 0, 1, 0, 0, 0, 1, 1, 0, 1,\n",
       "       0, 0, 1, 0, 0, 1, 0, 1, 0, 0, 0, 0, 0, 0, 0, 1, 0, 0, 1, 1, 1, 0,\n",
       "       1, 0, 0, 0, 1, 0, 0, 1, 1, 0, 0, 0, 1, 1, 0, 0, 1, 1, 1, 0, 0, 1,\n",
       "       0, 0, 1, 0, 1, 1, 0, 1, 0, 0, 0, 1, 0, 0, 0, 0, 1, 1, 0, 0, 0, 0,\n",
       "       0, 0, 0, 0, 0, 0, 1, 0, 0, 1, 1, 1, 0, 0, 0, 0, 1, 0, 0, 0, 0, 1,\n",
       "       0, 1, 0, 0, 0, 0, 0, 0, 0, 0, 0, 1, 0, 1, 0, 0, 1, 1, 1, 1, 1, 1,\n",
       "       0, 0, 0, 0, 0, 0, 1, 0, 0, 1, 0, 1, 0, 1, 0, 0, 1, 0, 0, 1, 1, 0,\n",
       "       0, 1, 0, 0, 1, 1, 1, 0, 1, 0, 1, 1, 1, 1, 0, 0, 0, 1, 0, 0, 0, 1,\n",
       "       0, 0, 0, 1, 0, 1, 1, 1, 1, 0, 0, 0, 0, 1, 0, 0, 1, 0, 0, 0, 1, 0,\n",
       "       1, 0, 0, 1, 1, 1, 0, 1, 1, 0, 0, 0, 1, 0, 0, 0, 0, 0, 1, 0, 1, 0,\n",
       "       0, 1, 0, 0, 0, 1, 0, 0, 0, 0, 0, 0, 0, 1, 1, 0, 0, 1, 0, 0, 1, 0,\n",
       "       1, 1, 0, 0, 0, 0, 0, 0, 0, 0, 1, 0, 0, 0, 0, 0, 0, 1, 1, 0, 0, 0,\n",
       "       0, 0, 1, 1, 0, 1, 0, 0, 0, 0, 1, 0, 1, 0, 1, 1, 0, 0, 1, 0, 0, 0,\n",
       "       0, 0, 0, 0, 0, 0, 0, 0, 1, 1, 0, 0, 0, 0, 0, 0, 1, 0, 1, 1, 1, 0,\n",
       "       0, 0, 0, 0, 0, 0, 1, 0, 1, 0, 0, 0, 0, 0, 1, 0, 0, 1, 0, 1, 0, 0,\n",
       "       0, 1, 0, 1, 0, 1, 0, 0, 0, 0, 0, 1, 1, 0, 0, 1, 0, 0, 0, 0, 0, 1,\n",
       "       1, 0, 1, 1, 0, 0, 0, 0, 0, 0, 1, 0, 0, 0, 0, 1, 0, 0, 0, 0, 1, 0,\n",
       "       0, 1, 0, 0, 0, 1, 0, 0, 0, 0, 1, 0, 0, 0, 1, 0, 1, 1, 1, 0, 0, 0,\n",
       "       0, 1, 0, 1, 0, 0, 1, 0, 1, 1, 1, 0, 0, 0, 0, 1, 0, 0, 0, 0, 0, 0,\n",
       "       1, 0, 0, 1, 1, 0, 1, 0, 1, 1, 0, 0, 0, 0, 1, 0, 1, 0, 0, 0, 1, 0,\n",
       "       0, 1, 0, 0, 0, 1, 0, 0, 1, 0, 0, 0, 0, 0, 1, 0, 0, 0, 0, 1, 0, 0,\n",
       "       0, 1, 0, 0, 1, 0, 0, 0, 0, 0, 0, 1, 0, 0, 1, 1, 1, 1, 1, 0, 1, 0,\n",
       "       0, 0, 1, 0, 0, 1, 1, 0, 0, 0, 0, 1, 0, 0, 1, 1, 0, 0, 0, 1, 1, 0,\n",
       "       1, 0, 0, 1, 0, 1, 1, 1, 0])"
      ]
     },
     "execution_count": 44,
     "metadata": {},
     "output_type": "execute_result"
    }
   ],
   "source": [
    "titanic_final_pred"
   ]
  },
  {
   "cell_type": "code",
   "execution_count": 45,
   "id": "affiliated-laundry",
   "metadata": {
    "execution": {
     "iopub.execute_input": "2021-05-27T14:03:54.156319Z",
     "iopub.status.busy": "2021-05-27T14:03:54.155416Z",
     "iopub.status.idle": "2021-05-27T14:03:54.244928Z",
     "shell.execute_reply": "2021-05-27T14:03:54.245406Z"
    },
    "papermill": {
     "duration": 0.163245,
     "end_time": "2021-05-27T14:03:54.245660",
     "exception": false,
     "start_time": "2021-05-27T14:03:54.082415",
     "status": "completed"
    },
    "tags": []
   },
   "outputs": [
    {
     "ename": "NameError",
     "evalue": "name 'titanic_label' is not defined",
     "output_type": "error",
     "traceback": [
      "\u001b[0;31m---------------------------------------------------------------------------\u001b[0m",
      "\u001b[0;31mNameError\u001b[0m                                 Traceback (most recent call last)",
      "\u001b[0;32m<ipython-input-45-88fe11877106>\u001b[0m in \u001b[0;36m<module>\u001b[0;34m\u001b[0m\n\u001b[0;32m----> 1\u001b[0;31m \u001b[0mtitanic_label\u001b[0m\u001b[0;34m\u001b[0m\u001b[0;34m\u001b[0m\u001b[0m\n\u001b[0m",
      "\u001b[0;31mNameError\u001b[0m: name 'titanic_label' is not defined"
     ]
    }
   ],
   "source": [
    "titanic_label"
   ]
  },
  {
   "cell_type": "code",
   "execution_count": 46,
   "id": "numeric-horizon",
   "metadata": {
    "execution": {
     "iopub.execute_input": "2021-05-27T14:03:54.390077Z",
     "iopub.status.busy": "2021-05-27T14:03:54.389069Z",
     "iopub.status.idle": "2021-05-27T14:03:54.394983Z",
     "shell.execute_reply": "2021-05-27T14:03:54.394300Z"
    },
    "papermill": {
     "duration": 0.079689,
     "end_time": "2021-05-27T14:03:54.395129",
     "exception": false,
     "start_time": "2021-05-27T14:03:54.315440",
     "status": "completed"
    },
    "tags": []
   },
   "outputs": [],
   "source": [
    "lin_mse = mean_squared_error(titanic_labels, titanic_final_pred)\n",
    "lin_rmse = np.sqrt(lin_mse)"
   ]
  },
  {
   "cell_type": "code",
   "execution_count": 47,
   "id": "loose-annex",
   "metadata": {
    "execution": {
     "iopub.execute_input": "2021-05-27T14:03:54.542313Z",
     "iopub.status.busy": "2021-05-27T14:03:54.541678Z",
     "iopub.status.idle": "2021-05-27T14:03:54.547553Z",
     "shell.execute_reply": "2021-05-27T14:03:54.547026Z"
    },
    "papermill": {
     "duration": 0.078848,
     "end_time": "2021-05-27T14:03:54.547708",
     "exception": false,
     "start_time": "2021-05-27T14:03:54.468860",
     "status": "completed"
    },
    "tags": []
   },
   "outputs": [
    {
     "data": {
      "text/plain": [
       "0.44997187763644414"
      ]
     },
     "execution_count": 47,
     "metadata": {},
     "output_type": "execute_result"
    }
   ],
   "source": [
    "lin_rmse"
   ]
  },
  {
   "cell_type": "code",
   "execution_count": 48,
   "id": "opening-campbell",
   "metadata": {
    "execution": {
     "iopub.execute_input": "2021-05-27T14:03:54.692175Z",
     "iopub.status.busy": "2021-05-27T14:03:54.691467Z",
     "iopub.status.idle": "2021-05-27T14:03:54.741452Z",
     "shell.execute_reply": "2021-05-27T14:03:54.740947Z"
    },
    "papermill": {
     "duration": 0.12289,
     "end_time": "2021-05-27T14:03:54.741608",
     "exception": false,
     "start_time": "2021-05-27T14:03:54.618718",
     "status": "completed"
    },
    "tags": []
   },
   "outputs": [
    {
     "data": {
      "text/plain": [
       "DecisionTreeRegressor()"
      ]
     },
     "execution_count": 48,
     "metadata": {},
     "output_type": "execute_result"
    }
   ],
   "source": [
    "from sklearn.tree import DecisionTreeRegressor\n",
    "tree_reg = DecisionTreeRegressor()\n",
    "tree_reg.fit(titanic_prepared,titanic_labels)"
   ]
  },
  {
   "cell_type": "code",
   "execution_count": 49,
   "id": "irish-madagascar",
   "metadata": {
    "execution": {
     "iopub.execute_input": "2021-05-27T14:03:54.892436Z",
     "iopub.status.busy": "2021-05-27T14:03:54.891743Z",
     "iopub.status.idle": "2021-05-27T14:03:54.896531Z",
     "shell.execute_reply": "2021-05-27T14:03:54.896044Z"
    },
    "papermill": {
     "duration": 0.083831,
     "end_time": "2021-05-27T14:03:54.896671",
     "exception": false,
     "start_time": "2021-05-27T14:03:54.812840",
     "status": "completed"
    },
    "tags": []
   },
   "outputs": [
    {
     "data": {
      "text/plain": [
       "0.109237737936925"
      ]
     },
     "execution_count": 49,
     "metadata": {},
     "output_type": "execute_result"
    }
   ],
   "source": [
    "titanic_predictions = tree_reg.predict(titanic_prepared)\n",
    "tree_mse = mean_squared_error(titanic_labels,titanic_predictions)\n",
    "tree_rmse = np.sqrt(tree_mse)\n",
    "tree_rmse"
   ]
  },
  {
   "cell_type": "code",
   "execution_count": 50,
   "id": "environmental-supplement",
   "metadata": {
    "execution": {
     "iopub.execute_input": "2021-05-27T14:03:55.049691Z",
     "iopub.status.busy": "2021-05-27T14:03:55.049010Z",
     "iopub.status.idle": "2021-05-27T14:03:55.067253Z",
     "shell.execute_reply": "2021-05-27T14:03:55.067862Z"
    },
    "papermill": {
     "duration": 0.098823,
     "end_time": "2021-05-27T14:03:55.068074",
     "exception": false,
     "start_time": "2021-05-27T14:03:54.969251",
     "status": "completed"
    },
    "tags": []
   },
   "outputs": [],
   "source": [
    "from sklearn.model_selection import cross_val_score\n",
    "scores = cross_val_score(tree_reg, titanic_prepared, titanic_labels,\n",
    "                        scoring='neg_mean_squared_error', cv=5)\n",
    "tree_rmse_scores = np.sqrt(-scores)"
   ]
  },
  {
   "cell_type": "code",
   "execution_count": 51,
   "id": "equipped-scoop",
   "metadata": {
    "execution": {
     "iopub.execute_input": "2021-05-27T14:03:55.214861Z",
     "iopub.status.busy": "2021-05-27T14:03:55.214190Z",
     "iopub.status.idle": "2021-05-27T14:03:55.218341Z",
     "shell.execute_reply": "2021-05-27T14:03:55.218893Z"
    },
    "papermill": {
     "duration": 0.078854,
     "end_time": "2021-05-27T14:03:55.219077",
     "exception": false,
     "start_time": "2021-05-27T14:03:55.140223",
     "status": "completed"
    },
    "tags": []
   },
   "outputs": [],
   "source": [
    "def display_scores(scores):\n",
    "    print(\"Scores:\", scores)\n",
    "    print(\"Mean:\", scores.mean())\n",
    "    print(\"Standard deviation\", scores.std())"
   ]
  },
  {
   "cell_type": "code",
   "execution_count": 52,
   "id": "decimal-source",
   "metadata": {
    "execution": {
     "iopub.execute_input": "2021-05-27T14:03:55.367212Z",
     "iopub.status.busy": "2021-05-27T14:03:55.366550Z",
     "iopub.status.idle": "2021-05-27T14:03:55.373642Z",
     "shell.execute_reply": "2021-05-27T14:03:55.373112Z"
    },
    "papermill": {
     "duration": 0.08248,
     "end_time": "2021-05-27T14:03:55.373783",
     "exception": false,
     "start_time": "2021-05-27T14:03:55.291303",
     "status": "completed"
    },
    "tags": []
   },
   "outputs": [
    {
     "name": "stdout",
     "output_type": "stream",
     "text": [
      "Scores: [0.49173005 0.47514494 0.4268164  0.49018912 0.46495179]\n",
      "Mean: 0.46976646045730225\n",
      "Standard deviation 0.023648685415871437\n"
     ]
    }
   ],
   "source": [
    "display_scores(tree_rmse_scores)"
   ]
  },
  {
   "cell_type": "code",
   "execution_count": 53,
   "id": "handy-poverty",
   "metadata": {
    "execution": {
     "iopub.execute_input": "2021-05-27T14:03:55.527735Z",
     "iopub.status.busy": "2021-05-27T14:03:55.527080Z",
     "iopub.status.idle": "2021-05-27T14:03:55.537620Z",
     "shell.execute_reply": "2021-05-27T14:03:55.538152Z"
    },
    "papermill": {
     "duration": 0.092778,
     "end_time": "2021-05-27T14:03:55.538326",
     "exception": false,
     "start_time": "2021-05-27T14:03:55.445548",
     "status": "completed"
    },
    "tags": []
   },
   "outputs": [
    {
     "ename": "NameError",
     "evalue": "name 'titanic_label' is not defined",
     "output_type": "error",
     "traceback": [
      "\u001b[0;31m---------------------------------------------------------------------------\u001b[0m",
      "\u001b[0;31mNameError\u001b[0m                                 Traceback (most recent call last)",
      "\u001b[0;32m<ipython-input-53-641a171b2830>\u001b[0m in \u001b[0;36m<module>\u001b[0;34m\u001b[0m\n\u001b[0;32m----> 1\u001b[0;31m lin_scores = cross_val_score(lin_reg, titanic_prepared,titanic_label,\n\u001b[0m\u001b[1;32m      2\u001b[0m                    scoring=\"neg_mean_squared_error\",cv=10)\n\u001b[1;32m      3\u001b[0m \u001b[0mlin_rmse_scores\u001b[0m \u001b[0;34m=\u001b[0m \u001b[0mnp\u001b[0m\u001b[0;34m.\u001b[0m\u001b[0msqrt\u001b[0m\u001b[0;34m(\u001b[0m\u001b[0;34m-\u001b[0m\u001b[0mlin_scores\u001b[0m\u001b[0;34m)\u001b[0m\u001b[0;34m\u001b[0m\u001b[0;34m\u001b[0m\u001b[0m\n\u001b[1;32m      4\u001b[0m \u001b[0mdisplay_scores\u001b[0m\u001b[0;34m(\u001b[0m\u001b[0mlin_rmse_scores\u001b[0m\u001b[0;34m)\u001b[0m\u001b[0;34m\u001b[0m\u001b[0;34m\u001b[0m\u001b[0m\n",
      "\u001b[0;31mNameError\u001b[0m: name 'titanic_label' is not defined"
     ]
    }
   ],
   "source": [
    "lin_scores = cross_val_score(lin_reg, titanic_prepared,titanic_label,\n",
    "                   scoring=\"neg_mean_squared_error\",cv=10)\n",
    "lin_rmse_scores = np.sqrt(-lin_scores)\n",
    "display_scores(lin_rmse_scores)"
   ]
  },
  {
   "cell_type": "code",
   "execution_count": 54,
   "id": "initial-armor",
   "metadata": {
    "execution": {
     "iopub.execute_input": "2021-05-27T14:03:55.687215Z",
     "iopub.status.busy": "2021-05-27T14:03:55.686526Z",
     "iopub.status.idle": "2021-05-27T14:03:55.972485Z",
     "shell.execute_reply": "2021-05-27T14:03:55.971838Z"
    },
    "papermill": {
     "duration": 0.361951,
     "end_time": "2021-05-27T14:03:55.972633",
     "exception": false,
     "start_time": "2021-05-27T14:03:55.610682",
     "status": "completed"
    },
    "tags": []
   },
   "outputs": [
    {
     "data": {
      "text/plain": [
       "RandomForestRegressor()"
      ]
     },
     "execution_count": 54,
     "metadata": {},
     "output_type": "execute_result"
    }
   ],
   "source": [
    "from sklearn.ensemble import RandomForestRegressor\n",
    "forest_reg = RandomForestRegressor()\n",
    "forest_reg.fit(titanic_prepared,titanic_labels)"
   ]
  },
  {
   "cell_type": "code",
   "execution_count": 55,
   "id": "adjustable-moscow",
   "metadata": {
    "execution": {
     "iopub.execute_input": "2021-05-27T14:03:56.135458Z",
     "iopub.status.busy": "2021-05-27T14:03:56.133241Z",
     "iopub.status.idle": "2021-05-27T14:03:56.140548Z",
     "shell.execute_reply": "2021-05-27T14:03:56.139915Z"
    },
    "papermill": {
     "duration": 0.093357,
     "end_time": "2021-05-27T14:03:56.140704",
     "exception": false,
     "start_time": "2021-05-27T14:03:56.047347",
     "status": "completed"
    },
    "tags": []
   },
   "outputs": [
    {
     "data": {
      "text/plain": [
       "0.109237737936925"
      ]
     },
     "execution_count": 55,
     "metadata": {},
     "output_type": "execute_result"
    }
   ],
   "source": [
    "titanic_predictions = tree_reg.predict(titanic_prepared)\n",
    "tree_mse = mean_squared_error(titanic_labels, titanic_predictions)\n",
    "tree_rmse = np.sqrt(tree_mse)\n",
    "tree_rmse"
   ]
  },
  {
   "cell_type": "code",
   "execution_count": 56,
   "id": "accomplished-drill",
   "metadata": {
    "execution": {
     "iopub.execute_input": "2021-05-27T14:03:56.302773Z",
     "iopub.status.busy": "2021-05-27T14:03:56.300425Z",
     "iopub.status.idle": "2021-05-27T14:03:56.311492Z",
     "shell.execute_reply": "2021-05-27T14:03:56.310931Z"
    },
    "papermill": {
     "duration": 0.097697,
     "end_time": "2021-05-27T14:03:56.311647",
     "exception": false,
     "start_time": "2021-05-27T14:03:56.213950",
     "status": "completed"
    },
    "tags": []
   },
   "outputs": [],
   "source": [
    "test = test_data.drop([\"Cabin\",\"Name\",\"Ticket\"],axis=1).dropna(subset=[\"Embarked\"])\n",
    "test_prepared = full_pipeline.fit_transform(test)\n",
    "predictions = tree_reg.predict(titanic_prepared)"
   ]
  },
  {
   "cell_type": "code",
   "execution_count": 57,
   "id": "polar-nashville",
   "metadata": {
    "execution": {
     "iopub.execute_input": "2021-05-27T14:03:56.465386Z",
     "iopub.status.busy": "2021-05-27T14:03:56.464381Z",
     "iopub.status.idle": "2021-05-27T14:03:56.466978Z",
     "shell.execute_reply": "2021-05-27T14:03:56.467409Z"
    },
    "papermill": {
     "duration": 0.080585,
     "end_time": "2021-05-27T14:03:56.467584",
     "exception": false,
     "start_time": "2021-05-27T14:03:56.386999",
     "status": "completed"
    },
    "tags": []
   },
   "outputs": [],
   "source": [
    "from sklearn.linear_model import SGDClassifier"
   ]
  },
  {
   "cell_type": "code",
   "execution_count": 58,
   "id": "generous-stranger",
   "metadata": {
    "execution": {
     "iopub.execute_input": "2021-05-27T14:03:56.617593Z",
     "iopub.status.busy": "2021-05-27T14:03:56.616613Z",
     "iopub.status.idle": "2021-05-27T14:03:56.631079Z",
     "shell.execute_reply": "2021-05-27T14:03:56.630401Z"
    },
    "papermill": {
     "duration": 0.090437,
     "end_time": "2021-05-27T14:03:56.631234",
     "exception": false,
     "start_time": "2021-05-27T14:03:56.540797",
     "status": "completed"
    },
    "tags": []
   },
   "outputs": [
    {
     "data": {
      "text/plain": [
       "SGDClassifier(random_state=42)"
      ]
     },
     "execution_count": 58,
     "metadata": {},
     "output_type": "execute_result"
    }
   ],
   "source": [
    "sgd_clf = SGDClassifier(random_state=42)\n",
    "sgd_clf.fit(titanic_prepared,titanic_labels)"
   ]
  },
  {
   "cell_type": "code",
   "execution_count": 59,
   "id": "representative-enough",
   "metadata": {
    "execution": {
     "iopub.execute_input": "2021-05-27T14:03:56.785644Z",
     "iopub.status.busy": "2021-05-27T14:03:56.784993Z",
     "iopub.status.idle": "2021-05-27T14:03:56.852061Z",
     "shell.execute_reply": "2021-05-27T14:03:56.852543Z"
    },
    "papermill": {
     "duration": 0.147851,
     "end_time": "2021-05-27T14:03:56.852725",
     "exception": false,
     "start_time": "2021-05-27T14:03:56.704874",
     "status": "completed"
    },
    "tags": []
   },
   "outputs": [
    {
     "data": {
      "text/plain": [
       "array([0.68539326, 0.70786517, 0.79775281, 0.73033708, 0.78651685,\n",
       "       0.7752809 , 0.7752809 , 0.80898876, 0.7752809 , 0.79545455])"
      ]
     },
     "execution_count": 59,
     "metadata": {},
     "output_type": "execute_result"
    }
   ],
   "source": [
    "cross_val_score(sgd_clf,titanic_prepared,titanic_labels, cv=10,scoring=\"accuracy\")"
   ]
  },
  {
   "cell_type": "code",
   "execution_count": 60,
   "id": "viral-annual",
   "metadata": {
    "execution": {
     "iopub.execute_input": "2021-05-27T14:03:57.040148Z",
     "iopub.status.busy": "2021-05-27T14:03:57.038252Z",
     "iopub.status.idle": "2021-05-27T14:03:57.055896Z",
     "shell.execute_reply": "2021-05-27T14:03:57.055149Z"
    },
    "papermill": {
     "duration": 0.122144,
     "end_time": "2021-05-27T14:03:57.056068",
     "exception": false,
     "start_time": "2021-05-27T14:03:56.933924",
     "status": "completed"
    },
    "tags": []
   },
   "outputs": [
    {
     "data": {
      "text/plain": [
       "LogisticRegression(random_state=42)"
      ]
     },
     "execution_count": 60,
     "metadata": {},
     "output_type": "execute_result"
    }
   ],
   "source": [
    "from sklearn.linear_model import LogisticRegression\n",
    "log_reg = LogisticRegression(solver=\"lbfgs\", random_state=42)\n",
    "log_reg.fit(titanic_prepared, titanic_labels)"
   ]
  },
  {
   "cell_type": "code",
   "execution_count": 61,
   "id": "mature-entity",
   "metadata": {
    "execution": {
     "iopub.execute_input": "2021-05-27T14:03:57.214615Z",
     "iopub.status.busy": "2021-05-27T14:03:57.213552Z",
     "iopub.status.idle": "2021-05-27T14:03:57.330244Z",
     "shell.execute_reply": "2021-05-27T14:03:57.329614Z"
    },
    "papermill": {
     "duration": 0.198072,
     "end_time": "2021-05-27T14:03:57.330402",
     "exception": false,
     "start_time": "2021-05-27T14:03:57.132330",
     "status": "completed"
    },
    "tags": []
   },
   "outputs": [
    {
     "data": {
      "text/plain": [
       "array([0.79775281, 0.79775281, 0.75280899, 0.80898876, 0.78651685,\n",
       "       0.76404494, 0.78651685, 0.78651685, 0.80898876, 0.82954545])"
      ]
     },
     "execution_count": 61,
     "metadata": {},
     "output_type": "execute_result"
    }
   ],
   "source": [
    "cross_val_score(log_reg,titanic_prepared,titanic_labels, cv=10,scoring=\"accuracy\")"
   ]
  },
  {
   "cell_type": "code",
   "execution_count": 62,
   "id": "level-radius",
   "metadata": {
    "execution": {
     "iopub.execute_input": "2021-05-27T14:03:57.488590Z",
     "iopub.status.busy": "2021-05-27T14:03:57.487502Z",
     "iopub.status.idle": "2021-05-27T14:03:57.491302Z",
     "shell.execute_reply": "2021-05-27T14:03:57.490624Z"
    },
    "papermill": {
     "duration": 0.084043,
     "end_time": "2021-05-27T14:03:57.491453",
     "exception": false,
     "start_time": "2021-05-27T14:03:57.407410",
     "status": "completed"
    },
    "tags": []
   },
   "outputs": [],
   "source": [
    "predictions = log_reg.predict(test_prepared)"
   ]
  },
  {
   "cell_type": "code",
   "execution_count": 63,
   "id": "vulnerable-warning",
   "metadata": {
    "execution": {
     "iopub.execute_input": "2021-05-27T14:03:57.650423Z",
     "iopub.status.busy": "2021-05-27T14:03:57.649534Z",
     "iopub.status.idle": "2021-05-27T14:03:57.654498Z",
     "shell.execute_reply": "2021-05-27T14:03:57.653968Z"
    },
    "papermill": {
     "duration": 0.087053,
     "end_time": "2021-05-27T14:03:57.654640",
     "exception": false,
     "start_time": "2021-05-27T14:03:57.567587",
     "status": "completed"
    },
    "tags": []
   },
   "outputs": [
    {
     "data": {
      "text/plain": [
       "array([0, 0, 0, 0, 1, 0, 1, 0, 1, 0, 0, 0, 1, 0, 1, 1, 0, 0, 1, 1, 0, 0,\n",
       "       1, 1, 1, 0, 1, 0, 0, 0, 0, 0, 0, 0, 0, 0, 1, 1, 0, 0, 0, 0, 0, 1,\n",
       "       1, 0, 0, 0, 1, 0, 0, 0, 1, 1, 0, 0, 0, 0, 0, 1, 0, 0, 0, 1, 1, 1,\n",
       "       1, 0, 1, 1, 1, 0, 1, 1, 1, 1, 0, 1, 0, 1, 0, 0, 0, 0, 0, 0, 1, 1,\n",
       "       1, 0, 1, 0, 1, 0, 1, 0, 1, 0, 1, 0, 1, 0, 0, 0, 1, 0, 0, 0, 0, 0,\n",
       "       0, 1, 1, 1, 1, 0, 0, 1, 1, 1, 1, 0, 1, 0, 0, 1, 0, 1, 0, 0, 0, 0,\n",
       "       1, 0, 0, 0, 0, 0, 1, 0, 0, 1, 0, 0, 0, 0, 0, 0, 0, 0, 1, 0, 0, 0,\n",
       "       0, 0, 1, 1, 0, 1, 1, 0, 1, 0, 0, 1, 0, 0, 1, 1, 0, 0, 0, 0, 0, 1,\n",
       "       1, 0, 1, 1, 0, 0, 1, 0, 1, 0, 1, 0, 0, 0, 0, 0, 0, 0, 0, 0, 1, 1,\n",
       "       0, 1, 1, 0, 0, 1, 0, 1, 1, 0, 1, 0, 0, 0, 0, 0, 0, 0, 1, 0, 1, 0,\n",
       "       1, 0, 1, 0, 1, 1, 0, 1, 0, 0, 0, 1, 0, 0, 0, 0, 0, 0, 1, 1, 1, 1,\n",
       "       0, 0, 0, 0, 1, 0, 1, 1, 1, 0, 1, 0, 0, 0, 0, 0, 1, 0, 0, 0, 1, 1,\n",
       "       0, 0, 0, 0, 1, 0, 0, 0, 1, 1, 0, 1, 0, 0, 0, 0, 1, 0, 1, 1, 1, 0,\n",
       "       0, 0, 0, 0, 0, 1, 0, 0, 0, 0, 1, 0, 0, 0, 0, 0, 0, 0, 1, 1, 0, 0,\n",
       "       0, 0, 0, 0, 0, 1, 1, 1, 0, 0, 0, 0, 0, 0, 0, 0, 1, 0, 1, 0, 0, 0,\n",
       "       1, 0, 0, 1, 0, 0, 0, 0, 0, 0, 0, 0, 0, 1, 0, 1, 0, 1, 0, 1, 1, 0,\n",
       "       0, 0, 1, 0, 1, 0, 0, 0, 0, 1, 1, 0, 1, 0, 0, 1, 1, 0, 0, 1, 0, 0,\n",
       "       1, 1, 0, 0, 0, 0, 0, 0, 1, 1, 0, 1, 0, 0, 0, 0, 1, 1, 0, 0, 0, 1,\n",
       "       0, 1, 0, 0, 1, 0, 1, 1, 0, 0, 0, 0, 1, 1, 1, 1, 1, 0, 1, 0, 0, 0])"
      ]
     },
     "execution_count": 63,
     "metadata": {},
     "output_type": "execute_result"
    }
   ],
   "source": [
    "predictions"
   ]
  },
  {
   "cell_type": "code",
   "execution_count": null,
   "id": "public-bhutan",
   "metadata": {
    "papermill": {
     "duration": 0.075506,
     "end_time": "2021-05-27T14:03:57.807013",
     "exception": false,
     "start_time": "2021-05-27T14:03:57.731507",
     "status": "completed"
    },
    "tags": []
   },
   "outputs": [],
   "source": []
  },
  {
   "cell_type": "code",
   "execution_count": 64,
   "id": "fourth-wallet",
   "metadata": {
    "execution": {
     "iopub.execute_input": "2021-05-27T14:03:57.970464Z",
     "iopub.status.busy": "2021-05-27T14:03:57.969278Z",
     "iopub.status.idle": "2021-05-27T14:03:57.981784Z",
     "shell.execute_reply": "2021-05-27T14:03:57.981121Z"
    },
    "papermill": {
     "duration": 0.098042,
     "end_time": "2021-05-27T14:03:57.981948",
     "exception": false,
     "start_time": "2021-05-27T14:03:57.883906",
     "status": "completed"
    },
    "tags": []
   },
   "outputs": [
    {
     "ename": "NameError",
     "evalue": "name 'p' is not defined",
     "output_type": "error",
     "traceback": [
      "\u001b[0;31m---------------------------------------------------------------------------\u001b[0m",
      "\u001b[0;31mNameError\u001b[0m                                 Traceback (most recent call last)",
      "\u001b[0;32m<ipython-input-64-3d9d6586c8d9>\u001b[0m in \u001b[0;36m<module>\u001b[0;34m\u001b[0m\n\u001b[0;32m----> 1\u001b[0;31m \u001b[0mlen\u001b[0m\u001b[0;34m(\u001b[0m\u001b[0mp\u001b[0m\u001b[0;34m)\u001b[0m\u001b[0;34m\u001b[0m\u001b[0;34m\u001b[0m\u001b[0m\n\u001b[0m",
      "\u001b[0;31mNameError\u001b[0m: name 'p' is not defined"
     ]
    }
   ],
   "source": [
    "len(p)"
   ]
  },
  {
   "cell_type": "code",
   "execution_count": 65,
   "id": "tight-consistency",
   "metadata": {
    "execution": {
     "iopub.execute_input": "2021-05-27T14:03:58.145323Z",
     "iopub.status.busy": "2021-05-27T14:03:58.144625Z",
     "iopub.status.idle": "2021-05-27T14:03:58.153158Z",
     "shell.execute_reply": "2021-05-27T14:03:58.152518Z"
    },
    "papermill": {
     "duration": 0.09274,
     "end_time": "2021-05-27T14:03:58.153316",
     "exception": false,
     "start_time": "2021-05-27T14:03:58.060576",
     "status": "completed"
    },
    "tags": []
   },
   "outputs": [
    {
     "name": "stdout",
     "output_type": "stream",
     "text": [
      "Your submission was successfully saved!\n"
     ]
    }
   ],
   "source": [
    "output = pd.DataFrame({'PassengerId': test_data.index, 'Survived': predictions})\n",
    "output.to_csv('my_submission.csv', index=False)\n",
    "print(\"Your submission was successfully saved!\")"
   ]
  },
  {
   "cell_type": "code",
   "execution_count": 66,
   "id": "arranged-dividend",
   "metadata": {
    "execution": {
     "iopub.execute_input": "2021-05-27T14:03:58.315386Z",
     "iopub.status.busy": "2021-05-27T14:03:58.314499Z",
     "iopub.status.idle": "2021-05-27T14:03:58.319224Z",
     "shell.execute_reply": "2021-05-27T14:03:58.318567Z"
    },
    "papermill": {
     "duration": 0.088076,
     "end_time": "2021-05-27T14:03:58.319361",
     "exception": false,
     "start_time": "2021-05-27T14:03:58.231285",
     "status": "completed"
    },
    "tags": []
   },
   "outputs": [
    {
     "data": {
      "text/plain": [
       "Int64Index([ 892,  893,  894,  895,  896,  897,  898,  899,  900,  901,\n",
       "            ...\n",
       "            1300, 1301, 1302, 1303, 1304, 1305, 1306, 1307, 1308, 1309],\n",
       "           dtype='int64', name='PassengerId', length=418)"
      ]
     },
     "execution_count": 66,
     "metadata": {},
     "output_type": "execute_result"
    }
   ],
   "source": [
    "test_data.index"
   ]
  },
  {
   "cell_type": "code",
   "execution_count": 67,
   "id": "noticed-recording",
   "metadata": {
    "execution": {
     "iopub.execute_input": "2021-05-27T14:03:58.481686Z",
     "iopub.status.busy": "2021-05-27T14:03:58.481008Z",
     "iopub.status.idle": "2021-05-27T14:03:58.484985Z",
     "shell.execute_reply": "2021-05-27T14:03:58.484358Z"
    },
    "papermill": {
     "duration": 0.087077,
     "end_time": "2021-05-27T14:03:58.485124",
     "exception": false,
     "start_time": "2021-05-27T14:03:58.398047",
     "status": "completed"
    },
    "tags": []
   },
   "outputs": [
    {
     "data": {
      "text/plain": [
       "Int64Index([ 892,  893,  894,  895,  896,  897,  898,  899,  900,  901,\n",
       "            ...\n",
       "            1300, 1301, 1302, 1303, 1304, 1305, 1306, 1307, 1308, 1309],\n",
       "           dtype='int64', name='PassengerId', length=418)"
      ]
     },
     "execution_count": 67,
     "metadata": {},
     "output_type": "execute_result"
    }
   ],
   "source": [
    "test_data.index"
   ]
  },
  {
   "cell_type": "code",
   "execution_count": null,
   "id": "special-renaissance",
   "metadata": {
    "papermill": {
     "duration": 0.077477,
     "end_time": "2021-05-27T14:03:58.641653",
     "exception": false,
     "start_time": "2021-05-27T14:03:58.564176",
     "status": "completed"
    },
    "tags": []
   },
   "outputs": [],
   "source": []
  }
 ],
 "metadata": {
  "kernelspec": {
   "display_name": "Python 3",
   "language": "python",
   "name": "python3"
  },
  "language_info": {
   "codemirror_mode": {
    "name": "ipython",
    "version": 3
   },
   "file_extension": ".py",
   "mimetype": "text/x-python",
   "name": "python",
   "nbconvert_exporter": "python",
   "pygments_lexer": "ipython3",
   "version": "3.7.9"
  },
  "papermill": {
   "default_parameters": {},
   "duration": 24.060369,
   "end_time": "2021-05-27T14:04:00.379263",
   "environment_variables": {},
   "exception": null,
   "input_path": "__notebook__.ipynb",
   "output_path": "__notebook__.ipynb",
   "parameters": {},
   "start_time": "2021-05-27T14:03:36.318894",
   "version": "2.3.2"
  }
 },
 "nbformat": 4,
 "nbformat_minor": 5
}
