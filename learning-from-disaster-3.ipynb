{
 "cells": [
  {
   "cell_type": "code",
   "execution_count": 1,
   "id": "statewide-helping",
   "metadata": {
    "_cell_guid": "b1076dfc-b9ad-4769-8c92-a6c4dae69d19",
    "_uuid": "8f2839f25d086af736a60e9eeb907d3b93b6e0e5",
    "execution": {
     "iopub.execute_input": "2021-06-11T11:20:04.620654Z",
     "iopub.status.busy": "2021-06-11T11:20:04.619698Z",
     "iopub.status.idle": "2021-06-11T11:20:05.509263Z",
     "shell.execute_reply": "2021-06-11T11:20:05.509888Z",
     "shell.execute_reply.started": "2021-06-11T11:00:15.026559Z"
    },
    "papermill": {
     "duration": 0.931168,
     "end_time": "2021-06-11T11:20:05.510174",
     "exception": false,
     "start_time": "2021-06-11T11:20:04.579006",
     "status": "completed"
    },
    "tags": []
   },
   "outputs": [
    {
     "name": "stdout",
     "output_type": "stream",
     "text": [
      "/kaggle/input/titanic/train.csv\n",
      "/kaggle/input/titanic/test.csv\n",
      "/kaggle/input/titanic/gender_submission.csv\n"
     ]
    }
   ],
   "source": [
    "import numpy as np \n",
    "import pandas as pd\n",
    "import seaborn as sns\n",
    "import os\n",
    "for dirname, _, filenames in os.walk('/kaggle/input'):\n",
    "    for filename in filenames:\\\n",
    "        print(os.path.join(dirname, filename))"
   ]
  },
  {
   "cell_type": "code",
   "execution_count": 2,
   "id": "copyrighted-prediction",
   "metadata": {
    "execution": {
     "iopub.execute_input": "2021-06-11T11:20:05.592305Z",
     "iopub.status.busy": "2021-06-11T11:20:05.591719Z",
     "iopub.status.idle": "2021-06-11T11:20:05.594323Z",
     "shell.execute_reply": "2021-06-11T11:20:05.593839Z",
     "shell.execute_reply.started": "2021-06-11T11:00:15.439510Z"
    },
    "papermill": {
     "duration": 0.046744,
     "end_time": "2021-06-11T11:20:05.594481",
     "exception": false,
     "start_time": "2021-06-11T11:20:05.547737",
     "status": "completed"
    },
    "tags": []
   },
   "outputs": [],
   "source": [
    "%matplotlib inline\n",
    "import matplotlib as mpl\n",
    "import matplotlib.pyplot as plt\n",
    "mpl.rc('axes', labelsize=14)\n",
    "mpl.rc('xtick', labelsize=12)\n",
    "mpl.rc('ytick', labelsize=12)\n",
    "np.random.seed(42)"
   ]
  },
  {
   "cell_type": "markdown",
   "id": "resistant-singapore",
   "metadata": {
    "papermill": {
     "duration": 0.036518,
     "end_time": "2021-06-11T11:20:05.668262",
     "exception": false,
     "start_time": "2021-06-11T11:20:05.631744",
     "status": "completed"
    },
    "tags": []
   },
   "source": [
    "Machine Learning Project Checklist \n",
    "\n",
    "1. Look at the big picture and frame the problem\n",
    "2. Get the data\n",
    "3. Explore the data to gain insights\n",
    "4. Prepare the data for Machine Learning algorithms\n",
    "5. Select and Train Model\n",
    "6. Fine-tune your model\n"
   ]
  },
  {
   "cell_type": "markdown",
   "id": "invisible-sailing",
   "metadata": {
    "papermill": {
     "duration": 0.036493,
     "end_time": "2021-06-11T11:20:05.741908",
     "exception": false,
     "start_time": "2021-06-11T11:20:05.705415",
     "status": "completed"
    },
    "tags": []
   },
   "source": [
    "# 1. Frame the problem\n",
    "\n",
    "The task is to find out who survived the disaster given a set of details about a passenger on the titanic. An output of 1, if they survived and 0, if they hadn't survived. This is a supervised problem and a classifcation task."
   ]
  },
  {
   "cell_type": "markdown",
   "id": "straight-coach",
   "metadata": {
    "papermill": {
     "duration": 0.036946,
     "end_time": "2021-06-11T11:20:05.815805",
     "exception": false,
     "start_time": "2021-06-11T11:20:05.778859",
     "status": "completed"
    },
    "tags": []
   },
   "source": [
    "**Performance Measure** - data is not skewed so accuracy should be a reasonable performance measure."
   ]
  },
  {
   "cell_type": "markdown",
   "id": "disabled-native",
   "metadata": {
    "papermill": {
     "duration": 0.036795,
     "end_time": "2021-06-11T11:20:05.889666",
     "exception": false,
     "start_time": "2021-06-11T11:20:05.852871",
     "status": "completed"
    },
    "tags": []
   },
   "source": [
    "# 2. Getting the Data"
   ]
  },
  {
   "cell_type": "code",
   "execution_count": 3,
   "id": "driving-tamil",
   "metadata": {
    "execution": {
     "iopub.execute_input": "2021-06-11T11:20:05.966872Z",
     "iopub.status.busy": "2021-06-11T11:20:05.966271Z",
     "iopub.status.idle": "2021-06-11T11:20:06.009843Z",
     "shell.execute_reply": "2021-06-11T11:20:06.009149Z",
     "shell.execute_reply.started": "2021-06-11T11:00:15.450540Z"
    },
    "papermill": {
     "duration": 0.083482,
     "end_time": "2021-06-11T11:20:06.009988",
     "exception": false,
     "start_time": "2021-06-11T11:20:05.926506",
     "status": "completed"
    },
    "tags": []
   },
   "outputs": [],
   "source": [
    "train_data = pd.read_csv('/kaggle/input/titanic/train.csv', index_col=0)\n",
    "test_data = pd.read_csv('/kaggle/input/titanic/test.csv',index_col=0)"
   ]
  },
  {
   "cell_type": "markdown",
   "id": "adaptive-blackberry",
   "metadata": {
    "execution": {
     "iopub.execute_input": "2021-05-27T13:06:16.151033Z",
     "iopub.status.busy": "2021-05-27T13:06:16.150608Z",
     "iopub.status.idle": "2021-05-27T13:06:16.155447Z",
     "shell.execute_reply": "2021-05-27T13:06:16.154307Z",
     "shell.execute_reply.started": "2021-05-27T13:06:16.151Z"
    },
    "papermill": {
     "duration": 0.036518,
     "end_time": "2021-06-11T11:20:06.083368",
     "exception": false,
     "start_time": "2021-06-11T11:20:06.046850",
     "status": "completed"
    },
    "tags": []
   },
   "source": [
    "## Quick look at the Data Structure"
   ]
  },
  {
   "cell_type": "code",
   "execution_count": 4,
   "id": "measured-reach",
   "metadata": {
    "execution": {
     "iopub.execute_input": "2021-06-11T11:20:06.164175Z",
     "iopub.status.busy": "2021-06-11T11:20:06.163538Z",
     "iopub.status.idle": "2021-06-11T11:20:06.181237Z",
     "shell.execute_reply": "2021-06-11T11:20:06.181792Z",
     "shell.execute_reply.started": "2021-06-11T11:00:15.480201Z"
    },
    "papermill": {
     "duration": 0.06108,
     "end_time": "2021-06-11T11:20:06.181947",
     "exception": false,
     "start_time": "2021-06-11T11:20:06.120867",
     "status": "completed"
    },
    "tags": []
   },
   "outputs": [
    {
     "data": {
      "text/html": [
       "<div>\n",
       "<style scoped>\n",
       "    .dataframe tbody tr th:only-of-type {\n",
       "        vertical-align: middle;\n",
       "    }\n",
       "\n",
       "    .dataframe tbody tr th {\n",
       "        vertical-align: top;\n",
       "    }\n",
       "\n",
       "    .dataframe thead th {\n",
       "        text-align: right;\n",
       "    }\n",
       "</style>\n",
       "<table border=\"1\" class=\"dataframe\">\n",
       "  <thead>\n",
       "    <tr style=\"text-align: right;\">\n",
       "      <th></th>\n",
       "      <th>Survived</th>\n",
       "      <th>Pclass</th>\n",
       "      <th>Name</th>\n",
       "      <th>Sex</th>\n",
       "      <th>Age</th>\n",
       "      <th>SibSp</th>\n",
       "      <th>Parch</th>\n",
       "      <th>Ticket</th>\n",
       "      <th>Fare</th>\n",
       "      <th>Cabin</th>\n",
       "      <th>Embarked</th>\n",
       "    </tr>\n",
       "    <tr>\n",
       "      <th>PassengerId</th>\n",
       "      <th></th>\n",
       "      <th></th>\n",
       "      <th></th>\n",
       "      <th></th>\n",
       "      <th></th>\n",
       "      <th></th>\n",
       "      <th></th>\n",
       "      <th></th>\n",
       "      <th></th>\n",
       "      <th></th>\n",
       "      <th></th>\n",
       "    </tr>\n",
       "  </thead>\n",
       "  <tbody>\n",
       "    <tr>\n",
       "      <th>1</th>\n",
       "      <td>0</td>\n",
       "      <td>3</td>\n",
       "      <td>Braund, Mr. Owen Harris</td>\n",
       "      <td>male</td>\n",
       "      <td>22.0</td>\n",
       "      <td>1</td>\n",
       "      <td>0</td>\n",
       "      <td>A/5 21171</td>\n",
       "      <td>7.2500</td>\n",
       "      <td>NaN</td>\n",
       "      <td>S</td>\n",
       "    </tr>\n",
       "    <tr>\n",
       "      <th>2</th>\n",
       "      <td>1</td>\n",
       "      <td>1</td>\n",
       "      <td>Cumings, Mrs. John Bradley (Florence Briggs Th...</td>\n",
       "      <td>female</td>\n",
       "      <td>38.0</td>\n",
       "      <td>1</td>\n",
       "      <td>0</td>\n",
       "      <td>PC 17599</td>\n",
       "      <td>71.2833</td>\n",
       "      <td>C85</td>\n",
       "      <td>C</td>\n",
       "    </tr>\n",
       "    <tr>\n",
       "      <th>3</th>\n",
       "      <td>1</td>\n",
       "      <td>3</td>\n",
       "      <td>Heikkinen, Miss. Laina</td>\n",
       "      <td>female</td>\n",
       "      <td>26.0</td>\n",
       "      <td>0</td>\n",
       "      <td>0</td>\n",
       "      <td>STON/O2. 3101282</td>\n",
       "      <td>7.9250</td>\n",
       "      <td>NaN</td>\n",
       "      <td>S</td>\n",
       "    </tr>\n",
       "    <tr>\n",
       "      <th>4</th>\n",
       "      <td>1</td>\n",
       "      <td>1</td>\n",
       "      <td>Futrelle, Mrs. Jacques Heath (Lily May Peel)</td>\n",
       "      <td>female</td>\n",
       "      <td>35.0</td>\n",
       "      <td>1</td>\n",
       "      <td>0</td>\n",
       "      <td>113803</td>\n",
       "      <td>53.1000</td>\n",
       "      <td>C123</td>\n",
       "      <td>S</td>\n",
       "    </tr>\n",
       "    <tr>\n",
       "      <th>5</th>\n",
       "      <td>0</td>\n",
       "      <td>3</td>\n",
       "      <td>Allen, Mr. William Henry</td>\n",
       "      <td>male</td>\n",
       "      <td>35.0</td>\n",
       "      <td>0</td>\n",
       "      <td>0</td>\n",
       "      <td>373450</td>\n",
       "      <td>8.0500</td>\n",
       "      <td>NaN</td>\n",
       "      <td>S</td>\n",
       "    </tr>\n",
       "  </tbody>\n",
       "</table>\n",
       "</div>"
      ],
      "text/plain": [
       "             Survived  Pclass  \\\n",
       "PassengerId                     \n",
       "1                   0       3   \n",
       "2                   1       1   \n",
       "3                   1       3   \n",
       "4                   1       1   \n",
       "5                   0       3   \n",
       "\n",
       "                                                          Name     Sex   Age  \\\n",
       "PassengerId                                                                    \n",
       "1                                      Braund, Mr. Owen Harris    male  22.0   \n",
       "2            Cumings, Mrs. John Bradley (Florence Briggs Th...  female  38.0   \n",
       "3                                       Heikkinen, Miss. Laina  female  26.0   \n",
       "4                 Futrelle, Mrs. Jacques Heath (Lily May Peel)  female  35.0   \n",
       "5                                     Allen, Mr. William Henry    male  35.0   \n",
       "\n",
       "             SibSp  Parch            Ticket     Fare Cabin Embarked  \n",
       "PassengerId                                                          \n",
       "1                1      0         A/5 21171   7.2500   NaN        S  \n",
       "2                1      0          PC 17599  71.2833   C85        C  \n",
       "3                0      0  STON/O2. 3101282   7.9250   NaN        S  \n",
       "4                1      0            113803  53.1000  C123        S  \n",
       "5                0      0            373450   8.0500   NaN        S  "
      ]
     },
     "execution_count": 4,
     "metadata": {},
     "output_type": "execute_result"
    }
   ],
   "source": [
    "train_data.head()"
   ]
  },
  {
   "cell_type": "markdown",
   "id": "valid-vehicle",
   "metadata": {
    "papermill": {
     "duration": 0.036863,
     "end_time": "2021-06-11T11:20:06.256219",
     "exception": false,
     "start_time": "2021-06-11T11:20:06.219356",
     "status": "completed"
    },
    "tags": []
   },
   "source": [
    "A total of 11 attributes: `Survived, Pclass, Name, Sex, Age, SibSp, Parch, Ticket, Fare, Cabin, Embarked`."
   ]
  },
  {
   "cell_type": "code",
   "execution_count": 5,
   "id": "ruled-sending",
   "metadata": {
    "execution": {
     "iopub.execute_input": "2021-06-11T11:20:06.334203Z",
     "iopub.status.busy": "2021-06-11T11:20:06.333673Z",
     "iopub.status.idle": "2021-06-11T11:20:06.353377Z",
     "shell.execute_reply": "2021-06-11T11:20:06.352707Z",
     "shell.execute_reply.started": "2021-06-11T11:00:15.507586Z"
    },
    "papermill": {
     "duration": 0.059621,
     "end_time": "2021-06-11T11:20:06.353588",
     "exception": false,
     "start_time": "2021-06-11T11:20:06.293967",
     "status": "completed"
    },
    "tags": []
   },
   "outputs": [
    {
     "name": "stdout",
     "output_type": "stream",
     "text": [
      "<class 'pandas.core.frame.DataFrame'>\n",
      "Int64Index: 891 entries, 1 to 891\n",
      "Data columns (total 11 columns):\n",
      " #   Column    Non-Null Count  Dtype  \n",
      "---  ------    --------------  -----  \n",
      " 0   Survived  891 non-null    int64  \n",
      " 1   Pclass    891 non-null    int64  \n",
      " 2   Name      891 non-null    object \n",
      " 3   Sex       891 non-null    object \n",
      " 4   Age       714 non-null    float64\n",
      " 5   SibSp     891 non-null    int64  \n",
      " 6   Parch     891 non-null    int64  \n",
      " 7   Ticket    891 non-null    object \n",
      " 8   Fare      891 non-null    float64\n",
      " 9   Cabin     204 non-null    object \n",
      " 10  Embarked  889 non-null    object \n",
      "dtypes: float64(2), int64(4), object(5)\n",
      "memory usage: 83.5+ KB\n"
     ]
    }
   ],
   "source": [
    "train_data.info() # quick description of the data"
   ]
  },
  {
   "cell_type": "markdown",
   "id": "pregnant-sender",
   "metadata": {
    "papermill": {
     "duration": 0.03678,
     "end_time": "2021-06-11T11:20:06.428308",
     "exception": false,
     "start_time": "2021-06-11T11:20:06.391528",
     "status": "completed"
    },
    "tags": []
   },
   "source": [
    "Very small amount of data will be implementing cross validation during validation of models.\n",
    "Let's have a closer look at text attributes."
   ]
  },
  {
   "cell_type": "code",
   "execution_count": 6,
   "id": "political-queue",
   "metadata": {
    "execution": {
     "iopub.execute_input": "2021-06-11T11:20:06.509490Z",
     "iopub.status.busy": "2021-06-11T11:20:06.508573Z",
     "iopub.status.idle": "2021-06-11T11:20:06.512070Z",
     "shell.execute_reply": "2021-06-11T11:20:06.512588Z",
     "shell.execute_reply.started": "2021-06-11T11:00:15.532414Z"
    },
    "papermill": {
     "duration": 0.047192,
     "end_time": "2021-06-11T11:20:06.512769",
     "exception": false,
     "start_time": "2021-06-11T11:20:06.465577",
     "status": "completed"
    },
    "tags": []
   },
   "outputs": [
    {
     "data": {
      "text/plain": [
       "['Name', 'Sex', 'Ticket', 'Cabin', 'Embarked']"
      ]
     },
     "execution_count": 6,
     "metadata": {},
     "output_type": "execute_result"
    }
   ],
   "source": [
    "text_attributes = [col for col in train_data.columns if train_data[col].dtype=='object']\n",
    "text_attributes"
   ]
  },
  {
   "cell_type": "markdown",
   "id": "bulgarian-external",
   "metadata": {
    "papermill": {
     "duration": 0.037191,
     "end_time": "2021-06-11T11:20:06.587518",
     "exception": false,
     "start_time": "2021-06-11T11:20:06.550327",
     "status": "completed"
    },
    "tags": []
   },
   "source": [
    "Two categorical attributes which are `Embarked` and `Sex`. It seems that cabin is missing a lot values."
   ]
  },
  {
   "cell_type": "code",
   "execution_count": 7,
   "id": "arabic-registration",
   "metadata": {
    "execution": {
     "iopub.execute_input": "2021-06-11T11:20:06.666789Z",
     "iopub.status.busy": "2021-06-11T11:20:06.665878Z",
     "iopub.status.idle": "2021-06-11T11:20:06.674017Z",
     "shell.execute_reply": "2021-06-11T11:20:06.674522Z",
     "shell.execute_reply.started": "2021-06-11T11:00:15.546185Z"
    },
    "papermill": {
     "duration": 0.049267,
     "end_time": "2021-06-11T11:20:06.674689",
     "exception": false,
     "start_time": "2021-06-11T11:20:06.625422",
     "status": "completed"
    },
    "tags": []
   },
   "outputs": [
    {
     "data": {
      "text/plain": [
       "347082      7\n",
       "CA. 2343    7\n",
       "1601        7\n",
       "CA 2144     6\n",
       "3101295     6\n",
       "           ..\n",
       "28424       1\n",
       "PC 17599    1\n",
       "347074      1\n",
       "345767      1\n",
       "113773      1\n",
       "Name: Ticket, Length: 681, dtype: int64"
      ]
     },
     "execution_count": 7,
     "metadata": {},
     "output_type": "execute_result"
    }
   ],
   "source": [
    "train_data[\"Ticket\"].value_counts()"
   ]
  },
  {
   "cell_type": "markdown",
   "id": "fossil-space",
   "metadata": {
    "papermill": {
     "duration": 0.038254,
     "end_time": "2021-06-11T11:20:06.751009",
     "exception": false,
     "start_time": "2021-06-11T11:20:06.712755",
     "status": "completed"
    },
    "tags": []
   },
   "source": [
    "There may seem to be a pattern there where some tickets are just numbers while others also include letters at the start. Now to have a look at the numerical attributes."
   ]
  },
  {
   "cell_type": "code",
   "execution_count": 8,
   "id": "deluxe-clearance",
   "metadata": {
    "execution": {
     "iopub.execute_input": "2021-06-11T11:20:06.836161Z",
     "iopub.status.busy": "2021-06-11T11:20:06.835311Z",
     "iopub.status.idle": "2021-06-11T11:20:06.858268Z",
     "shell.execute_reply": "2021-06-11T11:20:06.857662Z",
     "shell.execute_reply.started": "2021-06-11T11:00:15.559794Z"
    },
    "papermill": {
     "duration": 0.069113,
     "end_time": "2021-06-11T11:20:06.858410",
     "exception": false,
     "start_time": "2021-06-11T11:20:06.789297",
     "status": "completed"
    },
    "tags": []
   },
   "outputs": [
    {
     "data": {
      "text/html": [
       "<div>\n",
       "<style scoped>\n",
       "    .dataframe tbody tr th:only-of-type {\n",
       "        vertical-align: middle;\n",
       "    }\n",
       "\n",
       "    .dataframe tbody tr th {\n",
       "        vertical-align: top;\n",
       "    }\n",
       "\n",
       "    .dataframe thead th {\n",
       "        text-align: right;\n",
       "    }\n",
       "</style>\n",
       "<table border=\"1\" class=\"dataframe\">\n",
       "  <thead>\n",
       "    <tr style=\"text-align: right;\">\n",
       "      <th></th>\n",
       "      <th>Survived</th>\n",
       "      <th>Pclass</th>\n",
       "      <th>Age</th>\n",
       "      <th>SibSp</th>\n",
       "      <th>Parch</th>\n",
       "      <th>Fare</th>\n",
       "    </tr>\n",
       "  </thead>\n",
       "  <tbody>\n",
       "    <tr>\n",
       "      <th>count</th>\n",
       "      <td>891.000000</td>\n",
       "      <td>891.000000</td>\n",
       "      <td>714.000000</td>\n",
       "      <td>891.000000</td>\n",
       "      <td>891.000000</td>\n",
       "      <td>891.000000</td>\n",
       "    </tr>\n",
       "    <tr>\n",
       "      <th>mean</th>\n",
       "      <td>0.383838</td>\n",
       "      <td>2.308642</td>\n",
       "      <td>29.699118</td>\n",
       "      <td>0.523008</td>\n",
       "      <td>0.381594</td>\n",
       "      <td>32.204208</td>\n",
       "    </tr>\n",
       "    <tr>\n",
       "      <th>std</th>\n",
       "      <td>0.486592</td>\n",
       "      <td>0.836071</td>\n",
       "      <td>14.526497</td>\n",
       "      <td>1.102743</td>\n",
       "      <td>0.806057</td>\n",
       "      <td>49.693429</td>\n",
       "    </tr>\n",
       "    <tr>\n",
       "      <th>min</th>\n",
       "      <td>0.000000</td>\n",
       "      <td>1.000000</td>\n",
       "      <td>0.420000</td>\n",
       "      <td>0.000000</td>\n",
       "      <td>0.000000</td>\n",
       "      <td>0.000000</td>\n",
       "    </tr>\n",
       "    <tr>\n",
       "      <th>25%</th>\n",
       "      <td>0.000000</td>\n",
       "      <td>2.000000</td>\n",
       "      <td>20.125000</td>\n",
       "      <td>0.000000</td>\n",
       "      <td>0.000000</td>\n",
       "      <td>7.910400</td>\n",
       "    </tr>\n",
       "    <tr>\n",
       "      <th>50%</th>\n",
       "      <td>0.000000</td>\n",
       "      <td>3.000000</td>\n",
       "      <td>28.000000</td>\n",
       "      <td>0.000000</td>\n",
       "      <td>0.000000</td>\n",
       "      <td>14.454200</td>\n",
       "    </tr>\n",
       "    <tr>\n",
       "      <th>75%</th>\n",
       "      <td>1.000000</td>\n",
       "      <td>3.000000</td>\n",
       "      <td>38.000000</td>\n",
       "      <td>1.000000</td>\n",
       "      <td>0.000000</td>\n",
       "      <td>31.000000</td>\n",
       "    </tr>\n",
       "    <tr>\n",
       "      <th>max</th>\n",
       "      <td>1.000000</td>\n",
       "      <td>3.000000</td>\n",
       "      <td>80.000000</td>\n",
       "      <td>8.000000</td>\n",
       "      <td>6.000000</td>\n",
       "      <td>512.329200</td>\n",
       "    </tr>\n",
       "  </tbody>\n",
       "</table>\n",
       "</div>"
      ],
      "text/plain": [
       "         Survived      Pclass         Age       SibSp       Parch        Fare\n",
       "count  891.000000  891.000000  714.000000  891.000000  891.000000  891.000000\n",
       "mean     0.383838    2.308642   29.699118    0.523008    0.381594   32.204208\n",
       "std      0.486592    0.836071   14.526497    1.102743    0.806057   49.693429\n",
       "min      0.000000    1.000000    0.420000    0.000000    0.000000    0.000000\n",
       "25%      0.000000    2.000000   20.125000    0.000000    0.000000    7.910400\n",
       "50%      0.000000    3.000000   28.000000    0.000000    0.000000   14.454200\n",
       "75%      1.000000    3.000000   38.000000    1.000000    0.000000   31.000000\n",
       "max      1.000000    3.000000   80.000000    8.000000    6.000000  512.329200"
      ]
     },
     "execution_count": 8,
     "metadata": {},
     "output_type": "execute_result"
    }
   ],
   "source": [
    "train_data.describe()"
   ]
  },
  {
   "cell_type": "markdown",
   "id": "interested-arabic",
   "metadata": {
    "papermill": {
     "duration": 0.039217,
     "end_time": "2021-06-11T11:20:06.937144",
     "exception": false,
     "start_time": "2021-06-11T11:20:06.897927",
     "status": "completed"
    },
    "tags": []
   },
   "source": [
    "Only `Age` is missing some values."
   ]
  },
  {
   "cell_type": "code",
   "execution_count": 9,
   "id": "amended-wrapping",
   "metadata": {
    "execution": {
     "iopub.execute_input": "2021-06-11T11:20:07.019581Z",
     "iopub.status.busy": "2021-06-11T11:20:07.018672Z",
     "iopub.status.idle": "2021-06-11T11:20:08.311222Z",
     "shell.execute_reply": "2021-06-11T11:20:08.310667Z",
     "shell.execute_reply.started": "2021-06-11T11:00:15.599516Z"
    },
    "papermill": {
     "duration": 1.334156,
     "end_time": "2021-06-11T11:20:08.311355",
     "exception": false,
     "start_time": "2021-06-11T11:20:06.977199",
     "status": "completed"
    },
    "tags": []
   },
   "outputs": [
    {
     "name": "stderr",
     "output_type": "stream",
     "text": [
      "/opt/conda/lib/python3.7/site-packages/pandas/plotting/_matplotlib/tools.py:400: MatplotlibDeprecationWarning: \n",
      "The is_first_col function was deprecated in Matplotlib 3.4 and will be removed two minor releases later. Use ax.get_subplotspec().is_first_col() instead.\n",
      "  if ax.is_first_col():\n"
     ]
    },
    {
     "data": {
      "text/plain": [
       "array([[<AxesSubplot:title={'center':'Survived'}>,\n",
       "        <AxesSubplot:title={'center':'Pclass'}>],\n",
       "       [<AxesSubplot:title={'center':'Age'}>,\n",
       "        <AxesSubplot:title={'center':'SibSp'}>],\n",
       "       [<AxesSubplot:title={'center':'Parch'}>,\n",
       "        <AxesSubplot:title={'center':'Fare'}>]], dtype=object)"
      ]
     },
     "execution_count": 9,
     "metadata": {},
     "output_type": "execute_result"
    },
    {
     "data": {
      "image/png": "[encoded data removed]",
      "text/plain": [
       "<Figure size 1440x1080 with 6 Axes>"
      ]
     },
     "metadata": {
      "needs_background": "light"
     },
     "output_type": "display_data"
    }
   ],
   "source": [
    "train_data.hist(bins=50, figsize=(20,15))"
   ]
  },
  {
   "cell_type": "markdown",
   "id": "orange-olympus",
   "metadata": {
    "papermill": {
     "duration": 0.039442,
     "end_time": "2021-06-11T11:20:08.390832",
     "exception": false,
     "start_time": "2021-06-11T11:20:08.351390",
     "status": "completed"
    },
    "tags": []
   },
   "source": [
    "Got a few tail-heavy distributions namely, `SibSp, Fare, Parch, Age`. Theres seems to be a high number of passengers with 0 cost for their fares."
   ]
  },
  {
   "cell_type": "markdown",
   "id": "french-queen",
   "metadata": {
    "papermill": {
     "duration": 0.039307,
     "end_time": "2021-06-11T11:20:08.470285",
     "exception": false,
     "start_time": "2021-06-11T11:20:08.430978",
     "status": "completed"
    },
    "tags": []
   },
   "source": [
    "# 3. Discover and Visualize Data to Give Insights"
   ]
  },
  {
   "cell_type": "code",
   "execution_count": 10,
   "id": "geological-diving",
   "metadata": {
    "execution": {
     "iopub.execute_input": "2021-06-11T11:20:08.555342Z",
     "iopub.status.busy": "2021-06-11T11:20:08.554788Z",
     "iopub.status.idle": "2021-06-11T11:20:08.556778Z",
     "shell.execute_reply": "2021-06-11T11:20:08.557232Z",
     "shell.execute_reply.started": "2021-06-11T11:00:17.072882Z"
    },
    "papermill": {
     "duration": 0.046321,
     "end_time": "2021-06-11T11:20:08.557378",
     "exception": false,
     "start_time": "2021-06-11T11:20:08.511057",
     "status": "completed"
    },
    "tags": []
   },
   "outputs": [],
   "source": [
    "titanic = train_data.copy()"
   ]
  },
  {
   "cell_type": "code",
   "execution_count": 11,
   "id": "lined-accreditation",
   "metadata": {
    "execution": {
     "iopub.execute_input": "2021-06-11T11:20:08.640443Z",
     "iopub.status.busy": "2021-06-11T11:20:08.639896Z",
     "iopub.status.idle": "2021-06-11T11:20:08.649663Z",
     "shell.execute_reply": "2021-06-11T11:20:08.649154Z",
     "shell.execute_reply.started": "2021-06-11T11:00:17.080559Z"
    },
    "papermill": {
     "duration": 0.052339,
     "end_time": "2021-06-11T11:20:08.649808",
     "exception": false,
     "start_time": "2021-06-11T11:20:08.597469",
     "status": "completed"
    },
    "tags": []
   },
   "outputs": [
    {
     "data": {
      "text/plain": [
       "Survived    1.000000\n",
       "Fare        0.257307\n",
       "Parch       0.081629\n",
       "SibSp      -0.035322\n",
       "Age        -0.077221\n",
       "Pclass     -0.338481\n",
       "Name: Survived, dtype: float64"
      ]
     },
     "execution_count": 11,
     "metadata": {},
     "output_type": "execute_result"
    }
   ],
   "source": [
    "corr_matrix = titanic.corr()\n",
    "corr_matrix[\"Survived\"].sort_values(ascending=False)"
   ]
  },
  {
   "cell_type": "code",
   "execution_count": 12,
   "id": "proprietary-canberra",
   "metadata": {
    "execution": {
     "iopub.execute_input": "2021-06-11T11:20:08.736953Z",
     "iopub.status.busy": "2021-06-11T11:20:08.736351Z",
     "iopub.status.idle": "2021-06-11T11:20:08.738912Z",
     "shell.execute_reply": "2021-06-11T11:20:08.739565Z",
     "shell.execute_reply.started": "2021-06-11T11:00:17.097844Z"
    },
    "papermill": {
     "duration": 0.049435,
     "end_time": "2021-06-11T11:20:08.739775",
     "exception": false,
     "start_time": "2021-06-11T11:20:08.690340",
     "status": "completed"
    },
    "tags": []
   },
   "outputs": [
    {
     "name": "stdout",
     "output_type": "stream",
     "text": [
      "% of women who survived: 0.7420382165605095\n"
     ]
    }
   ],
   "source": [
    "women = titanic.loc[titanic.Sex=='female'][\"Survived\"]\n",
    "women_rate = sum(women)/len(women)\n",
    "print(\"% of women who survived:\",women_rate)"
   ]
  },
  {
   "cell_type": "code",
   "execution_count": 13,
   "id": "documentary-pillow",
   "metadata": {
    "execution": {
     "iopub.execute_input": "2021-06-11T11:20:08.826699Z",
     "iopub.status.busy": "2021-06-11T11:20:08.826098Z",
     "iopub.status.idle": "2021-06-11T11:20:08.832334Z",
     "shell.execute_reply": "2021-06-11T11:20:08.832834Z",
     "shell.execute_reply.started": "2021-06-11T11:00:17.117339Z"
    },
    "papermill": {
     "duration": 0.050338,
     "end_time": "2021-06-11T11:20:08.833011",
     "exception": false,
     "start_time": "2021-06-11T11:20:08.782673",
     "status": "completed"
    },
    "tags": []
   },
   "outputs": [
    {
     "name": "stdout",
     "output_type": "stream",
     "text": [
      "% of men who survived: 0.18890814558058924\n"
     ]
    }
   ],
   "source": [
    "men = titanic.loc[titanic.Sex=='male'][\"Survived\"]\n",
    "men_rate = sum(men)/len(men)\n",
    "print(\"% of men who survived:\",men_rate)"
   ]
  },
  {
   "cell_type": "markdown",
   "id": "accessible-coral",
   "metadata": {
    "papermill": {
     "duration": 0.041298,
     "end_time": "2021-06-11T11:20:08.916462",
     "exception": false,
     "start_time": "2021-06-11T11:20:08.875164",
     "status": "completed"
    },
    "tags": []
   },
   "source": [
    "It seems that you were more like to survive if you were a women."
   ]
  },
  {
   "cell_type": "code",
   "execution_count": 14,
   "id": "virgin-column",
   "metadata": {
    "execution": {
     "iopub.execute_input": "2021-06-11T11:20:09.005604Z",
     "iopub.status.busy": "2021-06-11T11:20:09.004997Z",
     "iopub.status.idle": "2021-06-11T11:20:09.025906Z",
     "shell.execute_reply": "2021-06-11T11:20:09.025261Z",
     "shell.execute_reply.started": "2021-06-11T11:00:17.128373Z"
    },
    "papermill": {
     "duration": 0.067941,
     "end_time": "2021-06-11T11:20:09.026043",
     "exception": false,
     "start_time": "2021-06-11T11:20:08.958102",
     "status": "completed"
    },
    "tags": []
   },
   "outputs": [],
   "source": [
    "age_men_surv = titanic.loc[(titanic[\"Survived\"]==1) & (titanic[\"Sex\"]==\"male\")]\n",
    "age_women_surv = titanic.loc[(titanic[\"Survived\"]==1) & (titanic[\"Sex\"]==\"female\")]"
   ]
  },
  {
   "cell_type": "code",
   "execution_count": 15,
   "id": "fresh-death",
   "metadata": {
    "execution": {
     "iopub.execute_input": "2021-06-11T11:20:09.153891Z",
     "iopub.status.busy": "2021-06-11T11:20:09.153161Z",
     "iopub.status.idle": "2021-06-11T11:20:09.717522Z",
     "shell.execute_reply": "2021-06-11T11:20:09.717059Z",
     "shell.execute_reply.started": "2021-06-11T11:00:17.148044Z"
    },
    "papermill": {
     "duration": 0.650405,
     "end_time": "2021-06-11T11:20:09.717662",
     "exception": false,
     "start_time": "2021-06-11T11:20:09.067257",
     "status": "completed"
    },
    "tags": []
   },
   "outputs": [
    {
     "data": {
      "text/plain": [
       "<seaborn.axisgrid.FacetGrid at 0x7f06fa72c690>"
      ]
     },
     "execution_count": 15,
     "metadata": {},
     "output_type": "execute_result"
    },
    {
     "data": {
      "image/png": "[encoded data removed]",
      "text/plain": [
       "<Figure size 1452.9x576 with 2 Axes>"
      ]
     },
     "metadata": {
      "needs_background": "light"
     },
     "output_type": "display_data"
    }
   ],
   "source": [
    "Survivors = titanic.loc[titanic[\"Survived\"]==1]\n",
    "d = sns.displot(Survivors,x=\"Age\", hue=\"Sex\", col=\"Sex\", height=8, aspect=1.2,)\n",
    "d.set_axis_labels(\"Age\",\"Survivors\")"
   ]
  },
  {
   "cell_type": "markdown",
   "id": "adverse-japanese",
   "metadata": {
    "execution": {
     "iopub.execute_input": "2021-06-08T10:45:23.839403Z",
     "iopub.status.busy": "2021-06-08T10:45:23.838865Z",
     "iopub.status.idle": "2021-06-08T10:45:24.399907Z",
     "shell.execute_reply": "2021-06-08T10:45:24.39882Z",
     "shell.execute_reply.started": "2021-06-08T10:45:23.839356Z"
    },
    "papermill": {
     "duration": 0.042162,
     "end_time": "2021-06-11T11:20:09.802377",
     "exception": false,
     "start_time": "2021-06-11T11:20:09.760215",
     "status": "completed"
    },
    "tags": []
   },
   "source": [
    "Young women, below the age of 40 were more likely to survive."
   ]
  },
  {
   "cell_type": "code",
   "execution_count": 16,
   "id": "liquid-capacity",
   "metadata": {
    "execution": {
     "iopub.execute_input": "2021-06-11T11:20:09.896002Z",
     "iopub.status.busy": "2021-06-11T11:20:09.894296Z",
     "iopub.status.idle": "2021-06-11T11:20:10.269844Z",
     "shell.execute_reply": "2021-06-11T11:20:10.269294Z",
     "shell.execute_reply.started": "2021-06-11T11:00:17.807025Z"
    },
    "papermill": {
     "duration": 0.424654,
     "end_time": "2021-06-11T11:20:10.269997",
     "exception": false,
     "start_time": "2021-06-11T11:20:09.845343",
     "status": "completed"
    },
    "tags": []
   },
   "outputs": [
    {
     "data": {
      "image/png": "[encoded data removed]",
      "text/plain": [
       "<Figure size 402.375x360 with 1 Axes>"
      ]
     },
     "metadata": {
      "needs_background": "light"
     },
     "output_type": "display_data"
    }
   ],
   "source": [
    "c = sns.catplot(x=\"Sex\", y=\"Survived\", hue=\"Pclass\", kind=\"bar\", data=titanic, )"
   ]
  },
  {
   "cell_type": "code",
   "execution_count": 17,
   "id": "computational-least",
   "metadata": {
    "execution": {
     "iopub.execute_input": "2021-06-11T11:20:10.364853Z",
     "iopub.status.busy": "2021-06-11T11:20:10.364216Z",
     "iopub.status.idle": "2021-06-11T11:20:10.579395Z",
     "shell.execute_reply": "2021-06-11T11:20:10.579889Z",
     "shell.execute_reply.started": "2021-06-11T11:00:18.294868Z"
    },
    "papermill": {
     "duration": 0.266858,
     "end_time": "2021-06-11T11:20:10.580065",
     "exception": false,
     "start_time": "2021-06-11T11:20:10.313207",
     "status": "completed"
    },
    "tags": []
   },
   "outputs": [
    {
     "data": {
      "text/plain": [
       "<AxesSubplot:xlabel='Embarked', ylabel='count'>"
      ]
     },
     "execution_count": 17,
     "metadata": {},
     "output_type": "execute_result"
    },
    {
     "data": {
      "image/png": "[encoded data removed]",
      "text/plain": [
       "<Figure size 432x288 with 1 Axes>"
      ]
     },
     "metadata": {
      "needs_background": "light"
     },
     "output_type": "display_data"
    }
   ],
   "source": [
    "sns.countplot( x='Embarked', hue=\"Sex\", data=titanic)"
   ]
  },
  {
   "cell_type": "markdown",
   "id": "cheap-edinburgh",
   "metadata": {
    "execution": {
     "iopub.execute_input": "2021-06-07T17:34:16.936168Z",
     "iopub.status.busy": "2021-06-07T17:34:16.935763Z",
     "iopub.status.idle": "2021-06-07T17:34:16.952496Z",
     "shell.execute_reply": "2021-06-07T17:34:16.951317Z",
     "shell.execute_reply.started": "2021-06-07T17:34:16.936131Z"
    },
    "papermill": {
     "duration": 0.043062,
     "end_time": "2021-06-11T11:20:10.666938",
     "exception": false,
     "start_time": "2021-06-11T11:20:10.623876",
     "status": "completed"
    },
    "tags": []
   },
   "source": [
    "The higher the passenger's class the more likely they were to survive."
   ]
  },
  {
   "cell_type": "code",
   "execution_count": 18,
   "id": "impossible-chess",
   "metadata": {
    "execution": {
     "iopub.execute_input": "2021-06-11T11:20:10.764260Z",
     "iopub.status.busy": "2021-06-11T11:20:10.761506Z",
     "iopub.status.idle": "2021-06-11T11:20:11.172697Z",
     "shell.execute_reply": "2021-06-11T11:20:11.173158Z",
     "shell.execute_reply.started": "2021-06-11T11:00:18.634056Z"
    },
    "papermill": {
     "duration": 0.463065,
     "end_time": "2021-06-11T11:20:11.173330",
     "exception": false,
     "start_time": "2021-06-11T11:20:10.710265",
     "status": "completed"
    },
    "tags": []
   },
   "outputs": [
    {
     "data": {
      "text/plain": [
       "<seaborn.axisgrid.FacetGrid at 0x7f06fa4e7d50>"
      ]
     },
     "execution_count": 18,
     "metadata": {},
     "output_type": "execute_result"
    },
    {
     "data": {
      "image/png": "[encoded data removed]",
      "text/plain": [
       "<Figure size 430.5x360 with 1 Axes>"
      ]
     },
     "metadata": {
      "needs_background": "light"
     },
     "output_type": "display_data"
    }
   ],
   "source": [
    "sns.catplot(x=\"Embarked\", y=\"Survived\", hue=\"Sex\",\n",
    "            palette={\"male\": \"g\", \"female\": \"r\"},\n",
    "            markers=[\"^\", \"o\"], linestyles=[\"-\", \"--\"],\n",
    "            kind=\"point\", data=titanic)"
   ]
  },
  {
   "cell_type": "markdown",
   "id": "useful-newark",
   "metadata": {
    "papermill": {
     "duration": 0.044352,
     "end_time": "2021-06-11T11:20:11.262246",
     "exception": false,
     "start_time": "2021-06-11T11:20:11.217894",
     "status": "completed"
    },
    "tags": []
   },
   "source": [
    "Overall in passengers who boarded from Chebourg were more likely to survive. \n",
    "\n",
    "However, interestingly:\n",
    "- Men from Southampton were more likely  to survive than men from Queenstown. \n",
    "- However women from Southampton were less likely to survive than women from Queenstown."
   ]
  },
  {
   "cell_type": "markdown",
   "id": "trying-northwest",
   "metadata": {
    "papermill": {
     "duration": 0.043909,
     "end_time": "2021-06-11T11:20:11.350473",
     "exception": false,
     "start_time": "2021-06-11T11:20:11.306564",
     "status": "completed"
    },
    "tags": []
   },
   "source": [
    "# 4. Preparing data for Machine Learning Algorithms"
   ]
  },
  {
   "cell_type": "code",
   "execution_count": 19,
   "id": "hybrid-short",
   "metadata": {
    "execution": {
     "iopub.execute_input": "2021-06-11T11:20:11.442539Z",
     "iopub.status.busy": "2021-06-11T11:20:11.441954Z",
     "iopub.status.idle": "2021-06-11T11:20:11.449061Z",
     "shell.execute_reply": "2021-06-11T11:20:11.449495Z",
     "shell.execute_reply.started": "2021-06-11T11:00:19.146696Z"
    },
    "papermill": {
     "duration": 0.054775,
     "end_time": "2021-06-11T11:20:11.449664",
     "exception": false,
     "start_time": "2021-06-11T11:20:11.394889",
     "status": "completed"
    },
    "tags": []
   },
   "outputs": [],
   "source": [
    "train_data2 = train_data.dropna(axis=0,subset=[\"Embarked\",])\n",
    "titanic = train_data2.drop([\"Survived\",\"Cabin\",\"Name\",\"Ticket\"], axis=1)\n",
    "titanic_labels = train_data2.Survived.copy()"
   ]
  },
  {
   "cell_type": "markdown",
   "id": "pressed-municipality",
   "metadata": {
    "papermill": {
     "duration": 0.044027,
     "end_time": "2021-06-11T11:20:11.538026",
     "exception": false,
     "start_time": "2021-06-11T11:20:11.493999",
     "status": "completed"
    },
    "tags": []
   },
   "source": [
    "Dropping missing instances where the **Embarked** attribute is missing, as only 2 instances are missing and test_data is not missing any here. \n",
    "Dropping **Cabin, Name** and **Ticket** columns as Cabin has too many missing values, Name and Ticket could be parsed for a pattern but will look into another time. "
   ]
  },
  {
   "cell_type": "code",
   "execution_count": 20,
   "id": "found-click",
   "metadata": {
    "execution": {
     "iopub.execute_input": "2021-06-11T11:20:11.629727Z",
     "iopub.status.busy": "2021-06-11T11:20:11.629139Z",
     "iopub.status.idle": "2021-06-11T11:20:11.643242Z",
     "shell.execute_reply": "2021-06-11T11:20:11.643673Z",
     "shell.execute_reply.started": "2021-06-11T11:00:19.159880Z"
    },
    "papermill": {
     "duration": 0.061511,
     "end_time": "2021-06-11T11:20:11.643841",
     "exception": false,
     "start_time": "2021-06-11T11:20:11.582330",
     "status": "completed"
    },
    "tags": []
   },
   "outputs": [],
   "source": [
    "num_attribs = list(titanic.describe().columns)\n",
    "cat_attribs = [\"Sex\",\"Embarked\"]"
   ]
  },
  {
   "cell_type": "code",
   "execution_count": 21,
   "id": "above-citizen",
   "metadata": {
    "execution": {
     "iopub.execute_input": "2021-06-11T11:20:11.735285Z",
     "iopub.status.busy": "2021-06-11T11:20:11.734748Z",
     "iopub.status.idle": "2021-06-11T11:20:12.097326Z",
     "shell.execute_reply": "2021-06-11T11:20:12.096707Z",
     "shell.execute_reply.started": "2021-06-11T11:00:19.192677Z"
    },
    "papermill": {
     "duration": 0.409396,
     "end_time": "2021-06-11T11:20:12.097478",
     "exception": false,
     "start_time": "2021-06-11T11:20:11.688082",
     "status": "completed"
    },
    "tags": []
   },
   "outputs": [],
   "source": [
    "from sklearn.pipeline import Pipeline\n",
    "from sklearn.impute import SimpleImputer\n",
    "from sklearn.preprocessing import StandardScaler\n",
    "from sklearn.preprocessing import OneHotEncoder"
   ]
  },
  {
   "cell_type": "code",
   "execution_count": 22,
   "id": "manufactured-zoning",
   "metadata": {
    "execution": {
     "iopub.execute_input": "2021-06-11T11:20:12.192705Z",
     "iopub.status.busy": "2021-06-11T11:20:12.191791Z",
     "iopub.status.idle": "2021-06-11T11:20:12.194057Z",
     "shell.execute_reply": "2021-06-11T11:20:12.194505Z",
     "shell.execute_reply.started": "2021-06-11T11:00:19.308346Z"
    },
    "papermill": {
     "duration": 0.051799,
     "end_time": "2021-06-11T11:20:12.194660",
     "exception": false,
     "start_time": "2021-06-11T11:20:12.142861",
     "status": "completed"
    },
    "tags": []
   },
   "outputs": [],
   "source": [
    "num_pipeline = Pipeline([\n",
    "    (\"simple_imputer\", SimpleImputer(strategy=\"median\")),\n",
    "    (\"std_scaler\", StandardScaler())\n",
    "])"
   ]
  },
  {
   "cell_type": "code",
   "execution_count": 23,
   "id": "simple-premises",
   "metadata": {
    "execution": {
     "iopub.execute_input": "2021-06-11T11:20:12.287069Z",
     "iopub.status.busy": "2021-06-11T11:20:12.286424Z",
     "iopub.status.idle": "2021-06-11T11:20:12.306386Z",
     "shell.execute_reply": "2021-06-11T11:20:12.305924Z",
     "shell.execute_reply.started": "2021-06-11T11:00:19.316014Z"
    },
    "papermill": {
     "duration": 0.067425,
     "end_time": "2021-06-11T11:20:12.306536",
     "exception": false,
     "start_time": "2021-06-11T11:20:12.239111",
     "status": "completed"
    },
    "tags": []
   },
   "outputs": [],
   "source": [
    "from sklearn.compose import ColumnTransformer\n",
    "full_pipeline = ColumnTransformer([\n",
    "    (\"num\", num_pipeline, num_attribs),\n",
    "    (\"cat\", OneHotEncoder(), cat_attribs)\n",
    "])\n",
    "\n",
    "titanic_prepared = full_pipeline.fit_transform(titanic)"
   ]
  },
  {
   "cell_type": "markdown",
   "id": "agricultural-rapid",
   "metadata": {
    "papermill": {
     "duration": 0.044273,
     "end_time": "2021-06-11T11:20:12.395158",
     "exception": false,
     "start_time": "2021-06-11T11:20:12.350885",
     "status": "completed"
    },
    "tags": []
   },
   "source": [
    "# 5. Select Model and Train Model"
   ]
  },
  {
   "cell_type": "code",
   "execution_count": 24,
   "id": "silver-croatia",
   "metadata": {
    "execution": {
     "iopub.execute_input": "2021-06-11T11:20:12.490479Z",
     "iopub.status.busy": "2021-06-11T11:20:12.489876Z",
     "iopub.status.idle": "2021-06-11T11:20:12.492734Z",
     "shell.execute_reply": "2021-06-11T11:20:12.492235Z",
     "shell.execute_reply.started": "2021-06-11T11:00:19.344333Z"
    },
    "papermill": {
     "duration": 0.050978,
     "end_time": "2021-06-11T11:20:12.492871",
     "exception": false,
     "start_time": "2021-06-11T11:20:12.441893",
     "status": "completed"
    },
    "tags": []
   },
   "outputs": [],
   "source": [
    "from sklearn.model_selection import cross_val_score"
   ]
  },
  {
   "cell_type": "code",
   "execution_count": 25,
   "id": "animal-twenty",
   "metadata": {
    "execution": {
     "iopub.execute_input": "2021-06-11T11:20:12.586574Z",
     "iopub.status.busy": "2021-06-11T11:20:12.585611Z",
     "iopub.status.idle": "2021-06-11T11:20:12.588139Z",
     "shell.execute_reply": "2021-06-11T11:20:12.587717Z",
     "shell.execute_reply.started": "2021-06-11T11:00:19.353946Z"
    },
    "papermill": {
     "duration": 0.051117,
     "end_time": "2021-06-11T11:20:12.588268",
     "exception": false,
     "start_time": "2021-06-11T11:20:12.537151",
     "status": "completed"
    },
    "tags": []
   },
   "outputs": [],
   "source": [
    "from sklearn.linear_model import SGDClassifier\n",
    "\n",
    "sgd_clf = SGDClassifier()"
   ]
  },
  {
   "cell_type": "code",
   "execution_count": 26,
   "id": "hispanic-bankruptcy",
   "metadata": {
    "execution": {
     "iopub.execute_input": "2021-06-11T11:20:12.682884Z",
     "iopub.status.busy": "2021-06-11T11:20:12.682261Z",
     "iopub.status.idle": "2021-06-11T11:20:12.709382Z",
     "shell.execute_reply": "2021-06-11T11:20:12.708867Z",
     "shell.execute_reply.started": "2021-06-11T11:00:19.366968Z"
    },
    "papermill": {
     "duration": 0.076138,
     "end_time": "2021-06-11T11:20:12.709544",
     "exception": false,
     "start_time": "2021-06-11T11:20:12.633406",
     "status": "completed"
    },
    "tags": []
   },
   "outputs": [],
   "source": [
    "sgd_scores = cross_val_score(sgd_clf, titanic_prepared, titanic_labels, \n",
    "                        cv=5)"
   ]
  },
  {
   "cell_type": "code",
   "execution_count": 27,
   "id": "previous-heater",
   "metadata": {
    "execution": {
     "iopub.execute_input": "2021-06-11T11:20:12.801760Z",
     "iopub.status.busy": "2021-06-11T11:20:12.801198Z",
     "iopub.status.idle": "2021-06-11T11:20:12.804752Z",
     "shell.execute_reply": "2021-06-11T11:20:12.805247Z",
     "shell.execute_reply.started": "2021-06-11T11:00:19.408031Z"
    },
    "papermill": {
     "duration": 0.051403,
     "end_time": "2021-06-11T11:20:12.805400",
     "exception": false,
     "start_time": "2021-06-11T11:20:12.753997",
     "status": "completed"
    },
    "tags": []
   },
   "outputs": [],
   "source": [
    "def display_scores(scores):\n",
    "    print('Scores:', scores)\n",
    "    print('Mean:', scores.mean())\n",
    "    print(\"Standard Deviation:\", scores.std())"
   ]
  },
  {
   "cell_type": "code",
   "execution_count": 28,
   "id": "fantastic-chassis",
   "metadata": {
    "execution": {
     "iopub.execute_input": "2021-06-11T11:20:12.899415Z",
     "iopub.status.busy": "2021-06-11T11:20:12.898845Z",
     "iopub.status.idle": "2021-06-11T11:20:12.904599Z",
     "shell.execute_reply": "2021-06-11T11:20:12.904986Z",
     "shell.execute_reply.started": "2021-06-11T11:00:19.416030Z"
    },
    "papermill": {
     "duration": 0.05404,
     "end_time": "2021-06-11T11:20:12.905144",
     "exception": false,
     "start_time": "2021-06-11T11:20:12.851104",
     "status": "completed"
    },
    "tags": []
   },
   "outputs": [
    {
     "name": "stdout",
     "output_type": "stream",
     "text": [
      "Scores: [0.78651685 0.65730337 0.76966292 0.82022472 0.76836158]\n",
      "Mean: 0.7604138894178887\n",
      "Standard Deviation: 0.054843759105399376\n"
     ]
    }
   ],
   "source": [
    "display_scores(sgd_scores)"
   ]
  },
  {
   "cell_type": "code",
   "execution_count": 29,
   "id": "sought-style",
   "metadata": {
    "execution": {
     "iopub.execute_input": "2021-06-11T11:20:13.000174Z",
     "iopub.status.busy": "2021-06-11T11:20:12.999609Z",
     "iopub.status.idle": "2021-06-11T11:20:13.067074Z",
     "shell.execute_reply": "2021-06-11T11:20:13.066557Z",
     "shell.execute_reply.started": "2021-06-11T11:00:19.429732Z"
    },
    "papermill": {
     "duration": 0.116631,
     "end_time": "2021-06-11T11:20:13.067214",
     "exception": false,
     "start_time": "2021-06-11T11:20:12.950583",
     "status": "completed"
    },
    "tags": []
   },
   "outputs": [],
   "source": [
    "from sklearn.ensemble import RandomForestClassifier\n",
    "\n",
    "forest_clf = RandomForestClassifier(random_state=42)"
   ]
  },
  {
   "cell_type": "code",
   "execution_count": 30,
   "id": "greatest-coral",
   "metadata": {
    "execution": {
     "iopub.execute_input": "2021-06-11T11:20:13.161240Z",
     "iopub.status.busy": "2021-06-11T11:20:13.160707Z",
     "iopub.status.idle": "2021-06-11T11:20:14.060402Z",
     "shell.execute_reply": "2021-06-11T11:20:14.059798Z",
     "shell.execute_reply.started": "2021-06-11T11:00:19.456751Z"
    },
    "papermill": {
     "duration": 0.948888,
     "end_time": "2021-06-11T11:20:14.060563",
     "exception": false,
     "start_time": "2021-06-11T11:20:13.111675",
     "status": "completed"
    },
    "tags": []
   },
   "outputs": [],
   "source": [
    "forest_scores = cross_val_score(forest_clf, titanic_prepared, titanic_labels, \n",
    "                        cv=5)"
   ]
  },
  {
   "cell_type": "code",
   "execution_count": 31,
   "id": "matched-anxiety",
   "metadata": {
    "execution": {
     "iopub.execute_input": "2021-06-11T11:20:14.155052Z",
     "iopub.status.busy": "2021-06-11T11:20:14.154405Z",
     "iopub.status.idle": "2021-06-11T11:20:14.157979Z",
     "shell.execute_reply": "2021-06-11T11:20:14.157501Z",
     "shell.execute_reply.started": "2021-06-11T11:00:20.632309Z"
    },
    "papermill": {
     "duration": 0.052803,
     "end_time": "2021-06-11T11:20:14.158102",
     "exception": false,
     "start_time": "2021-06-11T11:20:14.105299",
     "status": "completed"
    },
    "tags": []
   },
   "outputs": [
    {
     "name": "stdout",
     "output_type": "stream",
     "text": [
      "Scores: [0.78651685 0.80337079 0.86516854 0.78089888 0.82485876]\n",
      "Mean: 0.8121627626483845\n",
      "Standard Deviation: 0.030604714331495784\n"
     ]
    }
   ],
   "source": [
    "display_scores(forest_scores)"
   ]
  },
  {
   "cell_type": "code",
   "execution_count": 32,
   "id": "legitimate-northwest",
   "metadata": {
    "execution": {
     "iopub.execute_input": "2021-06-11T11:20:14.251406Z",
     "iopub.status.busy": "2021-06-11T11:20:14.250853Z",
     "iopub.status.idle": "2021-06-11T11:20:14.252988Z",
     "shell.execute_reply": "2021-06-11T11:20:14.253454Z",
     "shell.execute_reply.started": "2021-06-11T11:00:20.640969Z"
    },
    "papermill": {
     "duration": 0.050852,
     "end_time": "2021-06-11T11:20:14.253632",
     "exception": false,
     "start_time": "2021-06-11T11:20:14.202780",
     "status": "completed"
    },
    "tags": []
   },
   "outputs": [],
   "source": [
    "from sklearn.svm import SVC\n",
    "\n",
    "svm_clf = SVC()"
   ]
  },
  {
   "cell_type": "code",
   "execution_count": 33,
   "id": "informed-workplace",
   "metadata": {
    "execution": {
     "iopub.execute_input": "2021-06-11T11:20:14.346599Z",
     "iopub.status.busy": "2021-06-11T11:20:14.346032Z",
     "iopub.status.idle": "2021-06-11T11:20:14.469969Z",
     "shell.execute_reply": "2021-06-11T11:20:14.470411Z",
     "shell.execute_reply.started": "2021-06-11T11:00:20.655928Z"
    },
    "papermill": {
     "duration": 0.171837,
     "end_time": "2021-06-11T11:20:14.470644",
     "exception": false,
     "start_time": "2021-06-11T11:20:14.298807",
     "status": "completed"
    },
    "tags": []
   },
   "outputs": [],
   "source": [
    "svm_scores = cross_val_score(svm_clf, titanic_prepared, titanic_labels, \n",
    "                             cv=5, scoring=\"accuracy\")"
   ]
  },
  {
   "cell_type": "code",
   "execution_count": 34,
   "id": "economic-robert",
   "metadata": {
    "execution": {
     "iopub.execute_input": "2021-06-11T11:20:14.564769Z",
     "iopub.status.busy": "2021-06-11T11:20:14.564146Z",
     "iopub.status.idle": "2021-06-11T11:20:14.571963Z",
     "shell.execute_reply": "2021-06-11T11:20:14.571259Z",
     "shell.execute_reply.started": "2021-06-11T11:00:20.799572Z"
    },
    "papermill": {
     "duration": 0.055311,
     "end_time": "2021-06-11T11:20:14.572136",
     "exception": false,
     "start_time": "2021-06-11T11:20:14.516825",
     "status": "completed"
    },
    "tags": []
   },
   "outputs": [
    {
     "name": "stdout",
     "output_type": "stream",
     "text": [
      "Scores: [0.8258427  0.8258427  0.81460674 0.81460674 0.85875706]\n",
      "Mean: 0.8279311877102774\n",
      "Standard Deviation: 0.01621135314834608\n"
     ]
    }
   ],
   "source": [
    "display_scores(svm_scores)"
   ]
  },
  {
   "cell_type": "markdown",
   "id": "awful-eight",
   "metadata": {
    "papermill": {
     "duration": 0.046127,
     "end_time": "2021-06-11T11:20:14.664611",
     "exception": false,
     "start_time": "2021-06-11T11:20:14.618484",
     "status": "completed"
    },
    "tags": []
   },
   "source": [
    "The SVM and Random Forest Classifier produced the best results so I will try tune their hyperparamters."
   ]
  },
  {
   "cell_type": "markdown",
   "id": "parental-arena",
   "metadata": {
    "papermill": {
     "duration": 0.045536,
     "end_time": "2021-06-11T11:20:14.755644",
     "exception": false,
     "start_time": "2021-06-11T11:20:14.710108",
     "status": "completed"
    },
    "tags": []
   },
   "source": [
    "# 6. Fine-Tuning Models"
   ]
  },
  {
   "cell_type": "code",
   "execution_count": 35,
   "id": "contrary-gnome",
   "metadata": {
    "execution": {
     "iopub.execute_input": "2021-06-11T11:20:14.855246Z",
     "iopub.status.busy": "2021-06-11T11:20:14.854310Z",
     "iopub.status.idle": "2021-06-11T11:20:14.857205Z",
     "shell.execute_reply": "2021-06-11T11:20:14.856736Z",
     "shell.execute_reply.started": "2021-06-11T11:00:20.808529Z"
    },
    "papermill": {
     "duration": 0.055394,
     "end_time": "2021-06-11T11:20:14.857333",
     "exception": false,
     "start_time": "2021-06-11T11:20:14.801939",
     "status": "completed"
    },
    "tags": []
   },
   "outputs": [],
   "source": [
    "from sklearn.model_selection import GridSearchCV"
   ]
  },
  {
   "cell_type": "code",
   "execution_count": 36,
   "id": "sweet-breakfast",
   "metadata": {
    "execution": {
     "iopub.execute_input": "2021-06-11T11:20:14.952690Z",
     "iopub.status.busy": "2021-06-11T11:20:14.951776Z",
     "iopub.status.idle": "2021-06-11T11:20:14.954060Z",
     "shell.execute_reply": "2021-06-11T11:20:14.954581Z",
     "shell.execute_reply.started": "2021-06-11T11:00:20.821809Z"
    },
    "papermill": {
     "duration": 0.052289,
     "end_time": "2021-06-11T11:20:14.954740",
     "exception": false,
     "start_time": "2021-06-11T11:20:14.902451",
     "status": "completed"
    },
    "tags": []
   },
   "outputs": [],
   "source": [
    "svc_param_grid = [\n",
    "    {'kernel': ['linear','poly','rbf','sigmoid'], \"gamma\":['scale','auto']}\n",
    "]"
   ]
  },
  {
   "cell_type": "code",
   "execution_count": 37,
   "id": "amateur-sauce",
   "metadata": {
    "execution": {
     "iopub.execute_input": "2021-06-11T11:20:15.049317Z",
     "iopub.status.busy": "2021-06-11T11:20:15.048403Z",
     "iopub.status.idle": "2021-06-11T11:20:15.052669Z",
     "shell.execute_reply": "2021-06-11T11:20:15.053156Z",
     "shell.execute_reply.started": "2021-06-11T11:00:20.835344Z"
    },
    "papermill": {
     "duration": 0.05292,
     "end_time": "2021-06-11T11:20:15.053318",
     "exception": false,
     "start_time": "2021-06-11T11:20:15.000398",
     "status": "completed"
    },
    "tags": []
   },
   "outputs": [],
   "source": [
    "grid_search = GridSearchCV(svm_clf, svc_param_grid,\n",
    "                           cv=5, scoring='accuracy',\n",
    "                           return_train_score=True, verbose=3, refit=True)"
   ]
  },
  {
   "cell_type": "code",
   "execution_count": 38,
   "id": "south-binding",
   "metadata": {
    "execution": {
     "iopub.execute_input": "2021-06-11T11:20:15.147592Z",
     "iopub.status.busy": "2021-06-11T11:20:15.146678Z",
     "iopub.status.idle": "2021-06-11T11:20:16.516692Z",
     "shell.execute_reply": "2021-06-11T11:20:16.517242Z",
     "shell.execute_reply.started": "2021-06-11T11:00:20.847339Z"
    },
    "papermill": {
     "duration": 1.418792,
     "end_time": "2021-06-11T11:20:16.517408",
     "exception": false,
     "start_time": "2021-06-11T11:20:15.098616",
     "status": "completed"
    },
    "tags": []
   },
   "outputs": [
    {
     "name": "stdout",
     "output_type": "stream",
     "text": [
      "Fitting 5 folds for each of 8 candidates, totalling 40 fits\n",
      "[CV 1/5] END .....................gamma=scale, kernel=linear; total time=   0.0s\n",
      "[CV 2/5] END .....................gamma=scale, kernel=linear; total time=   0.0s\n",
      "[CV 3/5] END .....................gamma=scale, kernel=linear; total time=   0.0s\n",
      "[CV 4/5] END .....................gamma=scale, kernel=linear; total time=   0.0s\n",
      "[CV 5/5] END .....................gamma=scale, kernel=linear; total time=   0.0s\n",
      "[CV 1/5] END .......................gamma=scale, kernel=poly; total time=   0.0s\n",
      "[CV 2/5] END .......................gamma=scale, kernel=poly; total time=   0.0s\n",
      "[CV 3/5] END .......................gamma=scale, kernel=poly; total time=   0.0s\n",
      "[CV 4/5] END .......................gamma=scale, kernel=poly; total time=   0.0s\n",
      "[CV 5/5] END .......................gamma=scale, kernel=poly; total time=   0.0s\n",
      "[CV 1/5] END ........................gamma=scale, kernel=rbf; total time=   0.0s\n",
      "[CV 2/5] END ........................gamma=scale, kernel=rbf; total time=   0.0s\n",
      "[CV 3/5] END ........................gamma=scale, kernel=rbf; total time=   0.0s\n",
      "[CV 4/5] END ........................gamma=scale, kernel=rbf; total time=   0.0s\n",
      "[CV 5/5] END ........................gamma=scale, kernel=rbf; total time=   0.0s\n",
      "[CV 1/5] END ....................gamma=scale, kernel=sigmoid; total time=   0.0s\n",
      "[CV 2/5] END ....................gamma=scale, kernel=sigmoid; total time=   0.0s\n",
      "[CV 3/5] END ....................gamma=scale, kernel=sigmoid; total time=   0.0s\n",
      "[CV 4/5] END ....................gamma=scale, kernel=sigmoid; total time=   0.0s\n",
      "[CV 5/5] END ....................gamma=scale, kernel=sigmoid; total time=   0.0s\n",
      "[CV 1/5] END ......................gamma=auto, kernel=linear; total time=   0.0s\n",
      "[CV 2/5] END ......................gamma=auto, kernel=linear; total time=   0.0s\n",
      "[CV 3/5] END ......................gamma=auto, kernel=linear; total time=   0.0s\n",
      "[CV 4/5] END ......................gamma=auto, kernel=linear; total time=   0.0s\n",
      "[CV 5/5] END ......................gamma=auto, kernel=linear; total time=   0.0s\n",
      "[CV 1/5] END ........................gamma=auto, kernel=poly; total time=   0.0s\n",
      "[CV 2/5] END ........................gamma=auto, kernel=poly; total time=   0.0s\n",
      "[CV 3/5] END ........................gamma=auto, kernel=poly; total time=   0.0s\n",
      "[CV 4/5] END ........................gamma=auto, kernel=poly; total time=   0.0s\n",
      "[CV 5/5] END ........................gamma=auto, kernel=poly; total time=   0.0s\n",
      "[CV 1/5] END .........................gamma=auto, kernel=rbf; total time=   0.0s\n",
      "[CV 2/5] END .........................gamma=auto, kernel=rbf; total time=   0.0s\n",
      "[CV 3/5] END .........................gamma=auto, kernel=rbf; total time=   0.0s\n",
      "[CV 4/5] END .........................gamma=auto, kernel=rbf; total time=   0.0s\n",
      "[CV 5/5] END .........................gamma=auto, kernel=rbf; total time=   0.0s\n",
      "[CV 1/5] END .....................gamma=auto, kernel=sigmoid; total time=   0.0s\n",
      "[CV 2/5] END .....................gamma=auto, kernel=sigmoid; total time=   0.0s\n",
      "[CV 3/5] END .....................gamma=auto, kernel=sigmoid; total time=   0.0s\n",
      "[CV 4/5] END .....................gamma=auto, kernel=sigmoid; total time=   0.0s\n",
      "[CV 5/5] END .....................gamma=auto, kernel=sigmoid; total time=   0.0s\n"
     ]
    },
    {
     "data": {
      "text/plain": [
       "GridSearchCV(cv=5, estimator=SVC(),\n",
       "             param_grid=[{'gamma': ['scale', 'auto'],\n",
       "                          'kernel': ['linear', 'poly', 'rbf', 'sigmoid']}],\n",
       "             return_train_score=True, scoring='accuracy', verbose=3)"
      ]
     },
     "execution_count": 38,
     "metadata": {},
     "output_type": "execute_result"
    }
   ],
   "source": [
    "grid_search.fit(titanic_prepared,titanic_labels)"
   ]
  },
  {
   "cell_type": "code",
   "execution_count": 39,
   "id": "effective-richards",
   "metadata": {
    "execution": {
     "iopub.execute_input": "2021-06-11T11:20:16.617684Z",
     "iopub.status.busy": "2021-06-11T11:20:16.617092Z",
     "iopub.status.idle": "2021-06-11T11:20:16.621399Z",
     "shell.execute_reply": "2021-06-11T11:20:16.620932Z",
     "shell.execute_reply.started": "2021-06-11T11:00:22.259520Z"
    },
    "papermill": {
     "duration": 0.056742,
     "end_time": "2021-06-11T11:20:16.621553",
     "exception": false,
     "start_time": "2021-06-11T11:20:16.564811",
     "status": "completed"
    },
    "tags": []
   },
   "outputs": [
    {
     "name": "stdout",
     "output_type": "stream",
     "text": [
      "0.7873992255443407 {'gamma': 'scale', 'kernel': 'linear'}\n",
      "0.824579445185044 {'gamma': 'scale', 'kernel': 'poly'}\n",
      "0.8279311877102774 {'gamma': 'scale', 'kernel': 'rbf'}\n",
      "0.68727861359741 {'gamma': 'scale', 'kernel': 'sigmoid'}\n",
      "0.7873992255443407 {'gamma': 'auto', 'kernel': 'linear'}\n",
      "0.7829619754967307 {'gamma': 'auto', 'kernel': 'poly'}\n",
      "0.8279184917158636 {'gamma': 'auto', 'kernel': 'rbf'}\n",
      "0.699682600139656 {'gamma': 'auto', 'kernel': 'sigmoid'}\n"
     ]
    }
   ],
   "source": [
    "cvres = grid_search.cv_results_\n",
    "for mean_score, params in zip(cvres[\"mean_test_score\"], cvres[\"params\"]):\n",
    "    print(mean_score,params)"
   ]
  },
  {
   "cell_type": "code",
   "execution_count": 40,
   "id": "accredited-monitoring",
   "metadata": {
    "execution": {
     "iopub.execute_input": "2021-06-11T11:20:16.721081Z",
     "iopub.status.busy": "2021-06-11T11:20:16.720393Z",
     "iopub.status.idle": "2021-06-11T11:20:16.724272Z",
     "shell.execute_reply": "2021-06-11T11:20:16.723804Z",
     "shell.execute_reply.started": "2021-06-11T11:00:22.270849Z"
    },
    "papermill": {
     "duration": 0.055422,
     "end_time": "2021-06-11T11:20:16.724403",
     "exception": false,
     "start_time": "2021-06-11T11:20:16.668981",
     "status": "completed"
    },
    "tags": []
   },
   "outputs": [
    {
     "data": {
      "text/plain": [
       "{'gamma': 'scale', 'kernel': 'rbf'}"
      ]
     },
     "execution_count": 40,
     "metadata": {},
     "output_type": "execute_result"
    }
   ],
   "source": [
    "grid_search.best_params_"
   ]
  },
  {
   "cell_type": "code",
   "execution_count": 41,
   "id": "small-pendant",
   "metadata": {
    "execution": {
     "iopub.execute_input": "2021-06-11T11:20:16.824411Z",
     "iopub.status.busy": "2021-06-11T11:20:16.823886Z",
     "iopub.status.idle": "2021-06-11T11:20:16.826494Z",
     "shell.execute_reply": "2021-06-11T11:20:16.825958Z",
     "shell.execute_reply.started": "2021-06-11T11:00:22.284145Z"
    },
    "papermill": {
     "duration": 0.053937,
     "end_time": "2021-06-11T11:20:16.826622",
     "exception": false,
     "start_time": "2021-06-11T11:20:16.772685",
     "status": "completed"
    },
    "tags": []
   },
   "outputs": [],
   "source": [
    "forest_param_grid = [\n",
    "    {'n_estimators': [290,300,310], 'max_features':[4,6,8]},\n",
    "]"
   ]
  },
  {
   "cell_type": "code",
   "execution_count": 42,
   "id": "national-camcorder",
   "metadata": {
    "execution": {
     "iopub.execute_input": "2021-06-11T11:20:16.924691Z",
     "iopub.status.busy": "2021-06-11T11:20:16.924033Z",
     "iopub.status.idle": "2021-06-11T11:20:16.927544Z",
     "shell.execute_reply": "2021-06-11T11:20:16.928006Z",
     "shell.execute_reply.started": "2021-06-11T11:00:22.293698Z"
    },
    "papermill": {
     "duration": 0.053794,
     "end_time": "2021-06-11T11:20:16.928156",
     "exception": false,
     "start_time": "2021-06-11T11:20:16.874362",
     "status": "completed"
    },
    "tags": []
   },
   "outputs": [],
   "source": [
    "grid_search2 = GridSearchCV(forest_clf, forest_param_grid,\n",
    "                           cv=5, scoring='accuracy',\n",
    "                           return_train_score=True, verbose=3)"
   ]
  },
  {
   "cell_type": "code",
   "execution_count": 43,
   "id": "interim-hours",
   "metadata": {
    "execution": {
     "iopub.execute_input": "2021-06-11T11:20:17.028235Z",
     "iopub.status.busy": "2021-06-11T11:20:17.027706Z",
     "iopub.status.idle": "2021-06-11T11:20:46.514766Z",
     "shell.execute_reply": "2021-06-11T11:20:46.515177Z",
     "shell.execute_reply.started": "2021-06-11T11:00:22.307538Z"
    },
    "papermill": {
     "duration": 29.539287,
     "end_time": "2021-06-11T11:20:46.515368",
     "exception": false,
     "start_time": "2021-06-11T11:20:16.976081",
     "status": "completed"
    },
    "tags": []
   },
   "outputs": [
    {
     "name": "stdout",
     "output_type": "stream",
     "text": [
      "Fitting 5 folds for each of 9 candidates, totalling 45 fits\n",
      "[CV 1/5] END ...............max_features=4, n_estimators=290; total time=   0.5s\n",
      "[CV 2/5] END ...............max_features=4, n_estimators=290; total time=   0.5s\n",
      "[CV 3/5] END ...............max_features=4, n_estimators=290; total time=   0.5s\n",
      "[CV 4/5] END ...............max_features=4, n_estimators=290; total time=   0.5s\n",
      "[CV 5/5] END ...............max_features=4, n_estimators=290; total time=   0.5s\n",
      "[CV 1/5] END ...............max_features=4, n_estimators=300; total time=   0.6s\n",
      "[CV 2/5] END ...............max_features=4, n_estimators=300; total time=   0.6s\n",
      "[CV 3/5] END ...............max_features=4, n_estimators=300; total time=   0.5s\n",
      "[CV 4/5] END ...............max_features=4, n_estimators=300; total time=   0.5s\n",
      "[CV 5/5] END ...............max_features=4, n_estimators=300; total time=   0.5s\n",
      "[CV 1/5] END ...............max_features=4, n_estimators=310; total time=   0.6s\n",
      "[CV 2/5] END ...............max_features=4, n_estimators=310; total time=   0.6s\n",
      "[CV 3/5] END ...............max_features=4, n_estimators=310; total time=   0.6s\n",
      "[CV 4/5] END ...............max_features=4, n_estimators=310; total time=   0.6s\n",
      "[CV 5/5] END ...............max_features=4, n_estimators=310; total time=   0.6s\n",
      "[CV 1/5] END ...............max_features=6, n_estimators=290; total time=   0.6s\n",
      "[CV 2/5] END ...............max_features=6, n_estimators=290; total time=   0.6s\n",
      "[CV 3/5] END ...............max_features=6, n_estimators=290; total time=   0.6s\n",
      "[CV 4/5] END ...............max_features=6, n_estimators=290; total time=   0.6s\n",
      "[CV 5/5] END ...............max_features=6, n_estimators=290; total time=   0.6s\n",
      "[CV 1/5] END ...............max_features=6, n_estimators=300; total time=   0.6s\n",
      "[CV 2/5] END ...............max_features=6, n_estimators=300; total time=   0.6s\n",
      "[CV 3/5] END ...............max_features=6, n_estimators=300; total time=   0.6s\n",
      "[CV 4/5] END ...............max_features=6, n_estimators=300; total time=   0.6s\n",
      "[CV 5/5] END ...............max_features=6, n_estimators=300; total time=   0.6s\n",
      "[CV 1/5] END ...............max_features=6, n_estimators=310; total time=   0.6s\n",
      "[CV 2/5] END ...............max_features=6, n_estimators=310; total time=   0.6s\n",
      "[CV 3/5] END ...............max_features=6, n_estimators=310; total time=   0.6s\n",
      "[CV 4/5] END ...............max_features=6, n_estimators=310; total time=   0.6s\n",
      "[CV 5/5] END ...............max_features=6, n_estimators=310; total time=   0.6s\n",
      "[CV 1/5] END ...............max_features=8, n_estimators=290; total time=   0.6s\n",
      "[CV 2/5] END ...............max_features=8, n_estimators=290; total time=   0.6s\n",
      "[CV 3/5] END ...............max_features=8, n_estimators=290; total time=   0.6s\n",
      "[CV 4/5] END ...............max_features=8, n_estimators=290; total time=   0.6s\n",
      "[CV 5/5] END ...............max_features=8, n_estimators=290; total time=   0.6s\n",
      "[CV 1/5] END ...............max_features=8, n_estimators=300; total time=   0.6s\n",
      "[CV 2/5] END ...............max_features=8, n_estimators=300; total time=   0.6s\n",
      "[CV 3/5] END ...............max_features=8, n_estimators=300; total time=   0.6s\n",
      "[CV 4/5] END ...............max_features=8, n_estimators=300; total time=   0.6s\n",
      "[CV 5/5] END ...............max_features=8, n_estimators=300; total time=   0.6s\n",
      "[CV 1/5] END ...............max_features=8, n_estimators=310; total time=   0.7s\n",
      "[CV 2/5] END ...............max_features=8, n_estimators=310; total time=   0.6s\n",
      "[CV 3/5] END ...............max_features=8, n_estimators=310; total time=   0.6s\n",
      "[CV 4/5] END ...............max_features=8, n_estimators=310; total time=   0.6s\n",
      "[CV 5/5] END ...............max_features=8, n_estimators=310; total time=   0.6s\n"
     ]
    },
    {
     "data": {
      "text/plain": [
       "GridSearchCV(cv=5, estimator=RandomForestClassifier(random_state=42),\n",
       "             param_grid=[{'max_features': [4, 6, 8],\n",
       "                          'n_estimators': [290, 300, 310]}],\n",
       "             return_train_score=True, scoring='accuracy', verbose=3)"
      ]
     },
     "execution_count": 43,
     "metadata": {},
     "output_type": "execute_result"
    }
   ],
   "source": [
    "grid_search2.fit(titanic_prepared,titanic_labels)"
   ]
  },
  {
   "cell_type": "code",
   "execution_count": 44,
   "id": "crucial-buddy",
   "metadata": {
    "execution": {
     "iopub.execute_input": "2021-06-11T11:20:46.637917Z",
     "iopub.status.busy": "2021-06-11T11:20:46.637333Z",
     "iopub.status.idle": "2021-06-11T11:20:46.640672Z",
     "shell.execute_reply": "2021-06-11T11:20:46.641045Z",
     "shell.execute_reply.started": "2021-06-11T11:00:58.413982Z"
    },
    "papermill": {
     "duration": 0.066809,
     "end_time": "2021-06-11T11:20:46.641200",
     "exception": false,
     "start_time": "2021-06-11T11:20:46.574391",
     "status": "completed"
    },
    "tags": []
   },
   "outputs": [
    {
     "data": {
      "text/plain": [
       "{'max_features': 6, 'n_estimators': 300}"
      ]
     },
     "execution_count": 44,
     "metadata": {},
     "output_type": "execute_result"
    }
   ],
   "source": [
    "grid_search2.best_params_"
   ]
  },
  {
   "cell_type": "code",
   "execution_count": 45,
   "id": "celtic-guitar",
   "metadata": {
    "execution": {
     "iopub.execute_input": "2021-06-11T11:20:46.762674Z",
     "iopub.status.busy": "2021-06-11T11:20:46.762083Z",
     "iopub.status.idle": "2021-06-11T11:20:46.765067Z",
     "shell.execute_reply": "2021-06-11T11:20:46.764173Z",
     "shell.execute_reply.started": "2021-06-11T11:00:58.423705Z"
    },
    "papermill": {
     "duration": 0.065407,
     "end_time": "2021-06-11T11:20:46.765194",
     "exception": false,
     "start_time": "2021-06-11T11:20:46.699787",
     "status": "completed"
    },
    "tags": []
   },
   "outputs": [
    {
     "name": "stdout",
     "output_type": "stream",
     "text": [
      "0.8121627626483845 {'max_features': 4, 'n_estimators': 290}\n",
      "0.8121627626483845 {'max_features': 4, 'n_estimators': 300}\n",
      "0.8110328191455596 {'max_features': 4, 'n_estimators': 310}\n",
      "0.8166825366596839 {'max_features': 6, 'n_estimators': 290}\n",
      "0.8178061321653018 {'max_features': 6, 'n_estimators': 300}\n",
      "0.815552593156859 {'max_features': 6, 'n_estimators': 310}\n",
      "0.8099282676315622 {'max_features': 8, 'n_estimators': 290}\n",
      "0.812181806640005 {'max_features': 8, 'n_estimators': 300}\n",
      "0.813305402145623 {'max_features': 8, 'n_estimators': 310}\n"
     ]
    }
   ],
   "source": [
    "cvres = grid_search2.cv_results_\n",
    "for mean_score, params in zip(cvres[\"mean_test_score\"], cvres[\"params\"]):\n",
    "    print(mean_score,params)"
   ]
  },
  {
   "cell_type": "markdown",
   "id": "atmospheric-adobe",
   "metadata": {
    "papermill": {
     "duration": 0.058411,
     "end_time": "2021-06-11T11:20:46.882792",
     "exception": false,
     "start_time": "2021-06-11T11:20:46.824381",
     "status": "completed"
    },
    "tags": []
   },
   "source": [
    "The SVM classifier performed the better than with an mean accuracy score of **82.8%**; where as the Random Forest Classifier had score of **81.8%**."
   ]
  },
  {
   "cell_type": "code",
   "execution_count": 46,
   "id": "touched-interaction",
   "metadata": {
    "execution": {
     "iopub.execute_input": "2021-06-11T11:20:47.004536Z",
     "iopub.status.busy": "2021-06-11T11:20:47.003904Z",
     "iopub.status.idle": "2021-06-11T11:20:47.006757Z",
     "shell.execute_reply": "2021-06-11T11:20:47.006252Z",
     "shell.execute_reply.started": "2021-06-11T11:00:58.440518Z"
    },
    "papermill": {
     "duration": 0.065323,
     "end_time": "2021-06-11T11:20:47.006882",
     "exception": false,
     "start_time": "2021-06-11T11:20:46.941559",
     "status": "completed"
    },
    "tags": []
   },
   "outputs": [],
   "source": [
    "best_clf=grid_search.best_estimator_"
   ]
  },
  {
   "cell_type": "code",
   "execution_count": 47,
   "id": "entertaining-integration",
   "metadata": {
    "execution": {
     "iopub.execute_input": "2021-06-11T11:20:47.130010Z",
     "iopub.status.busy": "2021-06-11T11:20:47.129454Z",
     "iopub.status.idle": "2021-06-11T11:20:47.132743Z",
     "shell.execute_reply": "2021-06-11T11:20:47.132166Z",
     "shell.execute_reply.started": "2021-06-11T11:00:58.449172Z"
    },
    "papermill": {
     "duration": 0.065834,
     "end_time": "2021-06-11T11:20:47.132872",
     "exception": false,
     "start_time": "2021-06-11T11:20:47.067038",
     "status": "completed"
    },
    "tags": []
   },
   "outputs": [
    {
     "data": {
      "text/plain": [
       "SVC()"
      ]
     },
     "execution_count": 47,
     "metadata": {},
     "output_type": "execute_result"
    }
   ],
   "source": [
    "best_clf"
   ]
  },
  {
   "cell_type": "markdown",
   "id": "comprehensive-bench",
   "metadata": {
    "execution": {
     "iopub.execute_input": "2021-06-09T14:10:30.370808Z",
     "iopub.status.busy": "2021-06-09T14:10:30.370378Z",
     "iopub.status.idle": "2021-06-09T14:10:30.378384Z",
     "shell.execute_reply": "2021-06-09T14:10:30.377602Z",
     "shell.execute_reply.started": "2021-06-09T14:10:30.370764Z"
    },
    "papermill": {
     "duration": 0.059262,
     "end_time": "2021-06-11T11:20:47.251066",
     "exception": false,
     "start_time": "2021-06-11T11:20:47.191804",
     "status": "completed"
    },
    "tags": []
   },
   "source": [
    "# Results"
   ]
  },
  {
   "cell_type": "code",
   "execution_count": 48,
   "id": "subjective-bobby",
   "metadata": {
    "execution": {
     "iopub.execute_input": "2021-06-11T11:20:47.380888Z",
     "iopub.status.busy": "2021-06-11T11:20:47.380299Z",
     "iopub.status.idle": "2021-06-11T11:20:47.384119Z",
     "shell.execute_reply": "2021-06-11T11:20:47.383597Z",
     "shell.execute_reply.started": "2021-06-11T11:06:21.845795Z"
    },
    "papermill": {
     "duration": 0.073894,
     "end_time": "2021-06-11T11:20:47.384242",
     "exception": false,
     "start_time": "2021-06-11T11:20:47.310348",
     "status": "completed"
    },
    "tags": []
   },
   "outputs": [],
   "source": [
    "test_dropped = test_data.drop([\"Cabin\",\"Ticket\",\"Name\"], axis=1)\n",
    "test_prepared = full_pipeline.transform(test_dropped)"
   ]
  },
  {
   "cell_type": "code",
   "execution_count": 49,
   "id": "blind-series",
   "metadata": {
    "execution": {
     "iopub.execute_input": "2021-06-11T11:20:47.510636Z",
     "iopub.status.busy": "2021-06-11T11:20:47.510034Z",
     "iopub.status.idle": "2021-06-11T11:20:47.529903Z",
     "shell.execute_reply": "2021-06-11T11:20:47.529391Z",
     "shell.execute_reply.started": "2021-06-11T11:06:22.804997Z"
    },
    "papermill": {
     "duration": 0.086874,
     "end_time": "2021-06-11T11:20:47.530039",
     "exception": false,
     "start_time": "2021-06-11T11:20:47.443165",
     "status": "completed"
    },
    "tags": []
   },
   "outputs": [
    {
     "name": "stdout",
     "output_type": "stream",
     "text": [
      "Your submission was successfully saved!\n"
     ]
    }
   ],
   "source": [
    "predictions = best_clf.predict(test_prepared)\n",
    "\n",
    "output = pd.DataFrame({'PassengerId': test_data.index, 'Survived': predictions})\n",
    "output.to_csv('my_submission.csv', index=False)\n",
    "print(\"Your submission was successfully saved!\")"
   ]
  },
  {
   "cell_type": "markdown",
   "id": "second-vegetable",
   "metadata": {
    "papermill": {
     "duration": 0.05923,
     "end_time": "2021-06-11T11:20:47.649845",
     "exception": false,
     "start_time": "2021-06-11T11:20:47.590615",
     "status": "completed"
    },
    "tags": []
   },
   "source": [
    "Using the Support Vector Machine (SVM) classifier to be the best so far, acheiving an accuracy of **77.5%** on the test set."
   ]
  }
 ],
 "metadata": {
  "kernelspec": {
   "display_name": "Python 3",
   "language": "python",
   "name": "python3"
  },
  "language_info": {
   "codemirror_mode": {
    "name": "ipython",
    "version": 3
   },
   "file_extension": ".py",
   "mimetype": "text/x-python",
   "name": "python",
   "nbconvert_exporter": "python",
   "pygments_lexer": "ipython3",
   "version": "3.7.9"
  },
  "papermill": {
   "default_parameters": {},
   "duration": 49.230761,
   "end_time": "2021-06-11T11:20:48.418259",
   "environment_variables": {},
   "exception": null,
   "input_path": "__notebook__.ipynb",
   "output_path": "__notebook__.ipynb",
   "parameters": {},
   "start_time": "2021-06-11T11:19:59.187498",
   "version": "2.3.2"
  }
 },
 "nbformat": 4,
 "nbformat_minor": 5
}
